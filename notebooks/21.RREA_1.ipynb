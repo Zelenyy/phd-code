{
 "cells": [
  {
   "cell_type": "markdown",
   "metadata": {
    "collapsed": true,
    "pycharm": {
     "name": "#%% md\n"
    }
   },
   "source": [
    "# План симуляций\n",
    "0. Превышение критической энергии, условие  возникновения лавины.\n",
    "1. Симуляции паратметров электронной лавины без учета гамма-квантов\n",
    "2. Расчет длинны нарастания лавины для разных высот и полей (делая поправку для поля на высоту)\n",
    "3. Расчет средней энергии электронов, спектра электронов, зависимости от начальной энергии\n",
    "\n",
    "\n"
   ]
  },
  {
   "cell_type": "code",
   "execution_count": 1,
   "outputs": [],
   "source": [
    "from dataclasses import dataclass\n",
    "import numpy as np\n",
    "import matplotlib.pyplot as plt\n",
    "import tables\n",
    "import matplotlib as mpl"
   ],
   "metadata": {
    "collapsed": false,
    "pycharm": {
     "name": "#%%\n"
    }
   }
  },
  {
   "cell_type": "code",
   "execution_count": 2,
   "outputs": [],
   "source": [
    "path = \"/home/zelenyy/data/thunderstorm/test/result.hdf5\"\n",
    "# path = \"/mnt/storage2/phd/data/thunderstorm/critical_energy/result.hdf5\""
   ],
   "metadata": {
    "collapsed": false,
    "pycharm": {
     "name": "#%%\n"
    }
   }
  },
  {
   "cell_type": "code",
   "execution_count": 8,
   "outputs": [
    {
     "name": "stdout",
     "output_type": "stream",
     "text": [
      "/sim0000/stacking_simple._v_attrs (AttributeSet), 32 attributes:\n",
      "   [CLASS := 'TABLE',\n",
      "    FIELD_0_FILL := 0,\n",
      "    FIELD_0_NAME := 'event',\n",
      "    FIELD_1_FILL := 0,\n",
      "    FIELD_1_NAME := 'id',\n",
      "    FIELD_2_FILL := 0,\n",
      "    FIELD_2_NAME := 'parent_id',\n",
      "    FIELD_3_FILL := 0,\n",
      "    FIELD_3_NAME := 'particle',\n",
      "    FIELD_4_FILL := 0.0,\n",
      "    FIELD_4_NAME := 'energy',\n",
      "    FIELD_5_FILL := 0.0,\n",
      "    FIELD_5_NAME := 'theta',\n",
      "    FIELD_6_FILL := 0.0,\n",
      "    FIELD_6_NAME := 'radius',\n",
      "    FIELD_7_FILL := 0.0,\n",
      "    FIELD_7_NAME := 'z',\n",
      "    FIELD_8_FILL := 0.0,\n",
      "    FIELD_8_NAME := 'time',\n",
      "    NROWS := 8397,\n",
      "    TITLE := '',\n",
      "    VERSION := '2.7',\n",
      "    path := 'sim0000',\n",
      "    text := '/npm/geometry/type gdml\\n/npm/geometry/gdml .././gdml/0.gdml\\n/npm/thunderstorm/physics standard_opt_4\\n/npm/thunderstorm/minimal_energy 0.10220286877494192 MeV\\n/npm/thunderstorm/stacking/electron false\\n/npm/thunderstorm/stacking/positron false\\n/npm/thunderstorm/stacking/gamma false\\n/npm/thunderstorm/stacking/save_gamma false\\n/npm/thunderstorm/stacking/save_electron true\\n/npm/thunderstorm/stacking/save_electron_cut 0.10220286877494192 MeV\\n\\n/gps/particle e-\\n/gps/number 1\\n/gps/direction 0 0 -1\\n/gps/ene/mono 0.10220286877494192 MeV\\n/gps/position 0.0 0.0 499.0 m\\n/run/beamOn 100\\nexit\\n',\n",
      "    values_gdml_field := [0.00030000000000000003],\n",
      "    values_gdml_height := [0.0],\n",
      "    values_macros_energy := 0.10220286877494192,\n",
      "    values_macros_min_energy := 0.10220286877494192,\n",
      "    values_macros_number := 100,\n",
      "    values_macros_path := '.././gdml/0.gdml',\n",
      "    values_macros_physics := 'standard_opt_4',\n",
      "    values_time := 8.916742393994355]\n"
     ]
    }
   ],
   "source": [
    "with tables.open_file(path) as h5file:\n",
    "    # print(h5file)\n",
    "    for group in h5file.root:\n",
    "        # print(group._v_name)\n",
    "        table = h5file.get_node(group, \"stacking_simple\")\n",
    "        # print(table.nrows)\n",
    "        print(repr(table.attrs))\n",
    "        # data = table.read()\n",
    "        break"
   ],
   "metadata": {
    "collapsed": false,
    "pycharm": {
     "name": "#%%\n"
    }
   }
  },
  {
   "cell_type": "code",
   "execution_count": null,
   "outputs": [],
   "source": [
    "bins = np.arange(0.001, 2, 0.001)\n"
   ],
   "metadata": {
    "collapsed": false,
    "pycharm": {
     "name": "#%%\n"
    }
   }
  },
  {
   "cell_type": "code",
   "execution_count": 4,
   "outputs": [],
   "source": [
    "@dataclass\n",
    "class CEData:\n",
    "    number : int\n",
    "    energy : float\n",
    "    hist : np.ndarray\n",
    "\n",
    "def select_data(table, field, height):\n",
    "    m_field = table.attrs[\"values_gdml_field\"][0]\n",
    "    m_height = table.attrs[\"values_gdml_height\"][0]\n",
    "    return np.isclose([m_field, m_height], [field, height]).all()\n",
    "\n",
    "def get_data(path, field = 0.0, height = 0.0):\n",
    "    result = []\n",
    "    bins = np.arange(0.001, 2, 0.001)\n",
    "    with tables.open_file(path) as h5file:\n",
    "        for group in h5file.root:\n",
    "            table = h5file.get_node(group, \"stacking_simple\")\n",
    "            if select_data(table, field, height):\n",
    "                data = table.read()\n",
    "                energy =  table.attrs[\"values_macros_energy\"]\n",
    "                number =  table.attrs[\"values_macros_number\"]\n",
    "                hist, _ = np.histogram(data[\"energy\"], bins=bins)\n",
    "                result.append(CEData(number, energy, hist))\n",
    "    return result, bins"
   ],
   "metadata": {
    "collapsed": false,
    "pycharm": {
     "name": "#%%\n"
    }
   }
  },
  {
   "cell_type": "code",
   "execution_count": 9,
   "outputs": [],
   "source": [
    "ce_list, bins = get_data(path, field=0.00030000000000000003)"
   ],
   "metadata": {
    "collapsed": false,
    "pycharm": {
     "name": "#%%\n"
    }
   }
  },
  {
   "cell_type": "code",
   "execution_count": 10,
   "outputs": [],
   "source": [
    "ce_list = sorted(ce_list, key=lambda x: x.energy)"
   ],
   "metadata": {
    "collapsed": false,
    "pycharm": {
     "name": "#%%\n"
    }
   }
  },
  {
   "cell_type": "code",
   "execution_count": 11,
   "outputs": [
    {
     "data": {
      "text/plain": "<Figure size 432x288 with 1 Axes>",
      "image/png": "[encoded data removed]"
     },
     "metadata": {
      "needs_background": "light"
     },
     "output_type": "display_data"
    }
   ],
   "source": [
    "for item in ce_list:\n",
    "    plt.step(bins[:-1], item.hist)"
   ],
   "metadata": {
    "collapsed": false,
    "pycharm": {
     "name": "#%%\n"
    }
   }
  },
  {
   "cell_type": "code",
   "execution_count": 12,
   "outputs": [
    {
     "name": "stdout",
     "output_type": "stream",
     "text": [
      "79.86 0\n",
      "68.07 1\n",
      "89.99 2\n",
      "100.51 3\n",
      "96.18 4\n",
      "98.94 5\n",
      "88.9 6\n",
      "101.45 7\n",
      "106.35 8\n",
      "103.53 9\n",
      "107.26 10\n",
      "101.54 11\n",
      "106.77 12\n",
      "114.34 13\n",
      "107.86 14\n",
      "114.07 15\n",
      "109.81 16\n",
      "115.8 17\n",
      "106.98 18\n",
      "111.38 19\n",
      "116.74 20\n",
      "114.67 21\n",
      "115.76 22\n",
      "114.34 23\n",
      "114.95 24\n",
      "117.02 25\n",
      "113.99 26\n",
      "111.22 27\n",
      "116.27 28\n",
      "120.65 29\n",
      "120.5 30\n",
      "117.07 31\n",
      "117.5 32\n",
      "119.6 33\n",
      "116.36 34\n",
      "117.33 35\n",
      "118.43 36\n",
      "115.26 37\n",
      "117.67 38\n",
      "116.91 39\n",
      "118.5 40\n",
      "119.42 41\n",
      "118.51 42\n",
      "120.45 43\n",
      "118.5 44\n",
      "120.67 45\n",
      "119.03 46\n",
      "116.21 47\n",
      "117.93 48\n",
      "116.74 49\n",
      "119.45 50\n",
      "119.29 51\n",
      "117.85 52\n",
      "114.88 53\n",
      "118.65 54\n",
      "115.35 55\n",
      "116.93 56\n",
      "118.76 57\n",
      "115.05 58\n",
      "119.03 59\n",
      "119.02 60\n",
      "117.2 61\n"
     ]
    }
   ],
   "source": [
    "for item in ce_list:\n",
    "    print(item.hist.sum()/item.number, ce_list.index(item))"
   ],
   "metadata": {
    "collapsed": false,
    "pycharm": {
     "name": "#%%\n"
    }
   }
  },
  {
   "cell_type": "code",
   "execution_count": 65,
   "outputs": [
    {
     "data": {
      "text/plain": "<matplotlib.collections.LineCollection at 0x7f6c203231d0>"
     },
     "execution_count": 65,
     "metadata": {},
     "output_type": "execute_result"
    },
    {
     "data": {
      "text/plain": "<Figure size 432x288 with 1 Axes>",
      "image/png": "[encoded data removed]"
     },
     "metadata": {
      "needs_background": "light"
     },
     "output_type": "display_data"
    }
   ],
   "source": [
    "item = ce_list[-1]\n",
    "n = 100\n",
    "plt.step(bins[:-1], item.hist/item.number)\n",
    "plt.vlines(item.energy, 0, 0.12)"
   ],
   "metadata": {
    "collapsed": false,
    "pycharm": {
     "name": "#%%\n"
    }
   }
  },
  {
   "cell_type": "code",
   "execution_count": 3,
   "outputs": [],
   "source": [
    "def get_data_event(path, field = 0.0, height = 0.0):\n",
    "    result = []\n",
    "    with tables.open_file(path) as h5file:\n",
    "        for group in h5file.root:\n",
    "            table = h5file.get_node(group, \"stacking_simple\")\n",
    "            if select_data(table, field, height):\n",
    "                data = table.read()\n",
    "                energy =  table.attrs[\"values_macros_energy\"]\n",
    "                number =  table.attrs[\"values_macros_number\"]\n",
    "                _, temp  = np.unique(data[\"event\"], return_counts=True)\n",
    "                result.append(CEData(number, energy, temp))\n",
    "    return result"
   ],
   "metadata": {
    "collapsed": false,
    "pycharm": {
     "name": "#%%\n"
    }
   }
  },
  {
   "cell_type": "code",
   "execution_count": 11,
   "outputs": [],
   "source": [
    "event_list = get_data_event(path, field=9e-4)"
   ],
   "metadata": {
    "collapsed": false,
    "pycharm": {
     "name": "#%%\n"
    }
   }
  },
  {
   "cell_type": "code",
   "execution_count": 14,
   "outputs": [
    {
     "data": {
      "text/plain": "[<matplotlib.lines.Line2D at 0x7f1b99ace3d0>]"
     },
     "execution_count": 14,
     "metadata": {},
     "output_type": "execute_result"
    },
    {
     "data": {
      "text/plain": "<Figure size 432x288 with 1 Axes>",
      "image/png": "[encoded data removed]"
     },
     "metadata": {
      "needs_background": "light"
     },
     "output_type": "display_data"
    }
   ],
   "source": [
    "item = event_list[28]\n",
    "plt.plot(item.hist)"
   ],
   "metadata": {
    "collapsed": false,
    "pycharm": {
     "name": "#%%\n"
    }
   }
  },
  {
   "cell_type": "code",
   "execution_count": 13,
   "outputs": [],
   "source": [
    "def get_data_z(path, field = 0.0, height = 0.0):\n",
    "    result = []\n",
    "    bins = np.arange(-500.0, 501, 1)\n",
    "    with tables.open_file(path) as h5file:\n",
    "        for group in h5file.root:\n",
    "            table = h5file.get_node(group, \"stacking_simple\")\n",
    "            if select_data(table, field, height):\n",
    "                data = table.read()\n",
    "                energy =  table.attrs[\"values_macros_energy\"]\n",
    "                number =  table.attrs[\"values_macros_number\"]\n",
    "                temp, _ = np.histogram(data[\"z\"], bins=bins)\n",
    "                temp = np.cumsum(temp)\n",
    "                result.append(CEData(number, energy, temp))\n",
    "    return result"
   ],
   "metadata": {
    "collapsed": false,
    "pycharm": {
     "name": "#%%\n"
    }
   }
  },
  {
   "cell_type": "code",
   "execution_count": 17,
   "outputs": [],
   "source": [
    "z_list = get_data_z(path, field=11e-4)\n"
   ],
   "metadata": {
    "collapsed": false,
    "pycharm": {
     "name": "#%%\n"
    }
   }
  },
  {
   "cell_type": "code",
   "execution_count": 18,
   "outputs": [
    {
     "data": {
      "text/plain": "<Figure size 432x288 with 1 Axes>",
      "image/png": "[encoded data removed]"
     },
     "metadata": {
      "needs_background": "light"
     },
     "output_type": "display_data"
    }
   ],
   "source": [
    "bins = np.arange(-500.0, 501, 1)\n",
    "for item in z_list:\n",
    "    plt.step(bins[:-1], item.hist/item.number)"
   ],
   "metadata": {
    "collapsed": false,
    "pycharm": {
     "name": "#%%\n"
    }
   }
  },
  {
   "cell_type": "code",
   "execution_count": 19,
   "outputs": [
    {
     "data": {
      "text/plain": "[<matplotlib.lines.Line2D at 0x7fc88cf55e50>]"
     },
     "execution_count": 19,
     "metadata": {},
     "output_type": "execute_result"
    },
    {
     "data": {
      "text/plain": "<Figure size 432x288 with 1 Axes>",
      "image/png": "[encoded data removed]"
     },
     "metadata": {
      "needs_background": "light"
     },
     "output_type": "display_data"
    }
   ],
   "source": [
    "from scipy.linalg import lstsq\n",
    "\n",
    "bins = np.arange(-500.0, 501, 1)\n",
    "energy = []\n",
    "k = []\n",
    "for item in z_list:\n",
    "    x = bins[:-1]\n",
    "    y = item.hist/item.number\n",
    "    M = x[:, np.newaxis]**[0, 1]\n",
    "    p, res, rnk, s = lstsq(M, y)\n",
    "    energy.append(item.energy)\n",
    "    k.append(p[1])\n",
    "plt.plot(energy, k, \"o\")"
   ],
   "metadata": {
    "collapsed": false,
    "pycharm": {
     "name": "#%%\n"
    }
   }
  },
  {
   "cell_type": "code",
   "execution_count": 20,
   "outputs": [],
   "source": [
    "path = \"/mnt/storage2/phd/data/thunderstorm/critical_energy/critical_energy.npy\"\n",
    "path = \"/mnt/storage2/phd/data/thunderstorm/critical_energy/critical_energy_simple.npy\"\n",
    "#"
   ],
   "metadata": {
    "collapsed": false,
    "pycharm": {
     "name": "#%%\n"
    }
   }
  },
  {
   "cell_type": "code",
   "execution_count": 26,
   "outputs": [],
   "source": [
    "data = np.load(path)"
   ],
   "metadata": {
    "collapsed": false,
    "pycharm": {
     "name": "#%%\n"
    }
   }
  },
  {
   "cell_type": "code",
   "execution_count": 27,
   "outputs": [],
   "source": [
    "indx = np.logical_and(data[\"height\"] == 5000.0, np.ma.masked_values(data[\"field\"], 6.33333333e-04).mask)"
   ],
   "metadata": {
    "collapsed": false,
    "pycharm": {
     "name": "#%%\n"
    }
   }
  },
  {
   "cell_type": "code",
   "execution_count": 28,
   "outputs": [
    {
     "data": {
      "text/plain": "[<matplotlib.lines.Line2D at 0x7feeb9410650>]"
     },
     "execution_count": 28,
     "metadata": {},
     "output_type": "execute_result"
    },
    {
     "data": {
      "text/plain": "<Figure size 432x288 with 1 Axes>",
      "image/png": "[encoded data removed]"
     },
     "metadata": {
      "needs_background": "light"
     },
     "output_type": "display_data"
    }
   ],
   "source": [
    "plt.plot(data[\"energy\"][indx], data[\"k\"][indx], \".\")"
   ],
   "metadata": {
    "collapsed": false,
    "pycharm": {
     "name": "#%%\n"
    }
   }
  },
  {
   "cell_type": "code",
   "execution_count": 17,
   "outputs": [],
   "source": [
    "x = data[\"energy\"][indx]\n",
    "y =  data[\"k\"][indx]"
   ],
   "metadata": {
    "collapsed": false,
    "pycharm": {
     "name": "#%%\n"
    }
   }
  },
  {
   "cell_type": "code",
   "execution_count": 7,
   "outputs": [],
   "source": [
    "import pandas as pd"
   ],
   "metadata": {
    "collapsed": false,
    "pycharm": {
     "name": "#%%\n"
    }
   }
  },
  {
   "cell_type": "code",
   "execution_count": 8,
   "outputs": [],
   "source": [
    "df = pd.DataFrame(data)"
   ],
   "metadata": {
    "collapsed": false,
    "pycharm": {
     "name": "#%%\n"
    }
   }
  },
  {
   "cell_type": "code",
   "execution_count": 13,
   "outputs": [
    {
     "data": {
      "text/plain": "array([(    0., 3.00000000e-04), (    0., 3.88888889e-04),\n       (    0., 4.77777778e-04), (    0., 5.66666667e-04),\n       (    0., 6.55555556e-04), (    0., 7.44444444e-04),\n       (    0., 8.33333333e-04), (    0., 9.22222222e-04),\n       (    0., 1.01111111e-03), (    0., 1.10000000e-03),\n       ( 1000., 2.00000000e-04), ( 1000., 2.88888889e-04),\n       ( 1000., 3.77777778e-04), ( 1000., 4.66666667e-04),\n       ( 1000., 5.55555556e-04), ( 1000., 6.44444444e-04),\n       ( 1000., 7.33333333e-04), ( 1000., 8.22222222e-04),\n       ( 1000., 9.11111111e-04), ( 1000., 1.00000000e-03),\n       ( 2000., 2.00000000e-04), ( 2000., 2.77777778e-04),\n       ( 2000., 3.55555556e-04), ( 2000., 4.33333333e-04),\n       ( 2000., 5.11111111e-04), ( 2000., 5.88888889e-04),\n       ( 2000., 6.66666667e-04), ( 2000., 7.44444444e-04),\n       ( 2000., 8.22222222e-04), ( 2000., 9.00000000e-04),\n       ( 3000., 2.00000000e-04), ( 3000., 2.77777778e-04),\n       ( 3000., 3.55555556e-04), ( 3000., 4.33333333e-04),\n       ( 3000., 5.11111111e-04), ( 3000., 5.88888889e-04),\n       ( 3000., 6.66666667e-04), ( 3000., 7.44444444e-04),\n       ( 3000., 8.22222222e-04), ( 3000., 9.00000000e-04),\n       ( 4000., 1.77777778e-04), ( 4000., 2.55555556e-04),\n       ( 4000., 3.33333333e-04), ( 4000., 4.11111111e-04),\n       ( 4000., 4.88888889e-04), ( 4000., 5.66666667e-04),\n       ( 4000., 6.44444444e-04), ( 4000., 7.22222222e-04),\n       ( 4000., 8.00000000e-04), ( 5000., 1.66666667e-04),\n       ( 5000., 2.33333333e-04), ( 5000., 3.00000000e-04),\n       ( 5000., 3.66666667e-04), ( 5000., 4.33333333e-04),\n       ( 5000., 5.00000000e-04), ( 5000., 5.66666667e-04),\n       ( 5000., 6.33333333e-04), ( 5000., 7.00000000e-04),\n       ( 6000., 1.55555556e-04), ( 6000., 2.11111111e-04),\n       ( 6000., 2.66666667e-04), ( 6000., 3.22222222e-04),\n       ( 6000., 3.77777778e-04), ( 6000., 4.33333333e-04),\n       ( 6000., 4.88888889e-04), ( 6000., 5.44444444e-04),\n       ( 6000., 6.00000000e-04), ( 7000., 1.00000000e-04),\n       ( 7000., 1.44444444e-04), ( 7000., 1.88888889e-04),\n       ( 7000., 2.33333333e-04), ( 7000., 2.77777778e-04),\n       ( 7000., 3.22222222e-04), ( 7000., 3.66666667e-04),\n       ( 7000., 4.11111111e-04), ( 7000., 4.55555556e-04),\n       ( 7000., 5.00000000e-04), ( 8000., 1.00000000e-04),\n       ( 8000., 1.44444444e-04), ( 8000., 1.88888889e-04),\n       ( 8000., 2.33333333e-04), ( 8000., 2.77777778e-04),\n       ( 8000., 3.22222222e-04), ( 8000., 3.66666667e-04),\n       ( 8000., 4.11111111e-04), ( 8000., 4.55555556e-04),\n       ( 8000., 5.00000000e-04), ( 9000., 8.88888889e-05),\n       ( 9000., 1.33333333e-04), ( 9000., 1.77777778e-04),\n       ( 9000., 2.22222222e-04), ( 9000., 2.66666667e-04),\n       ( 9000., 3.11111111e-04), ( 9000., 3.55555556e-04),\n       ( 9000., 4.00000000e-04), (10000., 8.88888889e-05),\n       (10000., 1.33333333e-04), (10000., 1.77777778e-04),\n       (10000., 2.22222222e-04), (10000., 2.66666667e-04),\n       (10000., 3.11111111e-04), (10000., 3.55555556e-04),\n       (10000., 4.00000000e-04), (11000., 6.66666667e-05),\n       (11000., 1.00000000e-04), (11000., 1.33333333e-04),\n       (11000., 1.66666667e-04), (11000., 2.00000000e-04),\n       (11000., 2.33333333e-04), (11000., 2.66666667e-04),\n       (11000., 3.00000000e-04), (12000., 6.66666667e-05),\n       (12000., 1.00000000e-04), (12000., 1.33333333e-04),\n       (12000., 1.66666667e-04), (12000., 2.00000000e-04),\n       (12000., 2.33333333e-04), (12000., 2.66666667e-04),\n       (12000., 3.00000000e-04), (13000., 4.44444444e-05),\n       (13000., 6.66666667e-05), (13000., 8.88888889e-05),\n       (13000., 1.11111111e-04), (13000., 1.33333333e-04),\n       (13000., 1.55555556e-04), (13000., 1.77777778e-04),\n       (13000., 2.00000000e-04), (14000., 4.44444444e-05),\n       (14000., 6.66666667e-05), (14000., 8.88888889e-05),\n       (14000., 1.11111111e-04), (14000., 1.33333333e-04),\n       (14000., 1.55555556e-04), (14000., 1.77777778e-04),\n       (14000., 2.00000000e-04), (15000., 2.22222222e-05),\n       (15000., 4.44444444e-05), (15000., 6.66666667e-05),\n       (15000., 8.88888889e-05), (15000., 1.11111111e-04),\n       (15000., 1.33333333e-04), (15000., 1.55555556e-04),\n       (15000., 1.77777778e-04), (15000., 2.00000000e-04)],\n      dtype={'names':['height','field'], 'formats':['<f8','<f8'], 'offsets':[8,0], 'itemsize':40})"
     },
     "execution_count": 13,
     "metadata": {},
     "output_type": "execute_result"
    }
   ],
   "source": [
    "np.unique(data[[\"height\",\"field\"]])"
   ],
   "metadata": {
    "collapsed": false,
    "pycharm": {
     "name": "#%%\n"
    }
   }
  },
  {
   "cell_type": "code",
   "execution_count": 30,
   "outputs": [],
   "source": [],
   "metadata": {
    "collapsed": false,
    "pycharm": {
     "name": "#%%\n"
    }
   }
  },
  {
   "cell_type": "code",
   "execution_count": 32,
   "outputs": [],
   "source": [
    "def get_data()\n",
    "    result = []\n",
    "    fh = np.unique(data[[\"height\", \"field\"]], axis=0)\n",
    "    for item in fh:\n",
    "        height, field = item\n",
    "        indx = np.logical_and(data[\"height\"] == height, data[\"field\"] == field)\n",
    "        x = data[\"energy\"][indx]\n",
    "        y =  data[\"k\"][indx]\n",
    "        indx = (y > 0.001).argmax()\n",
    "        result.append((height, field, x[indx]))"
   ],
   "metadata": {
    "collapsed": false,
    "pycharm": {
     "name": "#%%\n"
    }
   }
  },
  {
   "cell_type": "code",
   "execution_count": 33,
   "outputs": [],
   "source": [
    "from mpl_toolkits.mplot3d import Axes3D"
   ],
   "metadata": {
    "collapsed": false,
    "pycharm": {
     "name": "#%%\n"
    }
   }
  },
  {
   "cell_type": "code",
   "execution_count": 36,
   "outputs": [
    {
     "data": {
      "text/plain": "<Figure size 432x288 with 1 Axes>",
      "image/png": "[encoded data removed]"
     },
     "metadata": {
      "needs_background": "light"
     },
     "output_type": "display_data"
    }
   ],
   "source": [
    "data_scatter = np.array(result)\n",
    "heights = np.unique(fh[\"height\"])\n",
    "for height in heights:\n",
    "    indx = data_scatter[:, 0] == height\n",
    "    x = data_scatter[indx, 1]\n",
    "    y = data_scatter[indx, 2]\n",
    "    plt.plot(x,y)"
   ],
   "metadata": {
    "collapsed": false,
    "pycharm": {
     "name": "#%%\n"
    }
   }
  },
  {
   "cell_type": "code",
   "execution_count": 2,
   "outputs": [],
   "source": [
    "path_1 = \"/mnt/storage2/phd/data/thunderstorm/critical_energy/critical_energy.npy\"\n",
    "path_2 = \"/mnt/storage2/phd/data/thunderstorm/critical_energy/critical_energy_simple.npy\""
   ],
   "metadata": {
    "collapsed": false,
    "pycharm": {
     "name": "#%%\n"
    }
   }
  },
  {
   "cell_type": "markdown",
   "source": [
    "# Минимальное поле для убегания"
   ],
   "metadata": {
    "collapsed": false,
    "pycharm": {
     "name": "#%% md\n"
    }
   }
  },
  {
   "cell_type": "code",
   "execution_count": 6,
   "outputs": [],
   "source": [
    "path = \"/home/zelenyy/data/thunderstorm/test/result.hdf5\""
   ],
   "metadata": {
    "collapsed": false,
    "pycharm": {
     "name": "#%%\n"
    }
   }
  },
  {
   "cell_type": "code",
   "execution_count": 10,
   "outputs": [
    {
     "data": {
      "text/plain": "<Figure size 432x288 with 1 Axes>",
      "image/png": "[encoded data removed]"
     },
     "metadata": {
      "needs_background": "light"
     },
     "output_type": "display_data"
    }
   ],
   "source": [
    "bins = np.arange(-500.0, 501, 1)\n",
    "with tables.open_file(path) as h5file:\n",
    "    # print(h5file)\n",
    "    for group in h5file.root:\n",
    "        # print(group._v_name)\n",
    "        table = h5file.get_node(group, \"stacking_simple\")\n",
    "        data = table.read()\n",
    "        m_field = table.attrs[\"values_gdml_field\"][0]\n",
    "        m_height = table.attrs[\"values_gdml_height\"][0]\n",
    "        number =  table.attrs[\"values_macros_number\"]\n",
    "        temp, _ = np.histogram(data[\"z\"], bins=bins)\n",
    "        temp = np.cumsum(temp[::-1])/number\n",
    "\n",
    "        plt.plot(bins[:-1], temp)"
   ],
   "metadata": {
    "collapsed": false,
    "pycharm": {
     "name": "#%%\n"
    }
   }
  },
  {
   "cell_type": "code",
   "execution_count": 12,
   "outputs": [
    {
     "name": "stdout",
     "output_type": "stream",
     "text": [
      "0.0 0.00020470466951619406 60.3 0.10220286877494192\n",
      "0.0 0.0002108458096016799 37.7 0.10220286877494192\n",
      "0.0 0.0002169869496871657 49.6 0.10220286877494192\n",
      "0.0 0.00022312808977265153 17.7 0.10220286877494192\n",
      "0.0 0.00022926922985813737 41.6 0.10220286877494192\n",
      "0.0 0.0002354103699436232 37.9 0.10220286877494192\n",
      "0.0 0.00024155151002910904 45.6 0.10220286877494192\n",
      "0.0 0.00024769265011459485 13.7 0.10220286877494192\n",
      "0.0 0.0002538337902000807 42.5 0.10220286877494192\n",
      "0.0 0.0002599749302855665 25.8 0.10220286877494192\n",
      "0.0 0.00026611607037105235 38.6 0.10220286877494192\n",
      "0.0 0.0002722572104565382 27.4 0.10220286877494192\n",
      "0.0 0.000278398350542024 40.6 0.10220286877494192\n",
      "0.0 0.00028453949062750986 22.3 0.10220286877494192\n",
      "0.0 0.0002906806307129957 34.8 0.10220286877494192\n",
      "0.0 0.0002968217707984815 11.8 0.10220286877494192\n",
      "0.0 0.0003029629108839673 13.4 0.0625584577292022\n"
     ]
    }
   ],
   "source": [
    "bins = np.arange(-500.0, 501, 1)\n",
    "with tables.open_file(path) as h5file:\n",
    "    result = []\n",
    "    for group in h5file.root:\n",
    "        # print(group._v_name)\n",
    "        table = h5file.get_node(group, \"stacking_simple\")\n",
    "        data = table.read()\n",
    "        field = table.attrs[\"values_gdml_field\"][0]\n",
    "        height = table.attrs[\"values_gdml_height\"][0]\n",
    "        number =  table.attrs[\"values_macros_number\"]\n",
    "        ce = table.attrs[\"values_macros_min_energy\"]\n",
    "        result.append((height, field, table.nrows/number, ce))\n",
    "    result.sort(key=lambda x: x[1])\n",
    "\n",
    "for item in result:\n",
    "    print(*item)"
   ],
   "metadata": {
    "collapsed": false,
    "pycharm": {
     "name": "#%%\n"
    }
   }
  },
  {
   "cell_type": "code",
   "execution_count": null,
   "outputs": [],
   "source": [
    "import tables\n",
    "path = \"./result.hdf5\"\n",
    "\n",
    "with tables.open_file(path) as h5file:\n",
    "    # result = []\n",
    "    for group in h5file.root:\n",
    "        table = h5file.get_node(group, \"stacking_simple\")\n",
    "        field = table.attrs[\"values_gdml_field\"][0]\n",
    "        height = table.attrs[\"values_gdml_height\"][0]\n",
    "        nrows = table.nrows\n",
    "        if nrows>0:\n",
    "            print(\"{:.5f} {:.5f} {}\".format(height, field, nrows))\n"
   ],
   "metadata": {
    "collapsed": false,
    "pycharm": {
     "name": "#%%\n"
    }
   }
  }
 ],
 "metadata": {
  "kernelspec": {
   "display_name": "Python 3",
   "language": "python",
   "name": "python3"
  },
  "language_info": {
   "codemirror_mode": {
    "name": "ipython",
    "version": 2
   },
   "file_extension": ".py",
   "mimetype": "text/x-python",
   "name": "python",
   "nbconvert_exporter": "python",
   "pygments_lexer": "ipython2",
   "version": "2.7.6"
  }
 },
 "nbformat": 4,
 "nbformat_minor": 0
}