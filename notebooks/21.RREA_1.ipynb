{
 "cells": [
  {
   "cell_type": "markdown",
   "metadata": {
    "collapsed": true,
    "pycharm": {
     "name": "#%% md\n"
    }
   },
   "source": [
    "# План симуляций\n",
    "0. Превышение критической энергии, условие  возникновения лавины.\n",
    "1. Симуляции паратметров электронной лавины без учета гамма-квантов\n",
    "2. Расчет длинны нарастания лавины для разных высот и полей (делая поправку для поля на высоту)\n",
    "3. Расчет средней энергии электронов, спектра электронов, зависимости от начальной энергии\n",
    "\n",
    "\n"
   ]
  },
  {
   "cell_type": "code",
   "execution_count": 23,
   "outputs": [],
   "source": [
    "from dataclasses import dataclass\n",
    "import numpy as np\n",
    "import matplotlib.pyplot as plt\n",
    "import tables\n",
    "import matplotlib as mpl"
   ],
   "metadata": {
    "collapsed": false,
    "pycharm": {
     "name": "#%%\n"
    }
   }
  },
  {
   "cell_type": "code",
   "execution_count": 47,
   "outputs": [],
   "source": [
    "path = \"/home/zelenyy/data/thunderstorm/test/result.hdf5\"\n",
    "path = \"/mnt/storage2/phd/data/thunderstorm/critical_energy/result.hdf5\""
   ],
   "metadata": {
    "collapsed": false,
    "pycharm": {
     "name": "#%%\n"
    }
   }
  },
  {
   "cell_type": "code",
   "execution_count": 48,
   "outputs": [
    {
     "name": "stdout",
     "output_type": "stream",
     "text": [
      "/sim0000/stacking_simple._v_attrs (AttributeSet), 32 attributes:\n",
      "   [CLASS := 'TABLE',\n",
      "    FIELD_0_FILL := 0,\n",
      "    FIELD_0_NAME := 'event',\n",
      "    FIELD_1_FILL := 0,\n",
      "    FIELD_1_NAME := 'id',\n",
      "    FIELD_2_FILL := 0,\n",
      "    FIELD_2_NAME := 'parent_id',\n",
      "    FIELD_3_FILL := 0,\n",
      "    FIELD_3_NAME := 'particle',\n",
      "    FIELD_4_FILL := 0.0,\n",
      "    FIELD_4_NAME := 'energy',\n",
      "    FIELD_5_FILL := 0.0,\n",
      "    FIELD_5_NAME := 'theta',\n",
      "    FIELD_6_FILL := 0.0,\n",
      "    FIELD_6_NAME := 'radius',\n",
      "    FIELD_7_FILL := 0.0,\n",
      "    FIELD_7_NAME := 'z',\n",
      "    FIELD_8_FILL := 0.0,\n",
      "    FIELD_8_NAME := 'time',\n",
      "    NROWS := 8,\n",
      "    TITLE := '',\n",
      "    VERSION := '2.7',\n",
      "    path := 'sim0000',\n",
      "    text := '/npm/geometry/type gdml\\n/npm/geometry/gdml .././gdml/0.gdml\\n/npm/thunderstorm/physics standard_opt_4\\n/npm/thunderstorm/minimal_energy 0.10220286877494192 MeV\\n/npm/thunderstorm/stacking/electron false\\n/npm/thunderstorm/stacking/positron false\\n/npm/thunderstorm/stacking/gamma false\\n/npm/thunderstorm/stacking/save_gamma false\\n/npm/thunderstorm/stacking/save_electron true\\n/npm/thunderstorm/stacking/save_electron_cut 0.10220286877494192 MeV\\n\\n/gps/particle e-\\n/gps/number 1\\n/gps/direction 0 0 -1\\n/gps/ene/mono 0.10220286877494192 MeV\\n/gps/position 0.0 0.0 -499.0 m\\n/run/beamOn 100\\nexit\\n',\n",
      "    values_gdml_field := [0.00030000000000000003],\n",
      "    values_gdml_height := [0.0],\n",
      "    values_macros_energy := 0.10220286877494192,\n",
      "    values_macros_min_energy := 0.10220286877494192,\n",
      "    values_macros_number := 100,\n",
      "    values_macros_path := '.././gdml/0.gdml',\n",
      "    values_macros_physics := 'standard_opt_4',\n",
      "    values_time := 6.591360809281468]\n"
     ]
    }
   ],
   "source": [
    "with tables.open_file(path) as h5file:\n",
    "    # print(h5file)\n",
    "    for group in h5file.root:\n",
    "        table = h5file.get_node(group, \"stacking_simple\")\n",
    "        print(repr(table.attrs))\n",
    "        data = table.read()\n",
    "        break"
   ],
   "metadata": {
    "collapsed": false,
    "pycharm": {
     "name": "#%%\n"
    }
   }
  },
  {
   "cell_type": "code",
   "execution_count": 4,
   "outputs": [],
   "source": [
    "bins = np.arange(0.001, 2, 0.001)\n"
   ],
   "metadata": {
    "collapsed": false,
    "pycharm": {
     "name": "#%%\n"
    }
   }
  },
  {
   "cell_type": "code",
   "execution_count": 70,
   "outputs": [],
   "source": [
    "@dataclass\n",
    "class CEData:\n",
    "    number : int\n",
    "    energy : float\n",
    "    hist : np.ndarray\n",
    "\n",
    "def select_data(table, field, height):\n",
    "    m_field = table.attrs[\"values_gdml_field\"][0]\n",
    "    m_height = table.attrs[\"values_gdml_height\"][0]\n",
    "    return np.isclose([m_field, m_height], [field, height]).all()\n",
    "\n",
    "def get_data(path, field = 0.0, height = 0.0):\n",
    "    result = []\n",
    "    bins = np.arange(0.001, 2, 0.001)\n",
    "    with tables.open_file(path) as h5file:\n",
    "        for group in h5file.root:\n",
    "            table = h5file.get_node(group, \"stacking_simple\")\n",
    "            if select_data(table, field, height):\n",
    "                data = table.read()\n",
    "                energy =  table.attrs[\"values_macros_energy\"]\n",
    "                number =  table.attrs[\"values_macros_number\"]\n",
    "                hist, _ = np.histogram(data[\"energy\"], bins=bins)\n",
    "                result.append(CEData(number, energy, hist))\n",
    "    return result, bins"
   ],
   "metadata": {
    "collapsed": false,
    "pycharm": {
     "name": "#%%\n"
    }
   }
  },
  {
   "cell_type": "code",
   "execution_count": 60,
   "outputs": [],
   "source": [
    "ce_list, bins = get_data(path, field=9e-4)"
   ],
   "metadata": {
    "collapsed": false,
    "pycharm": {
     "name": "#%%\n"
    }
   }
  },
  {
   "cell_type": "code",
   "execution_count": 61,
   "outputs": [],
   "source": [
    "ce_list = sorted(ce_list, key=lambda x: x.energy)"
   ],
   "metadata": {
    "collapsed": false,
    "pycharm": {
     "name": "#%%\n"
    }
   }
  },
  {
   "cell_type": "code",
   "execution_count": 62,
   "outputs": [
    {
     "data": {
      "text/plain": "<Figure size 432x288 with 1 Axes>",
      "image/png": "[encoded data removed]"
     },
     "metadata": {
      "needs_background": "light"
     },
     "output_type": "display_data"
    }
   ],
   "source": [
    "for item in ce_list:\n",
    "    plt.step(bins[:-1], item.hist)"
   ],
   "metadata": {
    "collapsed": false,
    "pycharm": {
     "name": "#%%\n"
    }
   }
  },
  {
   "cell_type": "code",
   "execution_count": 63,
   "outputs": [
    {
     "name": "stdout",
     "output_type": "stream",
     "text": [
      "0.0 0\n",
      "0.0 1\n",
      "0.0 2\n",
      "0.0 3\n",
      "0.0 4\n",
      "0.0 5\n",
      "0.0 6\n",
      "0.0 7\n",
      "0.01 8\n",
      "0.01 9\n",
      "0.02 10\n",
      "0.05 11\n",
      "0.07 12\n",
      "0.05 13\n",
      "0.06 14\n",
      "0.12 15\n",
      "0.15 16\n",
      "0.23 17\n",
      "0.22 18\n",
      "0.27 19\n",
      "0.31 20\n",
      "0.33 21\n",
      "0.28 22\n",
      "0.32 23\n",
      "0.46 24\n",
      "0.42 25\n",
      "0.43 26\n",
      "0.59 27\n",
      "0.55 28\n",
      "0.64 29\n",
      "0.55 30\n",
      "0.48 31\n",
      "0.62 32\n",
      "0.64 33\n",
      "0.66 34\n",
      "0.65 35\n",
      "0.66 36\n",
      "0.57 37\n",
      "0.65 38\n",
      "0.58 39\n",
      "0.68 40\n",
      "0.61 41\n",
      "0.72 42\n",
      "0.68 43\n",
      "0.72 44\n",
      "0.77 45\n",
      "0.69 46\n",
      "0.8 47\n",
      "0.68 48\n",
      "0.76 49\n",
      "0.83 50\n",
      "0.78 51\n",
      "0.82 52\n",
      "0.81 53\n",
      "0.85 54\n"
     ]
    }
   ],
   "source": [
    "for item in ce_list:\n",
    "    print((item.hist != 0).sum()/item.number, ce_list.index(item))"
   ],
   "metadata": {
    "collapsed": false,
    "pycharm": {
     "name": "#%%\n"
    }
   }
  },
  {
   "cell_type": "code",
   "execution_count": 65,
   "outputs": [
    {
     "data": {
      "text/plain": "<matplotlib.collections.LineCollection at 0x7f6c203231d0>"
     },
     "execution_count": 65,
     "metadata": {},
     "output_type": "execute_result"
    },
    {
     "data": {
      "text/plain": "<Figure size 432x288 with 1 Axes>",
      "image/png": "[encoded data removed]"
     },
     "metadata": {
      "needs_background": "light"
     },
     "output_type": "display_data"
    }
   ],
   "source": [
    "item = ce_list[-1]\n",
    "n = 100\n",
    "plt.step(bins[:-1], item.hist/item.number)\n",
    "plt.vlines(item.energy, 0, 0.12)"
   ],
   "metadata": {
    "collapsed": false,
    "pycharm": {
     "name": "#%%\n"
    }
   }
  },
  {
   "cell_type": "code",
   "execution_count": 67,
   "outputs": [],
   "source": [
    "def get_data_event(path, field = 0.0, height = 0.0):\n",
    "    result = []\n",
    "    with tables.open_file(path) as h5file:\n",
    "        for group in h5file.root:\n",
    "            table = h5file.get_node(group, \"stacking_simple\")\n",
    "            if select_data(table, field, height):\n",
    "                data = table.read()\n",
    "                energy =  table.attrs[\"values_macros_energy\"]\n",
    "                number =  table.attrs[\"values_macros_number\"]\n",
    "                _, temp  = np.unique(data[\"event\"], return_counts=True)\n",
    "                result.append(CEData(number, energy, temp))\n",
    "    return result"
   ],
   "metadata": {
    "collapsed": false,
    "pycharm": {
     "name": "#%%\n"
    }
   }
  },
  {
   "cell_type": "code",
   "execution_count": 71,
   "outputs": [],
   "source": [
    "event_list = get_data_event(path, field=9e-4)"
   ],
   "metadata": {
    "collapsed": false,
    "pycharm": {
     "name": "#%%\n"
    }
   }
  },
  {
   "cell_type": "code",
   "execution_count": 72,
   "outputs": [
    {
     "data": {
      "text/plain": "[<matplotlib.lines.Line2D at 0x7f6bcfcce4d0>]"
     },
     "execution_count": 72,
     "metadata": {},
     "output_type": "execute_result"
    },
    {
     "data": {
      "text/plain": "<Figure size 432x288 with 1 Axes>",
      "image/png": "[encoded data removed]"
     },
     "metadata": {
      "needs_background": "light"
     },
     "output_type": "display_data"
    }
   ],
   "source": [
    "item = event_list[-1]\n",
    "plt.plot(item.hist)"
   ],
   "metadata": {
    "collapsed": false,
    "pycharm": {
     "name": "#%%\n"
    }
   }
  },
  {
   "cell_type": "code",
   "execution_count": null,
   "outputs": [],
   "source": [],
   "metadata": {
    "collapsed": false,
    "pycharm": {
     "name": "#%%\n"
    }
   }
  }
 ],
 "metadata": {
  "kernelspec": {
   "display_name": "Python 3",
   "language": "python",
   "name": "python3"
  },
  "language_info": {
   "codemirror_mode": {
    "name": "ipython",
    "version": 2
   },
   "file_extension": ".py",
   "mimetype": "text/x-python",
   "name": "python",
   "nbconvert_exporter": "python",
   "pygments_lexer": "ipython2",
   "version": "2.7.6"
  }
 },
 "nbformat": 4,
 "nbformat_minor": 0
}