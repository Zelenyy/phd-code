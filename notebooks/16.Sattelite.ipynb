{
 "cells": [
  {
   "cell_type": "code",
   "execution_count": 7,
   "metadata": {
    "collapsed": true,
    "pycharm": {
     "is_executing": false
    }
   },
   "outputs": [],
   "source": [
    "import sys\n",
    "from typing import List\n",
    "import numpy as np\n",
    "import tables\n",
    "import matplotlib.pyplot as plt\n",
    "from phd.satellite.mean_table import Normilizer\n",
    "from scipy.interpolate import LinearNDInterpolator\n",
    "from scipy.interpolate import RegularGridInterpolator\n",
    "from mpl_toolkits.mplot3d import Axes3D\n",
    "from scipy.stats import multivariate_normal\n",
    "from scipy.optimize import minimize\n",
    "from scipy.stats import norm\n",
    "\n",
    "from phd.satellite.single_processing import load_likelihood_factory"
   ]
  },
  {
   "cell_type": "code",
   "execution_count": 2,
   "outputs": [],
   "source": [
    "\n",
    "path = \"/home/zelenyy/data/satellite/MCMC_electron/mcmc_electron.hdf5\""
   ],
   "metadata": {
    "collapsed": false,
    "pycharm": {
     "name": "#%%\n",
     "is_executing": false
    }
   }
  },
  {
   "cell_type": "code",
   "execution_count": 13,
   "outputs": [
    {
     "name": "stdout",
     "text": [
      "/sim0321/deposit._v_attrs (AttributeSet), 21 attributes:\n",
      "   [CLASS := 'TABLE',\n",
      "    FIELD_0_FILL := 0.0,\n",
      "    FIELD_0_NAME := 'event',\n",
      "    NROWS := 10000,\n",
      "    TITLE := 'Deposit in detector cell',\n",
      "    VERSION := '2.7',\n",
      "    path := 'sim0321',\n",
      "    text := '/df/project test\\n/df/gdml ../../satellite_anthracene.gdml\\n/satellite/output file\\n/satellite/detector single\\n\\n/gps/particle e-\\n/gps/number 1\\n/gps/direction -0.49999999999999994 0.0 -0.8660254037844387\\n/gps/ene/mono 10.5 MeV\\n/gps/position 0.07499999999999998 0. 0.22990381056766582 m\\n/run/beamOn 10000\\n',\n",
      "    values_macros_dirX := -0.49999999999999994,\n",
      "    values_macros_dirZ := -0.8660254037844387,\n",
      "    values_macros_energy := 10.5,\n",
      "    values_macros_mode := 'single',\n",
      "    values_macros_number := 10000,\n",
      "    values_macros_particle := 'e-',\n",
      "    values_macros_posX := 0.07499999999999998,\n",
      "    values_macros_posZ := 0.22990381056766582,\n",
      "    values_macros_radius := 0.15,\n",
      "    values_macros_shift := 0,\n",
      "    values_macros_theta := 30.0,\n",
      "    values_macros_theta_unit := 'degree',\n",
      "    values_time := 4.372247085999788]\n"
     ],
     "output_type": "stream"
    }
   ],
   "source": [
    "with tables.open_file(path) as h5file:\n",
    "    table = h5file.get_node(\"/sim0321/deposit\")\n",
    "    print(repr(table.attrs))\n",
    "    data = table.read()\n",
    "    "
   ],
   "metadata": {
    "collapsed": false,
    "pycharm": {
     "name": "#%%\n",
     "is_executing": false
    }
   }
  },
  {
   "cell_type": "code",
   "execution_count": 28,
   "outputs": [
    {
     "data": {
      "text/plain": "[<matplotlib.lines.Line2D at 0x7f1f93c26450>]"
     },
     "metadata": {},
     "output_type": "execute_result",
     "execution_count": 28
    },
    {
     "data": {
      "text/plain": "<Figure size 432x288 with 1 Axes>",
      "image/png": "[encoded data removed]"
     },
     "metadata": {
      "needs_background": "light"
     },
     "output_type": "display_data"
    }
   ],
   "source": [
    "indx = np.logical_and(data[\"energy\"] == 120, data[\"theta\"] == 0.0, data[\"shift\"] == 0.0)\n",
    "plt.plot(data['mean'][indx][0])"
   ],
   "metadata": {
    "collapsed": false,
    "pycharm": {
     "name": "#%%\n",
     "is_executing": false
    }
   }
  },
  {
   "cell_type": "code",
   "execution_count": 37,
   "outputs": [],
   "source": [
    "path = \"/mnt/storage2/phd/data/satellite/polistyrene/proton.hdf5\"\n",
    "with tables.open_file(path) as h5file:\n",
    "    data = h5file.get_node(\"/\", \"deposit\").read()"
   ],
   "metadata": {
    "collapsed": false,
    "pycharm": {
     "name": "#%%\n",
     "is_executing": false
    }
   }
  },
  {
   "cell_type": "code",
   "execution_count": 38,
   "outputs": [],
   "source": [
    "points = np.zeros(shape=(data.size, 3))\n",
    "points[:, 0] = data[\"energy\"][:]\n",
    "points[:, 1] = data[\"theta\"][:]\n",
    "points[:, 2] = data[\"shift\"][:]\n",
    "for i in range(3):\n",
    "    temp = points[:, i]\n",
    "    min_ = temp.min()\n",
    "    max_ = temp.max()\n",
    "    points[:, i] = (temp - min_)/(max_ - min_)"
   ],
   "metadata": {
    "collapsed": false,
    "pycharm": {
     "name": "#%%\n",
     "is_executing": false
    }
   }
  },
  {
   "cell_type": "code",
   "execution_count": 27,
   "outputs": [],
   "source": [],
   "metadata": {
    "collapsed": false,
    "pycharm": {
     "name": "#%%\n",
     "is_executing": false
    }
   }
  },
  {
   "cell_type": "code",
   "execution_count": 23,
   "outputs": [],
   "source": [
    "path = \"/mnt/storage2/phd/data/satellite/polistyrene/mean_mesh.hdf5\"\n",
    "lh_fact = load_likelihood_factory(path, particle=\"proton\")"
   ],
   "metadata": {
    "collapsed": false,
    "pycharm": {
     "name": "#%%\n",
     "is_executing": false
    }
   }
  },
  {
   "cell_type": "code",
   "execution_count": 7,
   "outputs": [],
   "source": [
    "event = data[\"mean\"][-1]"
   ],
   "metadata": {
    "collapsed": false,
    "pycharm": {
     "name": "#%%\n",
     "is_executing": false
    }
   }
  },
  {
   "cell_type": "code",
   "execution_count": 92,
   "outputs": [
    {
     "data": {
      "text/plain": "0"
     },
     "metadata": {},
     "output_type": "execute_result",
     "execution_count": 92
    }
   ],
   "source": [
    "np.argmax(event!=0)"
   ],
   "metadata": {
    "collapsed": false,
    "pycharm": {
     "name": "#%%\n",
     "is_executing": false
    }
   }
  },
  {
   "cell_type": "code",
   "execution_count": 28,
   "outputs": [],
   "source": [
    "sp = SingleProcessing(lh_fact)"
   ],
   "metadata": {
    "collapsed": false,
    "pycharm": {
     "name": "#%%\n",
     "is_executing": false
    }
   }
  },
  {
   "cell_type": "code",
   "execution_count": 29,
   "outputs": [
    {
     "name": "stdout",
     "text": [
      "25.001053786997524 25.0\n",
      "16.02628409304033 14.0\n",
      "15.036387043926013 144.0\n",
      "30.447231819572266 133.0\n",
      "93.69990751366016 122.0\n",
      "13.413620707615609 111.0\n",
      "19.797405203921343 100.0\n",
      "36.08613456886376 89.0\n",
      "76.99991800866721 78.0\n",
      "17.244969122392405 67.0\n",
      "41.93332786218798 56.0\n",
      "40.0029842027252 45.0\n",
      "32.00246528101795 34.0\n",
      "22.969553824415193 23.0\n",
      "11.83865581739312 12.0\n",
      "20.418761864430017 142.0\n",
      "33.65058461175194 131.0\n",
      "105.08249659447333 120.0\n",
      "14.780228306506018 109.0\n",
      "27.47389258651995 98.0\n"
     ],
     "output_type": "stream"
    }
   ],
   "source": [
    "for item in data[12000::10000]:\n",
    "    res = sp.process(item[\"mean\"])\n",
    "    if res is not None:\n",
    "        print(lh_fact.energy_normilizer.unnormalize(res.x[0]) , item[\"energy\"])\n",
    "    else:\n",
    "        print(res)"
   ],
   "metadata": {
    "collapsed": false,
    "pycharm": {
     "name": "#%%\n",
     "is_executing": false
    }
   }
  },
  {
   "cell_type": "code",
   "execution_count": 25,
   "outputs": [
    {
     "name": "stdout",
     "text": [
      "[9.04027849e-01 9.74353917e-01 9.46809065e-01 1.01684521e+00\n",
      " 9.74968769e-01 9.92769820e-01 1.03692081e+00 9.72281151e-01\n",
      " 9.88838354e-01 9.97902707e-01 1.00409526e+00 1.01837887e+00\n",
      " 1.01963610e+00 1.02924396e+00 1.06146475e+00 1.04899014e+00\n",
      " 1.08165895e+00 1.09214237e+00 1.12633363e+00 1.09417488e+00\n",
      " 1.13106226e+00 1.17323243e+00 1.16450122e+00 1.18503121e+00\n",
      " 1.26283696e+00 1.23733799e+00 1.24833930e+00 1.28079557e+00\n",
      " 1.36234980e+00 1.37313981e+00 1.38490860e+00 1.41381071e+00\n",
      " 1.44480504e+00 1.43393138e+00 1.45506228e+00 1.52173125e+00\n",
      " 1.57500535e+00 1.66388592e+00 1.67146103e+00 1.73841639e+00\n",
      " 1.84640828e+00 1.89388423e+00 1.98753821e+00 2.21633983e+00\n",
      " 2.29773533e+00 2.52916253e+00 2.83252639e+00 3.26333345e+00\n",
      " 4.15039198e+00 5.17760865e+00 2.17045380e+00 9.87511482e-02\n",
      " 3.30274671e-05 0.00000000e+00 0.00000000e+00 0.00000000e+00\n",
      " 4.71546916e-05 6.94517103e-05 0.00000000e+00 0.00000000e+00\n",
      " 0.00000000e+00 0.00000000e+00 0.00000000e+00 0.00000000e+00\n",
      " 0.00000000e+00 0.00000000e+00 3.94791410e-04 0.00000000e+00\n",
      " 0.00000000e+00 0.00000000e+00 0.00000000e+00 0.00000000e+00\n",
      " 0.00000000e+00 0.00000000e+00 0.00000000e+00 0.00000000e+00\n",
      " 0.00000000e+00 0.00000000e+00 0.00000000e+00 0.00000000e+00\n",
      " 0.00000000e+00 0.00000000e+00 0.00000000e+00 0.00000000e+00\n",
      " 0.00000000e+00 0.00000000e+00 0.00000000e+00 0.00000000e+00\n",
      " 0.00000000e+00 0.00000000e+00 0.00000000e+00 0.00000000e+00\n",
      " 0.00000000e+00 0.00000000e+00 0.00000000e+00 0.00000000e+00\n",
      " 0.00000000e+00 0.00000000e+00 0.00000000e+00 0.00000000e+00]\n",
      " final_simplex: (array([[5.00015293e-01, 8.67498536e-03, 7.21568663e-05],\n",
      "       [5.00019346e-01, 8.68544887e-03, 7.49371281e-05],\n",
      "       [5.00016392e-01, 8.63490453e-03, 6.02560210e-05],\n",
      "       [5.00023065e-01, 8.66576802e-03, 6.87983050e-05]]), array([-0.04645155, -0.04642953, -0.04639641, -0.04637279]))\n",
      "           fun: -0.04645154997361818\n",
      "       message: 'Optimization terminated successfully.'\n",
      "          nfev: 70\n",
      "           nit: 32\n",
      "        status: 0\n",
      "       success: True\n",
      "             x: array([5.00015293e-01, 8.67498536e-03, 7.21568663e-05])\n",
      "80.00214099356188 80.0\n"
     ],
     "output_type": "stream"
    }
   ],
   "source": [
    "%%time\n",
    "result = sp.process(data[\"mean\"][70])\n",
    "print(result)\n",
    "print(lh_fact.energy_normilizer.unnormalize(result.x[0]) , data[\"energy\"][70])"
   ],
   "metadata": {
    "collapsed": false,
    "pycharm": {
     "name": "#%%\n",
     "is_executing": false
    }
   }
  },
  {
   "cell_type": "code",
   "execution_count": 26,
   "outputs": [
    {
     "name": "stdout",
     "text": [
      "45.00137635300407 0.0\n"
     ],
     "output_type": "stream"
    }
   ],
   "source": [
    "print(lh_fact.theta_normilizer.unnormalize(result.x[0]) , data[\"theta\"][70])"
   ],
   "metadata": {
    "collapsed": false,
    "pycharm": {
     "name": "#%%\n",
     "is_executing": false
    }
   }
  },
  {
   "cell_type": "code",
   "execution_count": 7,
   "outputs": [
    {
     "name": "stdout",
     "text": [
      "(2304, 53)\n",
      "205296\n"
     ],
     "output_type": "stream"
    },
    {
     "name": "stderr",
     "text": [
      "/home/zelenyy/npm/phd/phd-code/python/phd/satellite/single_processing.py:189: RuntimeWarning: divide by zero encountered in true_divide\n",
      "  result[indx] = 1 / sum_\n"
     ],
     "output_type": "stream"
    }
   ],
   "source": [
    "likelyhood = lh_fact.build(data[\"mean\"][70])\n",
    "lh_grid =  likelyhood.many_points(points)"
   ],
   "metadata": {
    "collapsed": false,
    "pycharm": {
     "name": "#%%\n",
     "is_executing": false
    }
   }
  },
  {
   "cell_type": "code",
   "execution_count": 18,
   "outputs": [
    {
     "data": {
      "text/plain": "<mpl_toolkits.mplot3d.art3d.Path3DCollection at 0x7f03175b7190>"
     },
     "metadata": {},
     "output_type": "execute_result",
     "execution_count": 18
    },
    {
     "data": {
      "text/plain": "<Figure size 432x288 with 1 Axes>",
      "image/png": "[encoded data removed]"
     },
     "metadata": {
      "needs_background": "light"
     },
     "output_type": "display_data"
    }
   ],
   "source": [
    "fig = plt.figure()\n",
    "ax = fig.add_subplot(111, projection='3d')\n",
    "n = points.shape[0] // 16\n",
    "xs = points[:n, 0]\n",
    "ys = points[:n, 1]\n",
    "zs = lh_grid[:n]\n",
    "ax.scatter(xs, ys, zs)"
   ],
   "metadata": {
    "collapsed": false,
    "pycharm": {
     "name": "#%%\n",
     "is_executing": false
    }
   }
  },
  {
   "cell_type": "code",
   "execution_count": 16,
   "outputs": [
    {
     "name": "stdout",
     "text": [
      "1456.0\n",
      "16.0\n"
     ],
     "output_type": "stream"
    }
   ],
   "source": [
    "print(205296/141)\n",
    "print(1456/91)"
   ],
   "metadata": {
    "collapsed": false,
    "pycharm": {
     "name": "#%%\n",
     "is_executing": false
    }
   }
  },
  {
   "cell_type": "code",
   "execution_count": 65,
   "outputs": [
    {
     "data": {
      "text/plain": "<Figure size 432x288 with 1 Axes>",
      "image/png": "[encoded data removed]"
     },
     "metadata": {
      "needs_background": "light"
     },
     "output_type": "display_data"
    }
   ],
   "source": [
    "plt.plot(lh_grid)\n",
    "for res in result:\n",
    "    plt.plot(likelyhood(res.x), \"*\")"
   ],
   "metadata": {
    "collapsed": false,
    "pycharm": {
     "name": "#%%\n",
     "is_executing": false
    }
   }
  },
  {
   "cell_type": "code",
   "execution_count": 66,
   "outputs": [
    {
     "name": "stdout",
     "text": [
      "[0.49713556 0.00164116 0.46663731] True -0.04663221079373099\n",
      "[4.98525526e-01 1.66386218e-05 4.66763395e-01] True -0.048302239856430215\n",
      "[0.49745676 0.01166578 0.26656048] True -0.036946327550101236\n",
      "[0.49447967 0.0063185  0.46666861] True -0.04603580264641303\n",
      "[0.49476134 0.00223931 0.13335518] True -0.04104529783555468\n"
     ],
     "output_type": "stream"
    }
   ],
   "source": [
    "for res in result:\n",
    "    print(res.x, res.success, likelyhood(res.x))"
   ],
   "metadata": {
    "collapsed": false,
    "pycharm": {
     "name": "#%%\n",
     "is_executing": false
    }
   }
  },
  {
   "cell_type": "code",
   "execution_count": 19,
   "outputs": [],
   "source": [
    "likelyhood = lh_fact.build(data[\"mean\"][-700])"
   ],
   "metadata": {
    "collapsed": false,
    "pycharm": {
     "name": "#%%\n",
     "is_executing": false
    }
   }
  },
  {
   "cell_type": "code",
   "execution_count": 20,
   "outputs": [
    {
     "name": "stdout",
     "text": [
      "(4352, 2)\n",
      "205296\n"
     ],
     "output_type": "stream"
    },
    {
     "name": "stderr",
     "text": [
      "/home/zelenyy/npm/phd/phd-code/python/phd/satellite/single_processing.py:189: RuntimeWarning: divide by zero encountered in true_divide\n",
      "  result[indx] = 1 / sum_\n"
     ],
     "output_type": "stream"
    }
   ],
   "source": [
    "lh_grid =  likelyhood.many_points(points)"
   ],
   "metadata": {
    "collapsed": false,
    "pycharm": {
     "name": "#%%\n",
     "is_executing": false
    }
   }
  },
  {
   "cell_type": "code",
   "execution_count": 21,
   "outputs": [
    {
     "data": {
      "text/plain": "[<matplotlib.lines.Line2D at 0x7f0316d24b90>]"
     },
     "metadata": {},
     "output_type": "execute_result",
     "execution_count": 21
    },
    {
     "data": {
      "text/plain": "<Figure size 432x288 with 1 Axes>",
      "image/png": "[encoded data removed]"
     },
     "metadata": {
      "needs_background": "light"
     },
     "output_type": "display_data"
    }
   ],
   "source": [
    "plt.plot(lh_grid)\n",
    "# plt.plot(50000, likelyhood(result.x), \"*\")\n",
    "# plt.plot(70, likelyhood(points[70]), \"^\")"
   ],
   "metadata": {
    "collapsed": false,
    "pycharm": {
     "name": "#%%\n",
     "is_executing": false
    }
   }
  },
  {
   "cell_type": "code",
   "execution_count": 47,
   "outputs": [
    {
     "name": "stdout",
     "text": [
      "Cov\n",
      "[0.5 0.  0. ] 0.0\n"
     ],
     "output_type": "stream"
    }
   ],
   "source": [
    "print(points[70], likelyhood(points[70]))"
   ],
   "metadata": {
    "collapsed": false,
    "pycharm": {
     "name": "#%%\n",
     "is_executing": false
    }
   }
  },
  {
   "cell_type": "code",
   "execution_count": 48,
   "outputs": [
    {
     "name": "stdout",
     "text": [
      "[0.14646 1.29687 0.48178 1.56844 0.35566 0.36673 1.36415 0.07521 0.13757\n",
      " 0.11601 0.12882 0.15719 0.0493  0.06421 0.43044 0.08439 0.24572 0.33449\n",
      " 0.63264 0.07502 0.16235 0.38958 0.16985 0.12462 2.15207 0.16519 0.11682\n",
      " 0.21014 1.08084 0.76049 0.66246 0.71117 0.89929 0.25304 0.14426 0.43266\n",
      " 0.50173 1.23014 0.58321 0.85517 1.21328 0.53639 0.44253 2.22234 0.95148\n",
      " 1.28248 1.56    1.90669 3.70098 8.5191  8.1051  0.40537 0.     ]\n"
     ],
     "output_type": "stream"
    }
   ],
   "source": [
    "print(likelyhood.last_cov)"
   ],
   "metadata": {
    "collapsed": false,
    "pycharm": {
     "name": "#%%\n",
     "is_executing": false
    }
   }
  },
  {
   "cell_type": "code",
   "execution_count": 50,
   "outputs": [
    {
     "name": "stdout",
     "text": [
      "[9.04027849e-01 9.74353917e-01 9.46809065e-01 1.01684521e+00\n",
      " 9.74968769e-01 9.92769820e-01 1.03692081e+00 9.72281151e-01\n",
      " 9.88838354e-01 9.97902707e-01 1.00409526e+00 1.01837887e+00\n",
      " 1.01963610e+00 1.02924396e+00 1.06146475e+00 1.04899014e+00\n",
      " 1.08165895e+00 1.09214237e+00 1.12633363e+00 1.09417488e+00\n",
      " 1.13106226e+00 1.17323243e+00 1.16450122e+00 1.18503121e+00\n",
      " 1.26283696e+00 1.23733799e+00 1.24833930e+00 1.28079557e+00\n",
      " 1.36234980e+00 1.37313981e+00 1.38490860e+00 1.41381071e+00\n",
      " 1.44480504e+00 1.43393138e+00 1.45506228e+00 1.52173125e+00\n",
      " 1.57500535e+00 1.66388592e+00 1.67146103e+00 1.73841639e+00\n",
      " 1.84640828e+00 1.89388423e+00 1.98753821e+00 2.21633983e+00\n",
      " 2.29773533e+00 2.52916253e+00 2.83252639e+00 3.26333345e+00\n",
      " 4.15039198e+00 5.17760865e+00 2.17045380e+00 9.87511482e-02\n",
      " 3.30274671e-05 0.00000000e+00 0.00000000e+00 0.00000000e+00\n",
      " 4.71546916e-05 6.94517103e-05 0.00000000e+00 0.00000000e+00\n",
      " 0.00000000e+00 0.00000000e+00 0.00000000e+00 0.00000000e+00\n",
      " 0.00000000e+00 0.00000000e+00 3.94791410e-04 0.00000000e+00\n",
      " 0.00000000e+00 0.00000000e+00 0.00000000e+00 0.00000000e+00\n",
      " 0.00000000e+00 0.00000000e+00 0.00000000e+00 0.00000000e+00\n",
      " 0.00000000e+00 0.00000000e+00 0.00000000e+00 0.00000000e+00\n",
      " 0.00000000e+00 0.00000000e+00 0.00000000e+00 0.00000000e+00\n",
      " 0.00000000e+00 0.00000000e+00 0.00000000e+00 0.00000000e+00\n",
      " 0.00000000e+00 0.00000000e+00 0.00000000e+00 0.00000000e+00\n",
      " 0.00000000e+00 0.00000000e+00 0.00000000e+00 0.00000000e+00\n",
      " 0.00000000e+00 0.00000000e+00 0.00000000e+00 0.00000000e+00] [1.46458311e-01 1.29687229e+00 4.81776930e-01 1.56844085e+00\n",
      " 3.55657952e-01 3.66725199e-01 1.36414855e+00 7.52113681e-02\n",
      " 1.37570759e-01 1.16006422e-01 1.28824567e-01 1.57191024e-01\n",
      " 4.92996776e-02 6.42114896e-02 4.30443601e-01 8.43903681e-02\n",
      " 2.45719380e-01 3.34485658e-01 6.32639081e-01 7.50188412e-02\n",
      " 1.62354848e-01 3.89581445e-01 1.69846302e-01 1.24622134e-01\n",
      " 2.15206808e+00 1.65194358e-01 1.16817362e-01 2.10138340e-01\n",
      " 1.08084402e+00 7.60485243e-01 6.62456772e-01 7.11168185e-01\n",
      " 8.99289487e-01 2.53043650e-01 1.44264056e-01 4.32657472e-01\n",
      " 5.01726314e-01 1.23014066e+00 5.83210308e-01 8.55168467e-01\n",
      " 1.21327906e+00 5.36391727e-01 4.42526345e-01 2.22233633e+00\n",
      " 9.51475506e-01 1.28248320e+00 1.56000220e+00 1.90669392e+00\n",
      " 3.70098456e+00 8.51910030e+00 8.10509699e+00 4.05369117e-01\n",
      " 1.08972277e-06 0.00000000e+00 0.00000000e+00 0.00000000e+00\n",
      " 2.22134137e-06 4.81871653e-06 0.00000000e+00 0.00000000e+00\n",
      " 0.00000000e+00 0.00000000e+00 0.00000000e+00 0.00000000e+00\n",
      " 0.00000000e+00 0.00000000e+00 1.55704397e-04 0.00000000e+00\n",
      " 0.00000000e+00 0.00000000e+00 0.00000000e+00 0.00000000e+00\n",
      " 0.00000000e+00 0.00000000e+00 0.00000000e+00 0.00000000e+00\n",
      " 0.00000000e+00 0.00000000e+00 0.00000000e+00 0.00000000e+00\n",
      " 0.00000000e+00 0.00000000e+00 0.00000000e+00 0.00000000e+00\n",
      " 0.00000000e+00 0.00000000e+00 0.00000000e+00 0.00000000e+00\n",
      " 0.00000000e+00 0.00000000e+00 0.00000000e+00 0.00000000e+00\n",
      " 0.00000000e+00 0.00000000e+00 0.00000000e+00 0.00000000e+00\n",
      " 0.00000000e+00 0.00000000e+00 0.00000000e+00 0.00000000e+00]\n"
     ],
     "output_type": "stream"
    }
   ],
   "source": [
    "likelyhood.event\n",
    "print(data[\"mean\"][70], data[\"variance\"][70])"
   ],
   "metadata": {
    "collapsed": false,
    "pycharm": {
     "name": "#%%\n",
     "is_executing": false
    }
   }
  },
  {
   "cell_type": "code",
   "execution_count": 28,
   "outputs": [
    {
     "data": {
      "text/plain": "[<matplotlib.lines.Line2D at 0x7f1ad1d476d0>]"
     },
     "metadata": {},
     "output_type": "execute_result",
     "execution_count": 28
    },
    {
     "data": {
      "text/plain": "<Figure size 432x288 with 1 Axes>",
      "image/png": "[encoded data removed]"
     },
     "metadata": {
      "needs_background": "light"
     },
     "output_type": "display_data"
    }
   ],
   "source": [
    "plt.plot(lh_grid[:80])"
   ],
   "metadata": {
    "collapsed": false,
    "pycharm": {
     "name": "#%%\n",
     "is_executing": false
    }
   }
  },
  {
   "cell_type": "code",
   "execution_count": 22,
   "outputs": [
    {
     "data": {
      "text/plain": "[<matplotlib.lines.Line2D at 0x7fba30ea5590>]"
     },
     "metadata": {},
     "output_type": "execute_result",
     "execution_count": 22
    },
    {
     "data": {
      "text/plain": "<Figure size 432x288 with 1 Axes>",
      "image/png": "[encoded data removed]"
     },
     "metadata": {
      "needs_background": "light"
     },
     "output_type": "display_data"
    }
   ],
   "source": [
    "plt.plot([likelyhood(point) for point in points])"
   ],
   "metadata": {
    "collapsed": false,
    "pycharm": {
     "name": "#%%\n",
     "is_executing": false
    }
   }
  },
  {
   "cell_type": "code",
   "execution_count": 30,
   "outputs": [
    {
     "data": {
      "text/plain": "0.0"
     },
     "metadata": {},
     "output_type": "execute_result",
     "execution_count": 30
    }
   ],
   "source": [
    "likelyhood(points[70])"
   ],
   "metadata": {
    "collapsed": false,
    "pycharm": {
     "name": "#%%\n",
     "is_executing": false
    }
   }
  },
  {
   "cell_type": "markdown",
   "source": [
    "# Востановление"
   ],
   "metadata": {
    "collapsed": false,
    "pycharm": {
     "name": "#%% md\n"
    }
   }
  },
  {
   "cell_type": "code",
   "execution_count": 19,
   "outputs": [
    {
     "name": "stdout",
     "text": [
      "[ 10.  11.  12.  13.  14.  15.  16.  17.  18.  19.  20.  21.  22.  23.\n",
      "  24.  25.  26.  27.  28.  29.  30.  31.  32.  33.  34.  35.  36.  37.\n",
      "  38.  39.  40.  41.  42.  43.  44.  45.  46.  47.  48.  49.  50.  51.\n",
      "  52.  53.  54.  55.  56.  57.  58.  59.  60.  61.  62.  63.  64.  65.\n",
      "  66.  67.  68.  69.  70.  71.  72.  73.  74.  75.  76.  77.  78.  79.\n",
      "  80.  81.  82.  83.  84.  85.  86.  87.  88.  89.  90.  91.  92.  93.\n",
      "  94.  95.  96.  97.  98.  99. 100. 101. 102. 103. 104. 105. 106. 107.\n",
      " 108. 109. 110. 111. 112. 113. 114. 115. 116. 117. 118. 119. 120. 121.\n",
      " 122. 123. 124. 125. 126. 127. 128. 129. 130. 131. 132. 133. 134. 135.\n",
      " 136. 137. 138. 139. 140. 141. 142. 143. 144. 145. 146. 147. 148. 149.\n",
      " 150.]\n",
      "[ 0.  1.  2.  3.  4.  5.  6.  7.  8.  9. 10. 11. 12. 13. 14. 15. 16. 17.\n",
      " 18. 19. 20. 21. 22. 23. 24. 25. 26. 27. 28. 29. 30. 31. 32. 33. 34. 35.\n",
      " 36. 37. 38. 39. 40. 41. 42. 43. 44. 45. 46. 47. 48. 49. 50. 51. 52. 53.\n",
      " 54. 55. 56. 57. 58. 59. 60. 61. 62. 63. 64. 65. 66. 67. 68. 69. 70. 71.\n",
      " 72. 73. 74. 75. 76. 77. 78. 79. 80. 81. 82. 83. 84. 85. 86. 87. 88. 89.\n",
      " 90.]\n",
      "[0.    0.001]\n"
     ],
     "output_type": "stream"
    }
   ],
   "source": [
    "print(np.unique(data[\"energy\"][:13914]))\n",
    "print(np.unique(data[\"theta\"][:13914]))\n",
    "print(np.unique(data[\"shift\"][:13914]))"
   ],
   "metadata": {
    "collapsed": false,
    "pycharm": {
     "name": "#%%\n",
     "is_executing": false
    }
   }
  },
  {
   "cell_type": "code",
   "execution_count": 9,
   "outputs": [],
   "source": [
    "# path = \"/home/zelenyy/data/satellite/temp/reconstruction.hdf5\"\n",
    "path = \"/home/zelenyy/npm/phd/phd-code/python/simulation_scripts/satellite/recon_3.hdf5\"\n",
    "with tables.open_file(path) as h5file:\n",
    "    # data = h5file.get_node(\"/\", \"proton_1\").read()\n",
    "    data_recon = h5file.get_node(\"/\", \"proton_mean_test\").read()"
   ],
   "metadata": {
    "collapsed": false,
    "pycharm": {
     "name": "#%%\n",
     "is_executing": false
    }
   }
  },
  {
   "cell_type": "code",
   "execution_count": 11,
   "outputs": [],
   "source": [
    "path = \"/home/zelenyy/data/satellite/mean_mesh.hdf5\"\n",
    "with tables.open_file(path) as h5file:\n",
    "    energy_node = h5file.get_node(\"/proton\", \"energy\")\n",
    "    energy_normilizer = Normilizer(energy_node.attrs[\"init\"], step=energy_node.attrs[\"step\"], norm=energy_node.attrs[\"norm\"])"
   ],
   "metadata": {
    "collapsed": false,
    "pycharm": {
     "name": "#%%\n",
     "is_executing": false
    }
   }
  },
  {
   "cell_type": "code",
   "execution_count": 12,
   "outputs": [
    {
     "name": "stdout",
     "text": [
      "0.8608367228355607\n"
     ],
     "output_type": "stream"
    }
   ],
   "source": [
    "print(np.sum(data_recon[\"success\"])/data_recon.shape[0])"
   ],
   "metadata": {
    "collapsed": false,
    "pycharm": {
     "name": "#%%\n",
     "is_executing": false
    }
   }
  },
  {
   "cell_type": "code",
   "execution_count": 13,
   "outputs": [],
   "source": [
    "recon_energy = energy_normilizer.unnormalize(data_recon[\"reconstructed\"][:, 0])"
   ],
   "metadata": {
    "collapsed": false,
    "pycharm": {
     "name": "#%%\n",
     "is_executing": false
    }
   }
  },
  {
   "cell_type": "code",
   "execution_count": 14,
   "outputs": [],
   "source": [
    "original_energy = data_recon[\"original\"][:, 0]"
   ],
   "metadata": {
    "collapsed": false,
    "pycharm": {
     "name": "#%%\n",
     "is_executing": false
    }
   }
  },
  {
   "cell_type": "code",
   "execution_count": 19,
   "outputs": [
    {
     "data": {
      "text/plain": "<matplotlib.collections.PathCollection at 0x7f9c78d98dd0>"
     },
     "metadata": {},
     "output_type": "execute_result",
     "execution_count": 19
    },
    {
     "data": {
      "text/plain": "<Figure size 432x288 with 1 Axes>",
      "image/png": "[encoded data removed]"
     },
     "metadata": {
      "needs_background": "light"
     },
     "output_type": "display_data"
    }
   ],
   "source": [
    "indx = data_recon[\"success\"]\n",
    "indx = np.logical_and(indx, data_recon[\"original\"][:, 1] > -10)\n",
    "indx = np.logical_and(indx, data_recon[\"original\"][:, 1] < 10)\n",
    "# indx = np.logical_and(indx, data_recon[\"original\"][:, 2] < 0.01)\n",
    "plt.scatter(original_energy[indx], recon_energy[indx])"
   ],
   "metadata": {
    "collapsed": false,
    "pycharm": {
     "name": "#%%\n",
     "is_executing": false
    }
   }
  },
  {
   "cell_type": "code",
   "execution_count": 20,
   "outputs": [
    {
     "data": {
      "text/plain": "<matplotlib.collections.PathCollection at 0x7f9c78d98d10>"
     },
     "metadata": {},
     "output_type": "execute_result",
     "execution_count": 20
    },
    {
     "data": {
      "text/plain": "<Figure size 432x288 with 1 Axes>",
      "image/png": "[encoded data removed]"
     },
     "metadata": {
      "needs_background": "light"
     },
     "output_type": "display_data"
    }
   ],
   "source": [
    "indx = data_recon[\"success\"]\n",
    "indx = np.logical_and(indx, data_recon[\"reconstructed\"][:, 1] > -10)\n",
    "indx = np.logical_and(indx, data_recon[\"reconstructed\"][:, 1] < 10)\n",
    "# indx = np.logical_and(indx, data_recon[\"reconstructed\"][:, 2] < 0.01)\n",
    "plt.scatter(original_energy[indx], recon_energy[indx])\n"
   ],
   "metadata": {
    "collapsed": false,
    "pycharm": {
     "name": "#%%\n",
     "is_executing": false
    }
   }
  },
  {
   "cell_type": "code",
   "execution_count": 16,
   "outputs": [
    {
     "data": {
      "text/plain": "<matplotlib.collections.PathCollection at 0x7f9c7903d810>"
     },
     "metadata": {},
     "output_type": "execute_result",
     "execution_count": 16
    },
    {
     "data": {
      "text/plain": "<Figure size 432x288 with 1 Axes>",
      "image/png": "[encoded data removed]"
     },
     "metadata": {
      "needs_background": "light"
     },
     "output_type": "display_data"
    }
   ],
   "source": [
    "indx = data_recon[\"success\"]\n",
    "indx = np.logical_and(indx, data_recon[\"reconstructed\"][:, 1] > 10)\n",
    "indx = np.logical_and(indx, data_recon[\"reconstructed\"][:, 1] < 20)\n",
    "indx = np.logical_and(indx, data_recon[\"reconstructed\"][:, 2] < 0.01)\n",
    "plt.scatter(original_energy[indx], recon_energy[indx])"
   ],
   "metadata": {
    "collapsed": false,
    "pycharm": {
     "name": "#%%\n",
     "is_executing": false
    }
   }
  },
  {
   "cell_type": "code",
   "execution_count": 16,
   "outputs": [
    {
     "data": {
      "text/plain": "33.690067525979785"
     },
     "metadata": {},
     "output_type": "execute_result",
     "execution_count": 16
    }
   ],
   "source": [
    "np.rad2deg(np.arctan(1/1.5))"
   ],
   "metadata": {
    "collapsed": false,
    "pycharm": {
     "name": "#%%\n",
     "is_executing": false
    }
   }
  },
  {
   "cell_type": "code",
   "execution_count": 17,
   "outputs": [
    {
     "data": {
      "text/plain": "<matplotlib.collections.PathCollection at 0x7f3b1793f750>"
     },
     "metadata": {},
     "output_type": "execute_result",
     "execution_count": 17
    },
    {
     "data": {
      "text/plain": "<Figure size 432x288 with 1 Axes>",
      "image/png": "[encoded data removed]"
     },
     "metadata": {
      "needs_background": "light"
     },
     "output_type": "display_data"
    }
   ],
   "source": [
    "plt.scatter(original_energy[:141*10], recon_energy[:141*10])"
   ],
   "metadata": {
    "collapsed": false,
    "pycharm": {
     "name": "#%%\n",
     "is_executing": false
    }
   }
  },
  {
   "cell_type": "code",
   "execution_count": 21,
   "outputs": [
    {
     "data": {
      "text/plain": "<matplotlib.collections.PathCollection at 0x7f1f94863b90>"
     },
     "metadata": {},
     "output_type": "execute_result",
     "execution_count": 21
    },
    {
     "data": {
      "text/plain": "<Figure size 432x288 with 1 Axes>",
      "image/png": "[encoded data removed]"
     },
     "metadata": {
      "needs_background": "light"
     },
     "output_type": "display_data"
    }
   ],
   "source": [
    "plt.scatter(original_energy[1410:2820], recon_energy[1410:2820])\n"
   ],
   "metadata": {
    "collapsed": false,
    "pycharm": {
     "name": "#%%\n",
     "is_executing": false
    }
   }
  },
  {
   "cell_type": "code",
   "execution_count": 22,
   "outputs": [
    {
     "data": {
      "text/plain": "<matplotlib.collections.PathCollection at 0x7f1f93cc6510>"
     },
     "metadata": {},
     "output_type": "execute_result",
     "execution_count": 22
    },
    {
     "data": {
      "text/plain": "<Figure size 432x288 with 1 Axes>",
      "image/png": "[encoded data removed]"
     },
     "metadata": {
      "needs_background": "light"
     },
     "output_type": "display_data"
    }
   ],
   "source": [
    "plt.scatter(original_energy[2820:4230], recon_energy[2820:4230])"
   ],
   "metadata": {
    "collapsed": false,
    "pycharm": {
     "name": "#%%\n",
     "is_executing": false
    }
   }
  },
  {
   "cell_type": "code",
   "execution_count": 17,
   "outputs": [],
   "source": [
    "diff = np.abs(original_energy[indx] - recon_energy[indx])/original_energy[indx]"
   ],
   "metadata": {
    "collapsed": false,
    "pycharm": {
     "name": "#%%\n",
     "is_executing": false
    }
   }
  },
  {
   "cell_type": "code",
   "execution_count": 18,
   "outputs": [
    {
     "data": {
      "text/plain": "(array([3532.,  876.,  547.,  299.,  184.,  144.,  158.,  214.,  249.,\n         302.,  365.,  284.,  354.,  428.,  541.,  718.,  961., 1382.,\n        1630.,  333.]),\n array([1.77635684e-16, 4.98697530e-02, 9.97395061e-02, 1.49609259e-01,\n        1.99479012e-01, 2.49348765e-01, 2.99218518e-01, 3.49088271e-01,\n        3.98958024e-01, 4.48827777e-01, 4.98697530e-01, 5.48567283e-01,\n        5.98437036e-01, 6.48306789e-01, 6.98176542e-01, 7.48046295e-01,\n        7.97916048e-01, 8.47785801e-01, 8.97655554e-01, 9.47525308e-01,\n        9.97395061e-01]),\n <a list of 20 Patch objects>)"
     },
     "metadata": {},
     "output_type": "execute_result",
     "execution_count": 18
    },
    {
     "data": {
      "text/plain": "<Figure size 432x288 with 1 Axes>",
      "image/png": "[encoded data removed]"
     },
     "metadata": {
      "needs_background": "light"
     },
     "output_type": "display_data"
    }
   ],
   "source": [
    "plt.hist(diff[diff < 1], bins = 20)"
   ],
   "metadata": {
    "collapsed": false,
    "pycharm": {
     "name": "#%%\n",
     "is_executing": false
    }
   }
  },
  {
   "cell_type": "code",
   "execution_count": 31,
   "outputs": [],
   "source": [
    "miss_energy = np.abs((data[\"mean\"][:13914].sum(axis=1) - original_energy)/original_energy)[data_recon[\"success\"]]"
   ],
   "metadata": {
    "collapsed": false,
    "pycharm": {
     "name": "#%%\n",
     "is_executing": false
    }
   }
  },
  {
   "cell_type": "code",
   "execution_count": 32,
   "outputs": [
    {
     "data": {
      "text/plain": "<matplotlib.collections.PathCollection at 0x7f1f8953a690>"
     },
     "metadata": {},
     "output_type": "execute_result",
     "execution_count": 32
    },
    {
     "data": {
      "text/plain": "<Figure size 432x288 with 1 Axes>",
      "image/png": "[encoded data removed]"
     },
     "metadata": {
      "needs_background": "light"
     },
     "output_type": "display_data"
    }
   ],
   "source": [
    "plt.scatter(miss_energy, diff)\n",
    " "
   ],
   "metadata": {
    "collapsed": false,
    "pycharm": {
     "name": "#%%\n",
     "is_executing": false
    }
   }
  },
  {
   "cell_type": "code",
   "execution_count": 34,
   "outputs": [],
   "source": [
    "indx_120 = data[\"energy\"][:13914][data_recon[\"success\"]] < 120"
   ],
   "metadata": {
    "collapsed": false,
    "pycharm": {
     "name": "#%%\n",
     "is_executing": false
    }
   }
  },
  {
   "cell_type": "code",
   "execution_count": 36,
   "outputs": [
    {
     "data": {
      "text/plain": "<matplotlib.collections.PathCollection at 0x7f1f893c2550>"
     },
     "metadata": {},
     "output_type": "execute_result",
     "execution_count": 36
    },
    {
     "data": {
      "text/plain": "<Figure size 432x288 with 1 Axes>",
      "image/png": "[encoded data removed]"
     },
     "metadata": {
      "needs_background": "light"
     },
     "output_type": "display_data"
    }
   ],
   "source": [
    "not_indx_120 = np.logical_not(indx_120)\n",
    "plt.scatter(data[\"theta\"][:13914][data_recon[\"success\"]][indx_120], diff[indx_120])\n",
    "plt.scatter(data[\"theta\"][:13914][data_recon[\"success\"]][not_indx_120], diff[not_indx_120])"
   ],
   "metadata": {
    "collapsed": false,
    "pycharm": {
     "name": "#%%\n",
     "is_executing": false
    }
   }
  },
  {
   "cell_type": "code",
   "execution_count": 22,
   "outputs": [
    {
     "data": {
      "text/plain": "0.28420159236955905"
     },
     "metadata": {},
     "output_type": "execute_result",
     "execution_count": 22
    }
   ],
   "source": [
    "np.sum(diff< 0.1)/diff.size"
   ],
   "metadata": {
    "collapsed": false,
    "pycharm": {
     "name": "#%%\n",
     "is_executing": false
    }
   }
  },
  {
   "cell_type": "code",
   "execution_count": 39,
   "outputs": [
    {
     "data": {
      "text/plain": "<matplotlib.collections.PathCollection at 0x7f1f892238d0>"
     },
     "metadata": {},
     "output_type": "execute_result",
     "execution_count": 39
    },
    {
     "data": {
      "text/plain": "<Figure size 432x288 with 1 Axes>",
      "image/png": "[encoded data removed]"
     },
     "metadata": {
      "needs_background": "light"
     },
     "output_type": "display_data"
    }
   ],
   "source": [
    "plt.scatter(points[:13914, 1][data_recon[\"success\"]], data_recon[\"reconstructed\"][:, 1][data_recon[\"success\"]])\n"
   ],
   "metadata": {
    "collapsed": false,
    "pycharm": {
     "name": "#%%\n",
     "is_executing": false
    }
   }
  },
  {
   "cell_type": "code",
   "execution_count": 26,
   "outputs": [
    {
     "data": {
      "text/plain": "<Figure size 720x720 with 3 Axes>",
      "image/png": "[encoded data removed]"
     },
     "metadata": {
      "needs_background": "light"
     },
     "output_type": "display_data"
    }
   ],
   "source": [
    "fig, ax = plt.subplots(figsize= (10, 10))\n",
    "for i, shift in enumerate([0.0, 0.005, 0.016]):\n",
    "    indx = data[\"original\"][data[\"success\"], 2] == shift\n",
    "    plt.subplot(2,2,i+1)\n",
    "    plt.hist(diff[indx][diff[indx]<1])"
   ],
   "metadata": {
    "collapsed": false,
    "pycharm": {
     "name": "#%%\n",
     "is_executing": false
    }
   }
  },
  {
   "cell_type": "code",
   "source": [
    "# Спектры\n",
    "\n"
   ],
   "metadata": {
    "collapsed": false,
    "pycharm": {
     "name": "#%% md \n"
    }
   },
   "execution_count": null,
   "outputs": []
  },
  {
   "cell_type": "code",
   "execution_count": null,
   "outputs": [],
   "source": [
    "\n"
   ],
   "metadata": {
    "collapsed": false,
    "pycharm": {
     "name": "#%%\n"
    }
   }
  },
  {
   "cell_type": "code",
   "execution_count": null,
   "outputs": [],
   "source": [
    "path = \"/mnt/storage2/phd/data/satellite/polistyrene/mean_mesh.hdf5\"\n",
    "with tables.open_file(path) as h5file:\n",
    "    mean = h5file.get_node(\"/proton\", \"mean\").read()\n",
    "    var = h5file.get_node(\"/proton\", \"variance\").read()\n",
    "    energy_node = h5file.get_node(\"/proton\", \"energy\")\n",
    "    energy = energy_node.read()\n",
    "    energy_normilizer = Normilizer(energy_node.attrs[\"init\"], step=energy_node.attrs[\"step\"], norm=energy_node.attrs[\"norm\"])\n",
    "    theta = h5file.get_node(\"/proton\", \"theta\").read()\n",
    "    shift = h5file.get_node(\"/proton\", \"shift\").read()"
   ],
   "metadata": {
    "collapsed": false,
    "pycharm": {
     "name": "#%%\n"
    }
   }
  },
  {
   "cell_type": "code",
   "execution_count": null,
   "outputs": [],
   "source": [
    "\n"
   ],
   "metadata": {
    "collapsed": false,
    "pycharm": {
     "name": "#%%\n"
    }
   }
  },
  {
   "cell_type": "code",
   "execution_count": null,
   "outputs": [],
   "source": [
    "full_energy = mean.sum(axis=0)"
   ],
   "metadata": {
    "collapsed": false,
    "pycharm": {
     "name": "#%%\n"
    }
   }
  },
  {
   "cell_type": "code",
   "execution_count": null,
   "outputs": [],
   "source": [
    "ranges = data[\"mean\"][:].argmin(axis=1)"
   ],
   "metadata": {
    "collapsed": false,
    "pycharm": {
     "name": "#%%\n"
    }
   }
  },
  {
   "cell_type": "code",
   "execution_count": null,
   "outputs": [],
   "source": [
    "plt.scatter(ranges, full_energy)"
   ],
   "metadata": {
    "collapsed": false,
    "pycharm": {
     "name": "#%%\n"
    }
   }
  },
  {
   "cell_type": "code",
   "execution_count": null,
   "outputs": [],
   "source": [
    "for i in range(16):\n",
    "    plt.plot(mean[:, 100, 30, i])"
   ],
   "metadata": {
    "collapsed": false,
    "pycharm": {
     "name": "#%%\n"
    }
   }
  },
  {
   "cell_type": "code",
   "execution_count": null,
   "outputs": [],
   "source": [
    "ranges = data[\"mean\"][:].argmin(axis=1)"
   ],
   "metadata": {
    "collapsed": false,
    "pycharm": {
     "name": "#%%\n"
    }
   }
  },
  {
   "cell_type": "code",
   "execution_count": null,
   "outputs": [],
   "source": [
    "ranges.shape\n",
    "plt.plot(ranges)"
   ],
   "metadata": {
    "collapsed": false,
    "pycharm": {
     "name": "#%%\n"
    }
   }
  },
  {
   "cell_type": "code",
   "execution_count": null,
   "outputs": [],
   "source": [
    "print(ranges[:10])"
   ],
   "metadata": {
    "collapsed": false,
    "pycharm": {
     "name": "#%%\n"
    }
   }
  },
  {
   "cell_type": "code",
   "execution_count": null,
   "outputs": [],
   "source": [
    "indx_ranges = ranges != 0.0"
   ],
   "metadata": {
    "collapsed": false,
    "pycharm": {
     "name": "#%%\n"
    }
   }
  },
  {
   "cell_type": "code",
   "execution_count": null,
   "outputs": [],
   "source": [
    "indx = np.logical_and(data[\"energy\"] == 70.0, indx_ranges)\n",
    "plt.scatter(ranges[indx], data[\"theta\"][indx])"
   ],
   "metadata": {
    "collapsed": false,
    "pycharm": {
     "name": "#%%\n"
    }
   }
  },
  {
   "cell_type": "code",
   "execution_count": null,
   "outputs": [],
   "source": [
    "indx = np.logical_and(data[\"energy\"] == 50.0, indx_ranges)\n",
    "plt.scatter(ranges[indx], data[\"theta\"][indx])"
   ],
   "metadata": {
    "collapsed": false,
    "pycharm": {
     "name": "#%%\n"
    }
   }
  },
  {
   "cell_type": "code",
   "execution_count": null,
   "outputs": [],
   "source": [],
   "metadata": {
    "collapsed": false,
    "pycharm": {
     "name": "#%%\n"
    }
   }
  },
  {
   "cell_type": "code",
   "execution_count": null,
   "outputs": [],
   "source": [
    "indx_empty = (mean[0] == 0)\n",
    "ranges_mesh = (mean != 0.0).argmin(axis=0)\n",
    "indx = np.logical_and(ranges_mesh == 0, np.logical_not(indx_empty))\n",
    "ranges_mesh[indx] = 100"
   ],
   "metadata": {
    "collapsed": false,
    "pycharm": {
     "name": "#%%\n"
    }
   }
  },
  {
   "cell_type": "code",
   "execution_count": null,
   "outputs": [],
   "source": [
    "plt.matshow(ranges_mesh[:,:,0])\n"
   ],
   "metadata": {
    "collapsed": false,
    "pycharm": {
     "name": "#%%\n"
    }
   }
  },
  {
   "cell_type": "code",
   "execution_count": null,
   "outputs": [],
   "source": [
    "plt.matshow(ranges_mesh[:,:,-1])"
   ],
   "metadata": {
    "collapsed": false,
    "pycharm": {
     "name": "#%%\n"
    }
   }
  },
  {
   "cell_type": "code",
   "execution_count": null,
   "outputs": [],
   "source": [
    "print(ranges_mesh.shape)\n",
    "print(ranges_mesh[:, 0, 0])"
   ],
   "metadata": {
    "collapsed": false,
    "pycharm": {
     "name": "#%%\n"
    }
   }
  },
  {
   "cell_type": "code",
   "execution_count": null,
   "outputs": [],
   "source": [
    "# def theta_constrain(ranges_mesh, energy_indx, theta):\n",
    "energy_indx = 50\n",
    "range_mesh = ranges_mesh[energy_indx]\n",
    "min_range = range_mesh.min(axis=1)\n",
    "print(min_range.shape)"
   ],
   "metadata": {
    "collapsed": false,
    "pycharm": {
     "name": "#%%\n"
    }
   }
  },
  {
   "cell_type": "code",
   "execution_count": null,
   "outputs": [],
   "source": [
    "plt.plot(theta, min_range)"
   ],
   "metadata": {
    "collapsed": false,
    "pycharm": {
     "name": "#%%\n"
    }
   }
  }
 ],
 "metadata": {
  "kernelspec": {
   "display_name": "Python 3",
   "language": "python",
   "name": "python3"
  },
  "language_info": {
   "codemirror_mode": {
    "name": "ipython",
    "version": 2
   },
   "file_extension": ".py",
   "mimetype": "text/x-python",
   "name": "python",
   "nbconvert_exporter": "python",
   "pygments_lexer": "ipython2",
   "version": "2.7.6"
  },
  "pycharm": {
   "stem_cell": {
    "cell_type": "raw",
    "source": [],
    "metadata": {
     "collapsed": false
    }
   }
  }
 },
 "nbformat": 4,
 "nbformat_minor": 0
}