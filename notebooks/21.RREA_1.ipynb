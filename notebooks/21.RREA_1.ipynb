{
 "cells": [
  {
   "cell_type": "markdown",
   "metadata": {
    "collapsed": true,
    "pycharm": {
     "name": "#%% md\n"
    }
   },
   "source": [
    "# План симуляций\n",
    "0. Превышение критической энергии, условие  возникновения лавины.\n",
    "1. Симуляции паратметров электронной лавины без учета гамма-квантов\n",
    "2. Расчет длинны нарастания лавины для разных высот и полей (делая поправку для поля на высоту)\n",
    "3. Расчет средней энергии электронов, спектра электронов, зависимости от начальной энергии\n",
    "\n",
    "\n"
   ]
  },
  {
   "cell_type": "code",
   "execution_count": 2,
   "outputs": [],
   "source": [
    "from dataclasses import dataclass\n",
    "import numpy as np\n",
    "import matplotlib.pyplot as plt\n",
    "import tables\n",
    "import matplotlib as mpl"
   ],
   "metadata": {
    "collapsed": false,
    "pycharm": {
     "name": "#%%\n"
    }
   }
  },
  {
   "cell_type": "code",
   "execution_count": 2,
   "outputs": [],
   "source": [
    "path = \"/home/zelenyy/data/thunderstorm/test/result.hdf5\"\n",
    "# path = \"/mnt/storage2/phd/data/thunderstorm/critical_energy/result.hdf5\""
   ],
   "metadata": {
    "collapsed": false,
    "pycharm": {
     "name": "#%%\n"
    }
   }
  },
  {
   "cell_type": "code",
   "execution_count": 8,
   "outputs": [
    {
     "name": "stdout",
     "output_type": "stream",
     "text": [
      "/sim0000/stacking_simple._v_attrs (AttributeSet), 32 attributes:\n",
      "   [CLASS := 'TABLE',\n",
      "    FIELD_0_FILL := 0,\n",
      "    FIELD_0_NAME := 'event',\n",
      "    FIELD_1_FILL := 0,\n",
      "    FIELD_1_NAME := 'id',\n",
      "    FIELD_2_FILL := 0,\n",
      "    FIELD_2_NAME := 'parent_id',\n",
      "    FIELD_3_FILL := 0,\n",
      "    FIELD_3_NAME := 'particle',\n",
      "    FIELD_4_FILL := 0.0,\n",
      "    FIELD_4_NAME := 'energy',\n",
      "    FIELD_5_FILL := 0.0,\n",
      "    FIELD_5_NAME := 'theta',\n",
      "    FIELD_6_FILL := 0.0,\n",
      "    FIELD_6_NAME := 'radius',\n",
      "    FIELD_7_FILL := 0.0,\n",
      "    FIELD_7_NAME := 'z',\n",
      "    FIELD_8_FILL := 0.0,\n",
      "    FIELD_8_NAME := 'time',\n",
      "    NROWS := 8397,\n",
      "    TITLE := '',\n",
      "    VERSION := '2.7',\n",
      "    path := 'sim0000',\n",
      "    text := '/npm/geometry/type gdml\\n/npm/geometry/gdml .././gdml/0.gdml\\n/npm/thunderstorm/physics standard_opt_4\\n/npm/thunderstorm/minimal_energy 0.10220286877494192 MeV\\n/npm/thunderstorm/stacking/electron false\\n/npm/thunderstorm/stacking/positron false\\n/npm/thunderstorm/stacking/gamma false\\n/npm/thunderstorm/stacking/save_gamma false\\n/npm/thunderstorm/stacking/save_electron true\\n/npm/thunderstorm/stacking/save_electron_cut 0.10220286877494192 MeV\\n\\n/gps/particle e-\\n/gps/number 1\\n/gps/direction 0 0 -1\\n/gps/ene/mono 0.10220286877494192 MeV\\n/gps/position 0.0 0.0 499.0 m\\n/run/beamOn 100\\nexit\\n',\n",
      "    values_gdml_field := [0.00030000000000000003],\n",
      "    values_gdml_height := [0.0],\n",
      "    values_macros_energy := 0.10220286877494192,\n",
      "    values_macros_min_energy := 0.10220286877494192,\n",
      "    values_macros_number := 100,\n",
      "    values_macros_path := '.././gdml/0.gdml',\n",
      "    values_macros_physics := 'standard_opt_4',\n",
      "    values_time := 8.916742393994355]\n"
     ]
    }
   ],
   "source": [
    "with tables.open_file(path) as h5file:\n",
    "    # print(h5file)\n",
    "    for group in h5file.root:\n",
    "        # print(group._v_name)\n",
    "        table = h5file.get_node(group, \"stacking_simple\")\n",
    "        # print(table.nrows)\n",
    "        print(repr(table.attrs))\n",
    "        # data = table.read()\n",
    "        break"
   ],
   "metadata": {
    "collapsed": false,
    "pycharm": {
     "name": "#%%\n"
    }
   }
  },
  {
   "cell_type": "code",
   "execution_count": null,
   "outputs": [],
   "source": [
    "bins = np.arange(0.001, 2, 0.001)\n"
   ],
   "metadata": {
    "collapsed": false,
    "pycharm": {
     "name": "#%%\n"
    }
   }
  },
  {
   "cell_type": "code",
   "execution_count": 4,
   "outputs": [],
   "source": [
    "@dataclass\n",
    "class CEData:\n",
    "    number : int\n",
    "    energy : float\n",
    "    hist : np.ndarray\n",
    "\n",
    "def select_data(table, field, height):\n",
    "    m_field = table.attrs[\"values_gdml_field\"][0]\n",
    "    m_height = table.attrs[\"values_gdml_height\"][0]\n",
    "    return np.isclose([m_field, m_height], [field, height]).all()\n",
    "\n",
    "def get_data(path, field = 0.0, height = 0.0):\n",
    "    result = []\n",
    "    bins = np.arange(0.001, 2, 0.001)\n",
    "    with tables.open_file(path) as h5file:\n",
    "        for group in h5file.root:\n",
    "            table = h5file.get_node(group, \"stacking_simple\")\n",
    "            if select_data(table, field, height):\n",
    "                data = table.read()\n",
    "                energy =  table.attrs[\"values_macros_energy\"]\n",
    "                number =  table.attrs[\"values_macros_number\"]\n",
    "                hist, _ = np.histogram(data[\"energy\"], bins=bins)\n",
    "                result.append(CEData(number, energy, hist))\n",
    "    return result, bins"
   ],
   "metadata": {
    "collapsed": false,
    "pycharm": {
     "name": "#%%\n"
    }
   }
  },
  {
   "cell_type": "code",
   "execution_count": 9,
   "outputs": [],
   "source": [
    "ce_list, bins = get_data(path, field=0.00030000000000000003)"
   ],
   "metadata": {
    "collapsed": false,
    "pycharm": {
     "name": "#%%\n"
    }
   }
  },
  {
   "cell_type": "code",
   "execution_count": 10,
   "outputs": [],
   "source": [
    "ce_list = sorted(ce_list, key=lambda x: x.energy)"
   ],
   "metadata": {
    "collapsed": false,
    "pycharm": {
     "name": "#%%\n"
    }
   }
  },
  {
   "cell_type": "code",
   "execution_count": 11,
   "outputs": [
    {
     "data": {
      "text/plain": "<Figure size 432x288 with 1 Axes>",
      "image/png": "[encoded data removed]"
     },
     "metadata": {
      "needs_background": "light"
     },
     "output_type": "display_data"
    }
   ],
   "source": [
    "for item in ce_list:\n",
    "    plt.step(bins[:-1], item.hist)"
   ],
   "metadata": {
    "collapsed": false,
    "pycharm": {
     "name": "#%%\n"
    }
   }
  },
  {
   "cell_type": "code",
   "execution_count": 12,
   "outputs": [
    {
     "name": "stdout",
     "output_type": "stream",
     "text": [
      "79.86 0\n",
      "68.07 1\n",
      "89.99 2\n",
      "100.51 3\n",
      "96.18 4\n",
      "98.94 5\n",
      "88.9 6\n",
      "101.45 7\n",
      "106.35 8\n",
      "103.53 9\n",
      "107.26 10\n",
      "101.54 11\n",
      "106.77 12\n",
      "114.34 13\n",
      "107.86 14\n",
      "114.07 15\n",
      "109.81 16\n",
      "115.8 17\n",
      "106.98 18\n",
      "111.38 19\n",
      "116.74 20\n",
      "114.67 21\n",
      "115.76 22\n",
      "114.34 23\n",
      "114.95 24\n",
      "117.02 25\n",
      "113.99 26\n",
      "111.22 27\n",
      "116.27 28\n",
      "120.65 29\n",
      "120.5 30\n",
      "117.07 31\n",
      "117.5 32\n",
      "119.6 33\n",
      "116.36 34\n",
      "117.33 35\n",
      "118.43 36\n",
      "115.26 37\n",
      "117.67 38\n",
      "116.91 39\n",
      "118.5 40\n",
      "119.42 41\n",
      "118.51 42\n",
      "120.45 43\n",
      "118.5 44\n",
      "120.67 45\n",
      "119.03 46\n",
      "116.21 47\n",
      "117.93 48\n",
      "116.74 49\n",
      "119.45 50\n",
      "119.29 51\n",
      "117.85 52\n",
      "114.88 53\n",
      "118.65 54\n",
      "115.35 55\n",
      "116.93 56\n",
      "118.76 57\n",
      "115.05 58\n",
      "119.03 59\n",
      "119.02 60\n",
      "117.2 61\n"
     ]
    }
   ],
   "source": [
    "for item in ce_list:\n",
    "    print(item.hist.sum()/item.number, ce_list.index(item))"
   ],
   "metadata": {
    "collapsed": false,
    "pycharm": {
     "name": "#%%\n"
    }
   }
  },
  {
   "cell_type": "code",
   "execution_count": 65,
   "outputs": [
    {
     "data": {
      "text/plain": "<matplotlib.collections.LineCollection at 0x7f6c203231d0>"
     },
     "execution_count": 65,
     "metadata": {},
     "output_type": "execute_result"
    },
    {
     "data": {
      "text/plain": "<Figure size 432x288 with 1 Axes>",
      "image/png": "[encoded data removed]"
     },
     "metadata": {
      "needs_background": "light"
     },
     "output_type": "display_data"
    }
   ],
   "source": [
    "item = ce_list[-1]\n",
    "n = 100\n",
    "plt.step(bins[:-1], item.hist/item.number)\n",
    "plt.vlines(item.energy, 0, 0.12)"
   ],
   "metadata": {
    "collapsed": false,
    "pycharm": {
     "name": "#%%\n"
    }
   }
  },
  {
   "cell_type": "code",
   "execution_count": 3,
   "outputs": [],
   "source": [
    "def get_data_event(path, field = 0.0, height = 0.0):\n",
    "    result = []\n",
    "    with tables.open_file(path) as h5file:\n",
    "        for group in h5file.root:\n",
    "            table = h5file.get_node(group, \"stacking_simple\")\n",
    "            if select_data(table, field, height):\n",
    "                data = table.read()\n",
    "                energy =  table.attrs[\"values_macros_energy\"]\n",
    "                number =  table.attrs[\"values_macros_number\"]\n",
    "                _, temp  = np.unique(data[\"event\"], return_counts=True)\n",
    "                result.append(CEData(number, energy, temp))\n",
    "    return result"
   ],
   "metadata": {
    "collapsed": false,
    "pycharm": {
     "name": "#%%\n"
    }
   }
  },
  {
   "cell_type": "code",
   "execution_count": 11,
   "outputs": [],
   "source": [
    "event_list = get_data_event(path, field=9e-4)"
   ],
   "metadata": {
    "collapsed": false,
    "pycharm": {
     "name": "#%%\n"
    }
   }
  },
  {
   "cell_type": "code",
   "execution_count": 14,
   "outputs": [
    {
     "data": {
      "text/plain": "[<matplotlib.lines.Line2D at 0x7f1b99ace3d0>]"
     },
     "execution_count": 14,
     "metadata": {},
     "output_type": "execute_result"
    },
    {
     "data": {
      "text/plain": "<Figure size 432x288 with 1 Axes>",
      "image/png": "[encoded data removed]"
     },
     "metadata": {
      "needs_background": "light"
     },
     "output_type": "display_data"
    }
   ],
   "source": [
    "item = event_list[28]\n",
    "plt.plot(item.hist)"
   ],
   "metadata": {
    "collapsed": false,
    "pycharm": {
     "name": "#%%\n"
    }
   }
  },
  {
   "cell_type": "code",
   "execution_count": 13,
   "outputs": [],
   "source": [
    "def get_data_z(path, field = 0.0, height = 0.0):\n",
    "    result = []\n",
    "    bins = np.arange(-500.0, 501, 1)\n",
    "    with tables.open_file(path) as h5file:\n",
    "        for group in h5file.root:\n",
    "            table = h5file.get_node(group, \"stacking_simple\")\n",
    "            if select_data(table, field, height):\n",
    "                data = table.read()\n",
    "                energy =  table.attrs[\"values_macros_energy\"]\n",
    "                number =  table.attrs[\"values_macros_number\"]\n",
    "                temp, _ = np.histogram(data[\"z\"], bins=bins)\n",
    "                temp = np.cumsum(temp)\n",
    "                result.append(CEData(number, energy, temp))\n",
    "    return result"
   ],
   "metadata": {
    "collapsed": false,
    "pycharm": {
     "name": "#%%\n"
    }
   }
  },
  {
   "cell_type": "code",
   "execution_count": 17,
   "outputs": [],
   "source": [
    "z_list = get_data_z(path, field=11e-4)\n"
   ],
   "metadata": {
    "collapsed": false,
    "pycharm": {
     "name": "#%%\n"
    }
   }
  },
  {
   "cell_type": "code",
   "execution_count": 18,
   "outputs": [
    {
     "data": {
      "text/plain": "<Figure size 432x288 with 1 Axes>",
      "image/png": "[encoded data removed]"
     },
     "metadata": {
      "needs_background": "light"
     },
     "output_type": "display_data"
    }
   ],
   "source": [
    "bins = np.arange(-500.0, 501, 1)\n",
    "for item in z_list:\n",
    "    plt.step(bins[:-1], item.hist/item.number)"
   ],
   "metadata": {
    "collapsed": false,
    "pycharm": {
     "name": "#%%\n"
    }
   }
  },
  {
   "cell_type": "code",
   "execution_count": 19,
   "outputs": [
    {
     "data": {
      "text/plain": "[<matplotlib.lines.Line2D at 0x7fc88cf55e50>]"
     },
     "execution_count": 19,
     "metadata": {},
     "output_type": "execute_result"
    },
    {
     "data": {
      "text/plain": "<Figure size 432x288 with 1 Axes>",
      "image/png": "[encoded data removed]"
     },
     "metadata": {
      "needs_background": "light"
     },
     "output_type": "display_data"
    }
   ],
   "source": [
    "from scipy.linalg import lstsq\n",
    "\n",
    "bins = np.arange(-500.0, 501, 1)\n",
    "energy = []\n",
    "k = []\n",
    "for item in z_list:\n",
    "    x = bins[:-1]\n",
    "    y = item.hist/item.number\n",
    "    M = x[:, np.newaxis]**[0, 1]\n",
    "    p, res, rnk, s = lstsq(M, y)\n",
    "    energy.append(item.energy)\n",
    "    k.append(p[1])\n",
    "plt.plot(energy, k, \"o\")\n",
    "\n",
    "\n",
    "\n",
    "\n",
    "\n"
   ],
   "metadata": {
    "collapsed": false,
    "pycharm": {
     "name": "#%%\n"
    }
   }
  },
  {
   "cell_type": "code",
   "execution_count": null,
   "outputs": [],
   "source": [],
   "metadata": {
    "collapsed": false,
    "pycharm": {
     "name": "#%%\n"
    }
   }
  }
 ],
 "metadata": {
  "kernelspec": {
   "display_name": "Python 3",
   "language": "python",
   "name": "python3"
  },
  "language_info": {
   "codemirror_mode": {
    "name": "ipython",
    "version": 2
   },
   "file_extension": ".py",
   "mimetype": "text/x-python",
   "name": "python",
   "nbconvert_exporter": "python",
   "pygments_lexer": "ipython2",
   "version": "2.7.6"
  }
 },
 "nbformat": 4,
 "nbformat_minor": 0
}