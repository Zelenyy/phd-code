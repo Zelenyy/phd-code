{
 "cells": [
  {
   "cell_type": "code",
   "execution_count": 98,
   "metadata": {
    "pycharm": {
     "is_executing": false
    }
   },
   "outputs": [],
   "source": [
    "import json\n",
    "import os\n",
    "from dataclasses import dataclass\n",
    "import matplotlib.pyplot as plt\n",
    "import tables\n",
    "from dataforge import Meta, Name\n",
    "from phd.thunderstorm.dwyer_feedback import get_bins_from_center, load_reversed_data, histogrammed_reverse_data, \\\n",
    "    histogrammed_reverse_data_v2, ReverseHistogramm, get_dwyer_line, FeedBack\n",
    "from phd.utils.convertor_tools import direction_to_degree\n",
    "from scipy.interpolate import UnivariateSpline\n",
    "import numpy as np\n",
    "import matplotlib as mpl\n",
    "import tables\n",
    "from phd.utils.path_tools import find_by_meta, get_attrs_values\n",
    "from scipy.optimize import curve_fit\n",
    "from tables import File, Group"
   ]
  },
  {
   "cell_type": "code",
   "execution_count": 167,
   "outputs": [],
   "source": [
    "path = \"/mnt/storage2/phd/data/thunderstorm/dwyer2003/\"\n",
    "over_3mev = []\n",
    "for i in range(6):\n",
    "    path_hdf5 = os.path.join(path, f\"diff_{i}.hdf5\")\n",
    "    with tables.open_file(path_hdf5) as h5file:\n",
    "        for group in h5file.root:\n",
    "            for name in [\"gamma\", \"positron\"]:\n",
    "                table = h5file.get_node(group, name)\n",
    "                number = table.attrs[\"values_macros_number\"]\n",
    "                height = table.attrs[\"values_gdml_height\"]\n",
    "                cell = table.attrs[\"values_gdml_cellHeight\"]\n",
    "                field = table.attrs[\"values_gdml_fieldValueZ\"] \n",
    "                data = table.read()\n",
    "                indx = data[\"energy\"] > 3\n",
    "                over_3mev.append([name, field, cell, indx.sum(), number, indx.sum()/number])"
   ],
   "metadata": {
    "collapsed": false,
    "pycharm": {
     "name": "#%%\n",
     "is_executing": false
    }
   }
  },
  {
   "cell_type": "code",
   "execution_count": 169,
   "outputs": [
    {
     "name": "stdout",
     "text": [
      "0.00055 1500.1333333333334\n",
      "0.0006 45.0\n",
      "0.00055 106.0\n",
      "0.0005 48.0\n",
      "0.00045 96.0\n",
      "0.0004 0.0\n",
      "0.0006 10.6\n",
      "0.0006 13.2\n",
      "0.0006 8.0\n",
      "0.0006 4.0\n",
      "0.0006 11.0\n",
      "0.0006 11.0\n"
     ],
     "output_type": "stream"
    }
   ],
   "source": [
    "for item in over_3mev:\n",
    "    if item[0] != \"gamma\": continue\n",
    "    if item[1] == 0.001 or item[1]==0.0007: continue\n",
    "    print(item[1], item[-1])\n"
   ],
   "metadata": {
    "collapsed": false,
    "pycharm": {
     "name": "#%%\n",
     "is_executing": false
    }
   }
  },
  {
   "cell_type": "code",
   "execution_count": 170,
   "outputs": [
    {
     "name": "stdout",
     "text": [
      "0.00055 72.46666666666667\n",
      "0.0006 30.0\n",
      "0.00055 67.0\n",
      "0.0005 25.0\n",
      "0.00045 72.0\n",
      "0.0004 0.0\n",
      "0.0006 10.3\n",
      "0.0006 12.0\n",
      "0.0006 8.2\n",
      "0.0006 2.0\n",
      "0.0006 8.2\n",
      "0.0006 5.0\n"
     ],
     "output_type": "stream"
    }
   ],
   "source": [
    "for item in over_3mev:\n",
    "    if item[0] != \"positron\": continue\n",
    "    if item[1] == 0.001 or item[1]==0.0007: continue\n",
    "    print(item[1], item[-1])\n",
    "\n"
   ],
   "metadata": {
    "collapsed": false,
    "pycharm": {
     "name": "#%%\n",
     "is_executing": false
    }
   }
  },
  {
   "cell_type": "code",
   "execution_count": null,
   "outputs": [],
   "source": [
    "\n"
   ],
   "metadata": {
    "collapsed": false,
    "pycharm": {
     "name": "#%%\n"
    }
   }
  }
 ],
 "metadata": {
  "kernelspec": {
   "display_name": "Python 3",
   "language": "python",
   "name": "python3"
  },
  "language_info": {
   "codemirror_mode": {
    "name": "ipython",
    "version": 3
   },
   "file_extension": ".py",
   "mimetype": "text/x-python",
   "name": "python",
   "nbconvert_exporter": "python",
   "pygments_lexer": "ipython3",
   "version": "3.7.6"
  }
 },
 "nbformat": 4,
 "nbformat_minor": 4
}