{
 "cells": [
  {
   "cell_type": "code",
   "execution_count": 1,
   "metadata": {
    "collapsed": true,
    "pycharm": {
     "is_executing": false
    }
   },
   "outputs": [],
   "source": [
    "from dataclasses import dataclass\n",
    "from typing import Optional\n",
    "import matplotlib as mpl\n",
    "import json\n",
    "import sys\n",
    "import numpy as np\n",
    "import tables\n",
    "import os\n",
    "import matplotlib.pyplot as plt"
   ]
  },
  {
   "cell_type": "code",
   "execution_count": 2,
   "outputs": [],
   "source": [
    "from tables import File, Group, Table\n",
    "path = \"/home/zelenyy/data/thunderstorm/test_probability_dwyer/result.hdf5\""
   ],
   "metadata": {
    "collapsed": false,
    "pycharm": {
     "name": "#%%\n",
     "is_executing": false
    }
   }
  },
  {
   "cell_type": "code",
   "execution_count": 3,
   "outputs": [],
   "source": [
    "class WeightHistogramm:\n",
    "    def __init__(self, bins_x, bins_y, data):\n",
    "        self.bins_x = bins_x\n",
    "        self.bins_y = bins_y\n",
    "        self.data = data\n",
    "    \n",
    "    def get_weight(self, x, y) -> float:\n",
    "        xc = np.argmax(self.bins_x>x) - 1\n",
    "        yc = np.argmax(self.bins_y>y) - 1\n",
    "        return self.data[xc,yc]\n",
    "    \n",
    "    @staticmethod\n",
    "    def from_file(h5file: File, group: Group, tracking_table: Table):\n",
    "        bins_x = h5file.get_node(group, \"xbins\").read()\n",
    "        bins_y = h5file.get_node(group, \"ybins\").read()\n",
    "        table = h5file.get_node(group, \"histByEvent\")\n",
    "        data = table.read(table.nrows-1)['histogramm'][0]\n",
    "        \n",
    "        energy_min = np.min(bins_x)\n",
    "        energy_max = np.max(bins_y)\n",
    "        \n",
    "        condition=\"(energy > {}) & (energy <= {}) & (particle == )\".format(energy_min, energy_max)\n",
    "        data_tracking = tracking_table.where(condition)\n",
    "        \n",
    "                \n",
    "        return WeightHistogramm(bins_x, bins_y, data)\n",
    "\n",
    "@dataclass\n",
    "class HistDispatcher:\n",
    "    gamma_low : WeightHistogramm\n",
    "    gamma_high: WeightHistogramm\n",
    "    electron_low: WeightHistogramm\n",
    "    electron_high: WeightHistogramm\n",
    "    \n",
    "    def get_hist(self, particle) -> Optional[WeightHistogramm]:\n",
    "        \"\"\"\n",
    "        PDGID\n",
    "        electron = 11\n",
    "        positron = -11\n",
    "        gamma = 22\n",
    "        :param particle: \n",
    "        :return: \n",
    "        \"\"\"\n",
    "        if particle[\"particle\"] == 22:\n",
    "            if particle[\"energy\"] < 1:\n",
    "                return self.gamma_low\n",
    "            else:\n",
    "                return self.gamma_high\n",
    "        elif particle[\"particle\"] == 11:\n",
    "            if particle[\"energy\"] < 1:\n",
    "                return self.electron_low\n",
    "            else:\n",
    "                return self.electron_high\n",
    "        else:\n",
    "            return None\n",
    "    @staticmethod\n",
    "    def from_file(h5file, group):\n",
    "        \n",
    "        tracking_table = h5file.get_node(group, \"TreeTracking\")\n",
    "        \n",
    "        group_hist = h5file.get_node(group, \"histDwyer2003\")\n",
    "        group_gamma_low = h5file.get_node(group_hist, \"gamma_low\")\n",
    "        gamma_low = WeightHistogramm.from_file(h5file, group_gamma_low, tracking_table)\n",
    "        \n",
    "        group_gamma_high = h5file.get_node(group_hist, \"gamma_high\")\n",
    "        gamma_high = WeightHistogramm.from_file(h5file, group_gamma_high, tracking_table)\n",
    "\n",
    "        group_electron_low = h5file.get_node(group_hist, \"electron_low\")\n",
    "        electron_low = WeightHistogramm.from_file(h5file, group_electron_low, tracking_table)        \n",
    "\n",
    "        group_electron_high = h5file.get_node(group_hist, \"electron_high\")\n",
    "        electron_high = WeightHistogramm.from_file(h5file, group_electron_high, tracking_table)\n",
    "        \n",
    "        return HistDispatcher(gamma_low, gamma_high, electron_low, electron_high)"
   ],
   "metadata": {
    "collapsed": false,
    "pycharm": {
     "name": "#%%\n",
     "is_executing": false
    }
   }
  },
  {
   "cell_type": "code",
   "execution_count": 27,
   "outputs": [],
   "source": [
    "with tables.open_file(path) as h5file:\n",
    "    group =h5file.get_node(h5file.root, \"sim0001\")\n",
    "    hist_dispatcher = HistDispatcher.from_file(h5file, group)\n",
    "    \n",
    "\n",
    "# %%"
   ],
   "metadata": {
    "collapsed": false,
    "pycharm": {
     "name": "#%%\n",
     "is_executing": false
    }
   }
  },
  {
   "cell_type": "code",
   "execution_count": 29,
   "outputs": [
    {
     "data": {
      "text/plain": "array([[  7,  10,   3,  11,  11,  23,  29,  32,  58,  69,  72, 107, 162,\n        195, 196, 157,  98,  43,  20,  11,   5,   2,   4,   0,   1,   0,\n          0,   0,   0,   0,   0,   0,   0,   0,   0,   0,   0,   0,   0,\n          0],\n       [  4,   4,   6,   4,   3,  10,  19,   9,  35,  46,  46,  54,  83,\n         83, 111,  72,  36,  20,   9,   5,   3,   2,   0,   0,   1,   0,\n          0,   0,   0,   0,   0,   0,   0,   0,   0,   0,   0,   0,   0,\n          0],\n       [  3,   2,   4,   5,   7,   5,   7,  10,  16,  31,  31,  39,  55,\n         55,  60,  49,  35,  20,  10,   3,   3,   0,   1,   0,   0,   0,\n          0,   0,   0,   0,   0,   0,   0,   0,   0,   0,   0,   0,   0,\n          0],\n       [  2,   2,   1,   5,   4,   4,  10,   5,  12,  17,  21,  42,  46,\n         40,  56,  30,  26,  11,   9,   5,   1,   1,   0,   0,   0,   0,\n          0,   0,   0,   0,   0,   0,   0,   0,   0,   0,   0,   0,   0,\n          0],\n       [  2,   0,   1,   0,   0,   4,   6,   7,  10,  11,  19,  25,  30,\n         32,  48,  36,  21,  12,   3,   1,   0,   0,   0,   0,   0,   0,\n          0,   0,   0,   0,   0,   0,   0,   0,   0,   0,   0,   0,   0,\n          0],\n       [  2,   1,   0,   1,   7,   1,   4,   4,   8,  12,  14,  22,  26,\n         24,  37,  26,  17,   2,   2,   1,   1,   1,   0,   0,   0,   0,\n          0,   0,   0,   0,   0,   0,   0,   0,   0,   0,   0,   0,   0,\n          0],\n       [  1,   0,   2,   1,   3,   4,   1,   6,   2,   6,  11,  12,  26,\n         28,  26,  20,  10,   5,   0,   4,   0,   2,   0,   0,   0,   0,\n          0,   0,   0,   0,   0,   0,   0,   0,   0,   0,   0,   0,   0,\n          0],\n       [  0,   0,   1,   3,   2,   4,   6,   5,   9,   9,  16,  18,  19,\n         25,  17,  16,   6,   1,   2,   0,   1,   0,   0,   0,   0,   0,\n          0,   0,   0,   0,   0,   0,   0,   0,   0,   0,   0,   0,   0,\n          0],\n       [  0,   0,   1,   0,   1,   2,   2,   7,   4,   8,  10,   9,  20,\n         14,  30,  14,   9,   4,   2,   0,   2,   0,   1,   0,   0,   0,\n          0,   0,   0,   0,   0,   0,   0,   0,   0,   0,   0,   0,   0,\n          0],\n       [  0,   0,   2,   3,   1,   3,   2,   1,   6,   5,   3,  12,  17,\n         18,  19,  14,  13,   6,   4,   1,   0,   0,   0,   0,   0,   0,\n          0,   0,   0,   0,   0,   0,   0,   0,   0,   0,   0,   0,   0,\n          0],\n       [  0,   1,   0,   0,   1,   2,   2,   5,   1,   4,   9,  14,  14,\n         15,  17,  16,   7,   1,   0,   0,   0,   1,   0,   0,   0,   0,\n          0,   0,   0,   0,   0,   0,   0,   0,   0,   0,   0,   0,   0,\n          0],\n       [  0,   0,   0,   1,   1,   0,   3,   0,   3,   9,   6,  10,  12,\n         13,  11,  16,   5,   3,   0,   0,   0,   0,   0,   0,   0,   0,\n          0,   0,   0,   0,   0,   0,   0,   0,   0,   0,   0,   0,   0,\n          0],\n       [  0,   0,   2,   0,   2,   0,   2,   1,   3,   3,   7,   6,   8,\n         11,  19,   7,   4,   2,   1,   1,   0,   1,   0,   0,   0,   0,\n          0,   0,   0,   0,   0,   0,   0,   0,   0,   0,   0,   0,   0,\n          0],\n       [  0,   0,   2,   1,   0,   1,   0,   3,   2,   4,   5,   9,   8,\n         10,  13,   8,   7,   1,   4,   0,   0,   0,   0,   0,   0,   0,\n          0,   0,   0,   0,   0,   0,   0,   0,   0,   0,   0,   0,   0,\n          0],\n       [  0,   0,   0,   0,   0,   1,   2,   1,   4,   1,   8,   8,   7,\n         17,   9,   3,   2,   1,   0,   1,   0,   0,   0,   0,   0,   0,\n          0,   0,   0,   0,   0,   0,   0,   0,   0,   0,   0,   0,   0,\n          0],\n       [  1,   0,   0,   0,   1,   2,   2,   1,   2,   5,   3,   6,  10,\n          9,  20,   7,   3,   1,   0,   0,   1,   1,   0,   0,   0,   0,\n          0,   0,   0,   0,   0,   0,   0,   0,   0,   0,   0,   0,   0,\n          0],\n       [  0,   1,   0,   0,   0,   2,   1,   3,   1,   2,   4,   8,   8,\n         12,   5,   6,   1,   3,   1,   0,   0,   0,   1,   0,   0,   0,\n          0,   0,   0,   0,   0,   0,   0,   0,   0,   0,   0,   0,   0,\n          0],\n       [  0,   0,   0,   1,   1,   0,   1,   1,   1,   3,   4,   4,   4,\n         12,   6,  11,   4,   0,   0,   1,   0,   0,   0,   0,   0,   0,\n          0,   0,   0,   0,   0,   0,   0,   0,   0,   0,   0,   0,   0,\n          0],\n       [  0,   0,   0,   1,   0,   1,   2,   0,   1,   3,   1,   5,   6,\n          8,  14,   6,   4,   2,   0,   1,   0,   0,   0,   0,   0,   0,\n          0,   0,   0,   0,   0,   0,   0,   0,   0,   0,   0,   0,   0,\n          0]], dtype=int32)"
     },
     "metadata": {},
     "output_type": "execute_result",
     "execution_count": 29
    }
   ],
   "source": [
    "hist_dispatcher.gammaLowHist.data"
   ],
   "metadata": {
    "collapsed": false,
    "pycharm": {
     "name": "#%%\n",
     "is_executing": false
    }
   }
  },
  {
   "cell_type": "code",
   "execution_count": 6,
   "outputs": [
    {
     "name": "stdout",
     "text": [
      "/sim0001/histDwyer2003/electron_high/xbins._v_attrs (AttributeSet), 6 attributes:\n",
      "   [CLASS := 'ARRAY',\n",
      "    FLAVOR := 'numpy',\n",
      "    TITLE := '',\n",
      "    VERSION := '2.4',\n",
      "    type := 'energy',\n",
      "    unit := 'MeV']\n"
     ],
     "output_type": "stream"
    }
   ],
   "source": [
    "with tables.open_file(path) as h5file:\n",
    "    table =h5file.get_node(h5file.root, \"sim0001/histDwyer2003/electron_high/xbins\")\n",
    "    print(repr(table.attrs))"
   ],
   "metadata": {
    "collapsed": false,
    "pycharm": {
     "name": "#%%\n",
     "is_executing": false
    }
   }
  },
  {
   "cell_type": "code",
   "execution_count": null,
   "outputs": [],
   "source": [
    "\n"
   ],
   "metadata": {
    "collapsed": false,
    "pycharm": {
     "name": "#%%\n"
    }
   }
  }
 ],
 "metadata": {
  "kernelspec": {
   "display_name": "Python 3",
   "language": "python",
   "name": "python3"
  },
  "language_info": {
   "codemirror_mode": {
    "name": "ipython",
    "version": 2
   },
   "file_extension": ".py",
   "mimetype": "text/x-python",
   "name": "python",
   "nbconvert_exporter": "python",
   "pygments_lexer": "ipython2",
   "version": "2.7.6"
  },
  "pycharm": {
   "stem_cell": {
    "cell_type": "raw",
    "source": [],
    "metadata": {
     "collapsed": false
    }
   }
  }
 },
 "nbformat": 4,
 "nbformat_minor": 0
}