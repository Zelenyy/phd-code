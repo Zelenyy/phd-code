{
 "cells": [
  {
   "cell_type": "code",
   "execution_count": 1,
   "metadata": {
    "pycharm": {
     "is_executing": false
    }
   },
   "outputs": [],
   "source": [
    "import numpy as np\n",
    "from tables import open_file\n",
    "import matplotlib.pyplot as plt"
   ]
  },
  {
   "cell_type": "code",
   "execution_count": 3,
   "metadata": {
    "pycharm": {
     "is_executing": false,
     "name": "#%%\n"
    }
   },
   "outputs": [],
   "source": [
    "# path = \"/mnt/storage2/phd/data/thunderstorm/Aragats_2020/muon_06.26/down_muon_minus.hdf5\"\n",
    "path_minus = \"/home/zelenyy/muon_minus_uniform.hdf5\"\n",
    "paht_plus = \"/home/zelenyy/muon_plus_uniform.hdf5\""
   ]
  },
  {
   "cell_type": "code",
   "execution_count": 3,
   "metadata": {
    "pycharm": {
     "is_executing": false,
     "name": "#%%\n"
    }
   },
   "outputs": [
    {
     "name": "stdout",
     "output_type": "stream",
     "text": [
      "/sim0001/particle_detector._v_attrs (AttributeSet), 30 attributes:\n",
      "   [CLASS := 'TABLE',\n",
      "    FIELD_0_FILL := 0,\n",
      "    FIELD_0_NAME := 'event',\n",
      "    FIELD_1_FILL := 0,\n",
      "    FIELD_1_NAME := 'particle',\n",
      "    FIELD_2_FILL := 0.0,\n",
      "    FIELD_2_NAME := 'energy',\n",
      "    FIELD_3_FILL := 0.0,\n",
      "    FIELD_3_NAME := 'theta',\n",
      "    FIELD_4_FILL := 0.0,\n",
      "    FIELD_4_NAME := 'radius',\n",
      "    FIELD_5_FILL := 0.0,\n",
      "    FIELD_5_NAME := 'time',\n",
      "    NROWS := 10000,\n",
      "    TITLE := '',\n",
      "    VERSION := '2.7',\n",
      "    path := 'sim0001',\n",
      "    text := '/npm/geometry/type custom\\n/npm/thunderstorm/aragats/geo_type pie\\n/npm/thunderstorm/aragats/pie/low 3225 m\\n/npm/thunderstorm/aragats/pie/high 4225 m\\n/npm/thunderstorm/aragats/only_muon true\\n/npm/thunderstorm/physics FTFP_BERT_opt4\\n/npm/thunderstorm/cut/energy 0.05\\n/npm/thunderstorm/field_z 200.0 kV/m\\n\\n/gps/particle mu-\\n/gps/number 1\\n/gps/direction 0 0 -1\\n/gps/ene/mono 0.1 GeV\\n/gps/position 0. 0. 499.5 m\\n/run/beamOn 10000\\nexit\\n',\n",
      "    values_cut := 0.05,\n",
      "    values_direction := '0 0 -1',\n",
      "    values_energy := 0.1,\n",
      "    values_field_z := 200.0,\n",
      "    values_high := 4225,\n",
      "    values_low := 3225,\n",
      "    values_number := 10000,\n",
      "    values_particle := 'mu-',\n",
      "    values_physics := 'FTFP_BERT_opt4',\n",
      "    values_posZ := 499.5,\n",
      "    values_time := 0.4575722813606262,\n",
      "    values_type := 'pie']\n"
     ]
    }
   ],
   "source": [
    "with open_file(path) as h5file:\n",
    "    for group in h5file.root:\n",
    "        table = h5file.get_node(group, \"particle_detector\")\n",
    "        print(repr(table.attrs))\n",
    "        break"
   ]
  },
  {
   "cell_type": "code",
   "execution_count": 10,
   "metadata": {
    "pycharm": {
     "is_executing": false,
     "name": "#%%\n"
    }
   },
   "outputs": [],
   "source": [
    "def get_data_by_field(path, energy):\n",
    "    result = {}\n",
    "    with open_file(path) as h5file:\n",
    "        for group in h5file.root:\n",
    "            table = h5file.get_node(group, \"particle_detector\")\n",
    "            temp_energy = table.attrs[\"values_energy\"]\n",
    "            field = table.attrs[\"values_field_z\"]\n",
    "            if (temp_energy == energy):\n",
    "                result[field] = table.read()\n",
    "    return result\n",
    "\n",
    "def get_energy_list(path):\n",
    "    result = set()\n",
    "    with open_file(path) as h5file:\n",
    "        for group in h5file.root:\n",
    "            table = h5file.get_node(group, \"particle_detector\")\n",
    "            energy = table.attrs[\"values_energy\"]\n",
    "            result.add(energy)\n",
    "    result = np.array(list(result))\n",
    "    result.sort()\n",
    "    return result"
   ]
  },
  {
   "cell_type": "code",
   "execution_count": 11,
   "metadata": {
    "pycharm": {
     "is_executing": false,
     "name": "#%%\n"
    }
   },
   "outputs": [],
   "source": [
    "energy = get_energy_list(path)"
   ]
  },
  {
   "cell_type": "code",
   "execution_count": 7,
   "metadata": {
    "pycharm": {
     "is_executing": false,
     "name": "#%%\n"
    }
   },
   "outputs": [],
   "source": [
    "def calc_mean_energy(path):\n",
    "    with open_file(path) as h5file:\n",
    "        n = h5file.root._v_nchildren\n",
    "        result = np.zeros(n,  dtype=[\n",
    "            (\"field\", \"d\"),\n",
    "            (\"energy\", \"d\"),\n",
    "            (\"mean\", \"d\"),\n",
    "            (\"std\", \"d\")\n",
    "        ])\n",
    "        for i, group in enumerate(h5file.root):\n",
    "            table = h5file.get_node(group, \"particle_detector\")\n",
    "            result[i][\"energy\"] = table.attrs[\"values_energy\"]\n",
    "            result[i][\"field\"] = table.attrs[\"values_field_z\"]\n",
    "            data = table.read()[\"energy\"]/1000.0\n",
    "            result[i][\"mean\"] = data.mean()\n",
    "            result[i][\"std\"]= data.std()\n",
    "        return result"
   ]
  },
  {
   "cell_type": "code",
   "execution_count": 5,
   "metadata": {
    "pycharm": {
     "is_executing": false,
     "name": "#%%\n"
    }
   },
   "outputs": [],
   "source": [
    "def process(data):\n",
    "    fields = np.unique(data[\"field\"])\n",
    "    result = {}\n",
    "    for field in fields:\n",
    "        indx = data[\"field\"] == field\n",
    "        temp = data[indx]\n",
    "        result[field] = np.sort(temp, order=\"energy\")\n",
    "    return result"
   ]
  },
  {
   "cell_type": "code",
   "execution_count": 8,
   "metadata": {
    "pycharm": {
     "is_executing": false,
     "name": "#%%\n"
    }
   },
   "outputs": [
    {
     "name": "stderr",
     "output_type": "stream",
     "text": [
      "/home/zelenyy/anaconda3/lib/python3.7/site-packages/ipykernel_launcher.py:15: RuntimeWarning: Mean of empty slice.\n",
      "  from ipykernel import kernelapp as app\n",
      "/home/zelenyy/anaconda3/lib/python3.7/site-packages/numpy/core/_methods.py:161: RuntimeWarning: invalid value encountered in double_scalars\n",
      "  ret = ret.dtype.type(ret / rcount)\n",
      "/home/zelenyy/anaconda3/lib/python3.7/site-packages/numpy/core/_methods.py:217: RuntimeWarning: Degrees of freedom <= 0 for slice\n",
      "  keepdims=keepdims)\n",
      "/home/zelenyy/anaconda3/lib/python3.7/site-packages/numpy/core/_methods.py:186: RuntimeWarning: invalid value encountered in true_divide\n",
      "  arrmean, rcount, out=arrmean, casting='unsafe', subok=False)\n",
      "/home/zelenyy/anaconda3/lib/python3.7/site-packages/numpy/core/_methods.py:209: RuntimeWarning: invalid value encountered in double_scalars\n",
      "  ret = ret.dtype.type(ret / rcount)\n"
     ]
    }
   ],
   "source": [
    "result = calc_mean_energy(path_minus)\n",
    "result_dict = process(result)"
   ]
  },
  {
   "cell_type": "code",
   "execution_count": 20,
   "metadata": {
    "pycharm": {
     "is_executing": false,
     "name": "#%%\n"
    }
   },
   "outputs": [
    {
     "data": {
      "text/plain": [
       "<matplotlib.collections.LineCollection at 0x7fb1ace44910>"
      ]
     },
     "execution_count": 20,
     "metadata": {},
     "output_type": "execute_result"
    },
    {
     "data": {
      "image/png": "[encoded data removed]",
      "text/plain": [
       "<Figure size 504x504 with 2 Axes>"
      ]
     },
     "metadata": {
      "needs_background": "light"
     },
     "output_type": "display_data"
    }
   ],
   "source": [
    "plt.figure(figsize=(7,7))\n",
    "plt.subplot(211)\n",
    "for key, value in result_dict.items():\n",
    "    plt.plot(value[\"energy\"], (value[\"mean\"]-value[\"energy\"])*1000, label=\"{} kV/cm\".format(key/100.0))\n",
    "plt.grid(True)\n",
    "plt.ylabel(\"Differences with\\n init energy, MeV\")\n",
    "plt.xlabel(\"Init energy, GeV\")\n",
    "plt.xscale(\"log\")\n",
    "plt.legend()\n",
    "plt.subplot(414)\n",
    "data_0 = result_dict[0.0]\n",
    "data_200 = result_dict[200.0]\n",
    "plt.plot(data_0[\"energy\"], (data_0[\"mean\"] - data_200[\"mean\"])*1000)\n",
    "plt.ylabel(\"Differences\\n 0 and 2 kV/cm, MeV\")\n",
    "plt.xlabel(\"Init energy, GeV\")\n",
    "plt.xscale(\"log\")\n",
    "plt.hlines(-200, data_0[\"energy\"].min(), data_0[\"energy\"].max(), linestyles=\"dashed\")"
   ]
  },
  {
   "cell_type": "code",
   "execution_count": null,
   "metadata": {},
   "outputs": [],
   "source": []
  },
  {
   "cell_type": "code",
   "execution_count": null,
   "metadata": {
    "pycharm": {
     "name": "#%%\n"
    }
   },
   "outputs": [],
   "source": [
    "def procces_1(data_dict):\n",
    "    data_0 = data_dict[0.0]\n",
    "    data_200 = data_dict[200.0]\n",
    "    shift = lambda x: x[\"mean\"] - x[\"energy\"]\n",
    "    shift_0 = shift(data_0)\n",
    "    shift_200 = shift(data_200)\n",
    "    \n",
    "        "
   ]
  },
  {
   "cell_type": "code",
   "execution_count": 19,
   "metadata": {
    "pycharm": {
     "is_executing": false,
     "name": "#%%\n"
    }
   },
   "outputs": [],
   "source": [
    "temp_energy = energy[11]\n",
    "data_dict = get_data_by_field(path, energy=temp_energy)"
   ]
  },
  {
   "cell_type": "code",
   "execution_count": 20,
   "metadata": {
    "pycharm": {
     "is_executing": false,
     "name": "#%%\n"
    }
   },
   "outputs": [
    {
     "data": {
      "text/plain": [
       "(array([    0.,     0.,     0.,     0.,     0., 10000.,     0.,     0.,\n",
       "            0.,     0.]),\n",
       " array([277.756, 277.856, 277.956, 278.056, 278.156, 278.256, 278.356,\n",
       "        278.456, 278.556, 278.656, 278.756]),\n",
       " <a list of 10 Patch objects>)"
      ]
     },
     "execution_count": 20,
     "metadata": {},
     "output_type": "execute_result"
    },
    {
     "data": {
      "image/png": "[encoded data removed]",
      "text/plain": [
       "<Figure size 432x288 with 1 Axes>"
      ]
     },
     "metadata": {
      "needs_background": "light"
     },
     "output_type": "display_data"
    }
   ],
   "source": [
    "data_0 = data_dict[0.0]\n",
    "data_200 = data_dict[200.0]\n",
    "plt.hist(data_0[\"energy\"])\n",
    "# plt.hist(data_200[\"energy\"])"
   ]
  },
  {
   "cell_type": "code",
   "execution_count": 21,
   "metadata": {
    "pycharm": {
     "is_executing": false,
     "name": "#%%\n"
    }
   },
   "outputs": [
    {
     "name": "stdout",
     "output_type": "stream",
     "text": [
      "278.256 5.684341886080802e-14\n",
      "278.256 5.684341886080802e-14\n"
     ]
    }
   ],
   "source": [
    "\n",
    "print(data_0[\"energy\"].mean(), data_0[\"energy\"].std())\n",
    "print(data_200[\"energy\"].mean(), data_200[\"energy\"].std())"
   ]
  },
  {
   "cell_type": "code",
   "execution_count": 22,
   "metadata": {
    "pycharm": {
     "is_executing": false,
     "name": "#%%\n"
    }
   },
   "outputs": [
    {
     "data": {
      "text/plain": [
       "array([(0, 0, 278.256, 3.14159265, 0., 3534.11158862),\n",
       "       (0, 0, 278.256, 3.14159265, 0., 3534.11158862),\n",
       "       (0, 0, 278.256, 3.14159265, 0., 3534.11158862),\n",
       "       (0, 0, 278.256, 3.14159265, 0., 3534.11158862),\n",
       "       (0, 0, 278.256, 3.14159265, 0., 3534.11158862),\n",
       "       (0, 0, 278.256, 3.14159265, 0., 3534.11158862),\n",
       "       (0, 0, 278.256, 3.14159265, 0., 3534.11158862),\n",
       "       (0, 0, 278.256, 3.14159265, 0., 3534.11158862),\n",
       "       (0, 0, 278.256, 3.14159265, 0., 3534.11158862),\n",
       "       (0, 0, 278.256, 3.14159265, 0., 3534.11158862),\n",
       "       (0, 0, 278.256, 3.14159265, 0., 3534.11158862),\n",
       "       (0, 0, 278.256, 3.14159265, 0., 3534.11158862),\n",
       "       (0, 0, 278.256, 3.14159265, 0., 3534.11158862),\n",
       "       (0, 0, 278.256, 3.14159265, 0., 3534.11158862),\n",
       "       (0, 0, 278.256, 3.14159265, 0., 3534.11158862),\n",
       "       (0, 0, 278.256, 3.14159265, 0., 3534.11158862),\n",
       "       (0, 0, 278.256, 3.14159265, 0., 3534.11158862),\n",
       "       (0, 0, 278.256, 3.14159265, 0., 3534.11158862),\n",
       "       (0, 0, 278.256, 3.14159265, 0., 3534.11158862),\n",
       "       (0, 0, 278.256, 3.14159265, 0., 3534.11158862),\n",
       "       (0, 0, 278.256, 3.14159265, 0., 3534.11158862),\n",
       "       (0, 0, 278.256, 3.14159265, 0., 3534.11158862),\n",
       "       (0, 0, 278.256, 3.14159265, 0., 3534.11158862),\n",
       "       (0, 0, 278.256, 3.14159265, 0., 3534.11158862),\n",
       "       (0, 0, 278.256, 3.14159265, 0., 3534.11158862),\n",
       "       (0, 0, 278.256, 3.14159265, 0., 3534.11158862),\n",
       "       (0, 0, 278.256, 3.14159265, 0., 3534.11158862),\n",
       "       (0, 0, 278.256, 3.14159265, 0., 3534.11158862),\n",
       "       (0, 0, 278.256, 3.14159265, 0., 3534.11158862),\n",
       "       (0, 0, 278.256, 3.14159265, 0., 3534.11158862),\n",
       "       (0, 0, 278.256, 3.14159265, 0., 3534.11158862),\n",
       "       (0, 0, 278.256, 3.14159265, 0., 3534.11158862),\n",
       "       (0, 0, 278.256, 3.14159265, 0., 3534.11158862),\n",
       "       (0, 0, 278.256, 3.14159265, 0., 3534.11158862),\n",
       "       (0, 0, 278.256, 3.14159265, 0., 3534.11158862),\n",
       "       (0, 0, 278.256, 3.14159265, 0., 3534.11158862),\n",
       "       (0, 0, 278.256, 3.14159265, 0., 3534.11158862),\n",
       "       (0, 0, 278.256, 3.14159265, 0., 3534.11158862),\n",
       "       (0, 0, 278.256, 3.14159265, 0., 3534.11158862),\n",
       "       (0, 0, 278.256, 3.14159265, 0., 3534.11158862),\n",
       "       (0, 0, 278.256, 3.14159265, 0., 3534.11158862),\n",
       "       (0, 0, 278.256, 3.14159265, 0., 3534.11158862),\n",
       "       (0, 0, 278.256, 3.14159265, 0., 3534.11158862),\n",
       "       (0, 0, 278.256, 3.14159265, 0., 3534.11158862),\n",
       "       (0, 0, 278.256, 3.14159265, 0., 3534.11158862),\n",
       "       (0, 0, 278.256, 3.14159265, 0., 3534.11158862),\n",
       "       (0, 0, 278.256, 3.14159265, 0., 3534.11158862),\n",
       "       (0, 0, 278.256, 3.14159265, 0., 3534.11158862),\n",
       "       (0, 0, 278.256, 3.14159265, 0., 3534.11158862),\n",
       "       (0, 0, 278.256, 3.14159265, 0., 3534.11158862),\n",
       "       (0, 0, 278.256, 3.14159265, 0., 3534.11158862),\n",
       "       (0, 0, 278.256, 3.14159265, 0., 3534.11158862),\n",
       "       (0, 0, 278.256, 3.14159265, 0., 3534.11158862),\n",
       "       (0, 0, 278.256, 3.14159265, 0., 3534.11158862),\n",
       "       (0, 0, 278.256, 3.14159265, 0., 3534.11158862),\n",
       "       (0, 0, 278.256, 3.14159265, 0., 3534.11158862),\n",
       "       (0, 0, 278.256, 3.14159265, 0., 3534.11158862),\n",
       "       (0, 0, 278.256, 3.14159265, 0., 3534.11158862),\n",
       "       (0, 0, 278.256, 3.14159265, 0., 3534.11158862),\n",
       "       (0, 0, 278.256, 3.14159265, 0., 3534.11158862),\n",
       "       (0, 0, 278.256, 3.14159265, 0., 3534.11158862),\n",
       "       (0, 0, 278.256, 3.14159265, 0., 3534.11158862),\n",
       "       (0, 0, 278.256, 3.14159265, 0., 3534.11158862),\n",
       "       (0, 0, 278.256, 3.14159265, 0., 3534.11158862),\n",
       "       (0, 0, 278.256, 3.14159265, 0., 3534.11158862),\n",
       "       (0, 0, 278.256, 3.14159265, 0., 3534.11158862),\n",
       "       (0, 0, 278.256, 3.14159265, 0., 3534.11158862),\n",
       "       (0, 0, 278.256, 3.14159265, 0., 3534.11158862),\n",
       "       (0, 0, 278.256, 3.14159265, 0., 3534.11158862),\n",
       "       (0, 0, 278.256, 3.14159265, 0., 3534.11158862),\n",
       "       (0, 0, 278.256, 3.14159265, 0., 3534.11158862),\n",
       "       (0, 0, 278.256, 3.14159265, 0., 3534.11158862),\n",
       "       (0, 0, 278.256, 3.14159265, 0., 3534.11158862),\n",
       "       (0, 0, 278.256, 3.14159265, 0., 3534.11158862),\n",
       "       (0, 0, 278.256, 3.14159265, 0., 3534.11158862),\n",
       "       (0, 0, 278.256, 3.14159265, 0., 3534.11158862),\n",
       "       (0, 0, 278.256, 3.14159265, 0., 3534.11158862),\n",
       "       (0, 0, 278.256, 3.14159265, 0., 3534.11158862),\n",
       "       (0, 0, 278.256, 3.14159265, 0., 3534.11158862),\n",
       "       (0, 0, 278.256, 3.14159265, 0., 3534.11158862),\n",
       "       (0, 0, 278.256, 3.14159265, 0., 3534.11158862),\n",
       "       (0, 0, 278.256, 3.14159265, 0., 3534.11158862),\n",
       "       (0, 0, 278.256, 3.14159265, 0., 3534.11158862),\n",
       "       (0, 0, 278.256, 3.14159265, 0., 3534.11158862),\n",
       "       (0, 0, 278.256, 3.14159265, 0., 3534.11158862),\n",
       "       (0, 0, 278.256, 3.14159265, 0., 3534.11158862),\n",
       "       (0, 0, 278.256, 3.14159265, 0., 3534.11158862),\n",
       "       (0, 0, 278.256, 3.14159265, 0., 3534.11158862),\n",
       "       (0, 0, 278.256, 3.14159265, 0., 3534.11158862),\n",
       "       (0, 0, 278.256, 3.14159265, 0., 3534.11158862),\n",
       "       (0, 0, 278.256, 3.14159265, 0., 3534.11158862),\n",
       "       (0, 0, 278.256, 3.14159265, 0., 3534.11158862),\n",
       "       (0, 0, 278.256, 3.14159265, 0., 3534.11158862),\n",
       "       (0, 0, 278.256, 3.14159265, 0., 3534.11158862),\n",
       "       (0, 0, 278.256, 3.14159265, 0., 3534.11158862),\n",
       "       (0, 0, 278.256, 3.14159265, 0., 3534.11158862),\n",
       "       (0, 0, 278.256, 3.14159265, 0., 3534.11158862),\n",
       "       (0, 0, 278.256, 3.14159265, 0., 3534.11158862),\n",
       "       (0, 0, 278.256, 3.14159265, 0., 3534.11158862),\n",
       "       (0, 0, 278.256, 3.14159265, 0., 3534.11158862)],\n",
       "      dtype=[('event', '<i4'), ('particle', '<i4'), ('energy', '<f8'), ('theta', '<f8'), ('radius', '<f8'), ('time', '<f8')])"
      ]
     },
     "execution_count": 22,
     "metadata": {},
     "output_type": "execute_result"
    }
   ],
   "source": [
    "data_200[:100]"
   ]
  },
  {
   "cell_type": "code",
   "execution_count": null,
   "metadata": {
    "pycharm": {
     "name": "#%%\n"
    }
   },
   "outputs": [],
   "source": [
    "\n"
   ]
  }
 ],
 "metadata": {
  "kernelspec": {
   "display_name": "Python 3",
   "language": "python",
   "name": "python3"
  },
  "language_info": {
   "codemirror_mode": {
    "name": "ipython",
    "version": 3
   },
   "file_extension": ".py",
   "mimetype": "text/x-python",
   "name": "python",
   "nbconvert_exporter": "python",
   "pygments_lexer": "ipython3",
   "version": "3.7.6"
  },
  "pycharm": {
   "stem_cell": {
    "cell_type": "raw",
    "metadata": {
     "collapsed": false
    },
    "source": []
   }
  }
 },
 "nbformat": 4,
 "nbformat_minor": 1
}
