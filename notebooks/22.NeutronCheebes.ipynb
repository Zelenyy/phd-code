{
 "cells": [
  {
   "cell_type": "code",
   "execution_count": 1,
   "outputs": [],
   "source": [
    "from dataclasses import dataclass\n",
    "import numpy as np\n",
    "import matplotlib.pyplot as plt\n",
    "import tables\n",
    "import matplotlib as mpl"
   ],
   "metadata": {
    "collapsed": false,
    "pycharm": {
     "name": "#%%\n"
    }
   }
  },
  {
   "cell_type": "code",
   "execution_count": 12,
   "outputs": [],
   "source": [
    "path = \"/mnt/storage2/phd/data/thunderstorm/neutron/spacecraft.hdf5\"\n",
    "path = \"/mnt/storage2/phd/data/thunderstorm/neutron/spacecraft_opt4.hdf5\""
   ],
   "metadata": {
    "collapsed": false,
    "pycharm": {
     "name": "#%%\n"
    }
   }
  },
  {
   "cell_type": "code",
   "execution_count": 60,
   "outputs": [
    {
     "name": "stdout",
     "output_type": "stream",
     "text": [
      "/sim0000/stacking_simple._v_attrs (AttributeSet), 29 attributes:\n",
      "   [CLASS := 'TABLE',\n",
      "    FIELD_0_FILL := 0,\n",
      "    FIELD_0_NAME := 'event',\n",
      "    FIELD_1_FILL := 0,\n",
      "    FIELD_1_NAME := 'id',\n",
      "    FIELD_2_FILL := 0,\n",
      "    FIELD_2_NAME := 'parent_id',\n",
      "    FIELD_3_FILL := 0,\n",
      "    FIELD_3_NAME := 'particle',\n",
      "    FIELD_4_FILL := 0.0,\n",
      "    FIELD_4_NAME := 'energy',\n",
      "    FIELD_5_FILL := 0.0,\n",
      "    FIELD_5_NAME := 'theta',\n",
      "    FIELD_6_FILL := 0.0,\n",
      "    FIELD_6_NAME := 'radius',\n",
      "    FIELD_7_FILL := 0.0,\n",
      "    FIELD_7_NAME := 'z',\n",
      "    FIELD_8_FILL := 0.0,\n",
      "    FIELD_8_NAME := 'time',\n",
      "    NROWS := 12998,\n",
      "    TITLE := '',\n",
      "    VERSION := '2.7',\n",
      "    path := 'sim0000',\n",
      "    text := '/npm/geometry/type gdml\\n/npm/geometry/gdml ../SpaceCraftFullAtmosphere.gdml\\n/npm/thunderstorm/physics withoutEmStandard\\n/npm/thunderstorm/minimal_energy 10.0 MeV\\n/npm/thunderstorm/stacking/electron false\\n/npm/thunderstorm/stacking/positron false\\n/npm/thunderstorm/stacking/gamma true\\n/npm/thunderstorm/stacking/save_gamma false\\n/npm/thunderstorm/stacking/save_electron false\\n/npm/thunderstorm/stacking/save_neutron true\\n/npm/thunderstorm/tracking/save_gamma true\\n/npm/thunderstorm/tracking/save_electron false\\n\\n/gps/particle gamma\\n/gps/position 0.0 0.0 0.0 meter\\n/gps/direction 0 0 1\\n/gps/ene/mono 100 MeV\\n/run/beamOn 10000\\nexit\\n',\n",
      "    values_macros_energy := 100,\n",
      "    values_macros_number := 10000,\n",
      "    values_macros_path := '../SpaceCraftFullAtmosphere.gdml',\n",
      "    values_macros_physics := 'FTFP_BERT_opt4',\n",
      "    values_time := 12.161549536511302]\n"
     ]
    }
   ],
   "source": [
    "path = \"/mnt/storage2/phd/data/thunderstorm/neutron/spacecraft_opt4.hdf5\"\n",
    "with tables.open_file(path) as h5file:\n",
    "    result = []\n",
    "    for group in h5file.root:\n",
    "        table = h5file.get_node(group, \"stacking_simple\")\n",
    "        print(repr(table.attrs))\n",
    "        break"
   ],
   "metadata": {
    "collapsed": false,
    "pycharm": {
     "name": "#%%\n"
    }
   }
  },
  {
   "cell_type": "code",
   "execution_count": 44,
   "outputs": [],
   "source": [
    "def get_data(path):\n",
    "    with tables.open_file(path) as h5file:\n",
    "        result = []\n",
    "        for group in h5file.root:\n",
    "            table = h5file.get_node(group, \"stacking_simple\")\n",
    "            data = table.read()\n",
    "            result.append(data)\n",
    "        return np.hstack(result)"
   ],
   "metadata": {
    "collapsed": false,
    "pycharm": {
     "name": "#%%\n"
    }
   }
  },
  {
   "cell_type": "code",
   "execution_count": 44,
   "outputs": [],
   "source": [],
   "metadata": {
    "collapsed": false,
    "pycharm": {
     "name": "#%%\n"
    }
   }
  },
  {
   "cell_type": "code",
   "execution_count": 45,
   "outputs": [],
   "source": [
    "def plot_z_hist(data):\n",
    "    indx = data[\"z\"] < 800000\n",
    "\n",
    "    plt.hist(data[\"z\"][indx]/1000, weights=1e-5*np.ones(np.sum(indx)))\n",
    "    plt.yscale(\"log\")\n",
    "    plt.xlabel(\"Высота, км\")\n",
    "    plt.ylabel(\"Число нейтронов\")\n",
    "\n",
    "    print(\"Отношение рожденных в корабле к рожденным в атмосфере: {}\".format(np.sum(np.logical_not(indx))/np.sum(indx)))"
   ],
   "metadata": {
    "collapsed": false,
    "pycharm": {
     "name": "#%%\n"
    }
   }
  },
  {
   "cell_type": "code",
   "execution_count": 46,
   "outputs": [],
   "source": [
    "def plot_spacecraft(data):\n",
    "    indx = data[\"z\"] < 800000\n",
    "    plt.hist(data[\"z\"][np.logical_not(indx)]/1000, weights=1e-5*np.ones(np.sum(np.logical_not(indx))))\n",
    "    plt.xlabel(\"Высота, км\")\n",
    "    plt.ylabel(\"Число нейтронов\")"
   ],
   "metadata": {
    "collapsed": false,
    "pycharm": {
     "name": "#%%\n"
    }
   }
  },
  {
   "cell_type": "code",
   "execution_count": 50,
   "outputs": [],
   "source": [
    "path = \"/mnt/storage2/phd/data/thunderstorm/neutron/spacecraft.hdf5\"\n",
    "data = get_data(path)"
   ],
   "metadata": {
    "collapsed": false,
    "pycharm": {
     "name": "#%%\n"
    }
   }
  },
  {
   "cell_type": "code",
   "execution_count": 51,
   "outputs": [
    {
     "name": "stdout",
     "output_type": "stream",
     "text": [
      "Отношение рожденных в корабле к рожденным в атмосфере: 29.294418604651163\n"
     ]
    },
    {
     "data": {
      "text/plain": "<Figure size 432x288 with 1 Axes>",
      "image/png": "[encoded data removed]"
     },
     "metadata": {
      "needs_background": "light"
     },
     "output_type": "display_data"
    }
   ],
   "source": [
    "plot_z_hist(data)"
   ],
   "metadata": {
    "collapsed": false,
    "pycharm": {
     "name": "#%%\n"
    }
   }
  },
  {
   "cell_type": "code",
   "execution_count": 52,
   "outputs": [
    {
     "data": {
      "text/plain": "<Figure size 432x288 with 1 Axes>",
      "image/png": "[encoded data removed]"
     },
     "metadata": {
      "needs_background": "light"
     },
     "output_type": "display_data"
    }
   ],
   "source": [
    "plot_spacecraft(data)"
   ],
   "metadata": {
    "collapsed": false,
    "pycharm": {
     "name": "#%%\n"
    }
   }
  },
  {
   "cell_type": "code",
   "execution_count": 56,
   "outputs": [],
   "source": [
    "path = \"/mnt/storage2/phd/data/thunderstorm/neutron/spacecraft_opt4.hdf5\"\n",
    "data_opt4 = get_data(path)"
   ],
   "metadata": {
    "collapsed": false,
    "pycharm": {
     "name": "#%%\n"
    }
   }
  },
  {
   "cell_type": "code",
   "execution_count": 57,
   "outputs": [
    {
     "name": "stdout",
     "output_type": "stream",
     "text": [
      "Отношение рожденных в корабле к рожденным в атмосфере: 30.857702669605683\n"
     ]
    },
    {
     "data": {
      "text/plain": "<Figure size 432x288 with 1 Axes>",
      "image/png": "[encoded data removed]"
     },
     "metadata": {
      "needs_background": "light"
     },
     "output_type": "display_data"
    }
   ],
   "source": [
    "plot_z_hist(data_opt4)"
   ],
   "metadata": {
    "collapsed": false,
    "pycharm": {
     "name": "#%%\n"
    }
   }
  },
  {
   "cell_type": "code",
   "execution_count": 58,
   "outputs": [
    {
     "data": {
      "text/plain": "<Figure size 432x288 with 1 Axes>",
      "image/png": "[encoded data removed]"
     },
     "metadata": {
      "needs_background": "light"
     },
     "output_type": "display_data"
    }
   ],
   "source": [
    "plot_spacecraft(data_opt4)"
   ],
   "metadata": {
    "collapsed": false,
    "pycharm": {
     "name": "#%%\n"
    }
   }
  },
  {
   "cell_type": "code",
   "execution_count": null,
   "outputs": [],
   "source": [],
   "metadata": {
    "collapsed": false,
    "pycharm": {
     "name": "#%%\n"
    }
   }
  }
 ],
 "metadata": {
  "kernelspec": {
   "display_name": "Python 3",
   "language": "python",
   "name": "python3"
  },
  "language_info": {
   "codemirror_mode": {
    "name": "ipython",
    "version": 2
   },
   "file_extension": ".py",
   "mimetype": "text/x-python",
   "name": "python",
   "nbconvert_exporter": "python",
   "pygments_lexer": "ipython2",
   "version": "2.7.6"
  }
 },
 "nbformat": 4,
 "nbformat_minor": 0
}