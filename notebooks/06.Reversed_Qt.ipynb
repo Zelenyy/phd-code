{
 "cells": [
  {
   "cell_type": "code",
   "execution_count": 1,
   "metadata": {
    "pycharm": {
     "is_executing": false
    }
   },
   "outputs": [],
   "source": [
    "%matplotlib qt\n",
    "from mpl_toolkits.mplot3d import Axes3D\n",
    "import matplotlib.pyplot as plt\n",
    "import numpy as np\n",
    "import tables\n",
    "from phd.utils.convertor_tools import direction_to_degree\n",
    "from scipy.interpolate import UnivariateSpline"
   ]
  },
  {
   "cell_type": "code",
   "execution_count": 1,
   "metadata": {},
   "outputs": [
    {
     "data": {
      "text/plain": [
       "['/home/zelenyy/npm/phd/phd-code/notebooks',\n",
       " '/home/zelenyy/ROOT/ROOT6_install/lib',\n",
       " '/home/zelenyy/miniconda3/lib/python37.zip',\n",
       " '/home/zelenyy/miniconda3/lib/python3.7',\n",
       " '/home/zelenyy/miniconda3/lib/python3.7/lib-dynload',\n",
       " '',\n",
       " '/home/zelenyy/.local/lib/python3.7/site-packages',\n",
       " '/home/zelenyy/npm/dataforge/dataforge-python',\n",
       " '/home/zelenyy/miniconda3/lib/python3.7/site-packages',\n",
       " '/home/zelenyy/npm/git/nist-calculator',\n",
       " '/home/zelenyy/npm/phd/phd-code/python',\n",
       " '/home/zelenyy/.local/lib/python3.7/site-packages/IPython/extensions',\n",
       " '/home/zelenyy/.ipython']"
      ]
     },
     "execution_count": 1,
     "metadata": {},
     "output_type": "execute_result"
    }
   ],
   "source": [
    "import sys\n",
    "sys.path"
   ]
  },
  {
   "cell_type": "code",
   "execution_count": 3,
   "metadata": {
    "pycharm": {
     "is_executing": false,
     "name": "#%%\n"
    }
   },
   "outputs": [],
   "source": [
    "path = \"/home/zelenyy/data/thunderstorm/result.hdf5\""
   ]
  },
  {
   "cell_type": "code",
   "execution_count": 8,
   "metadata": {
    "pycharm": {
     "is_executing": false,
     "name": "#%%\n"
    }
   },
   "outputs": [
    {
     "traceback": [
      "\u001b[0;31m---------------------------------------------------------------------------\u001b[0m",
      "\u001b[0;31mNoSuchNodeError\u001b[0m                           Traceback (most recent call last)",
      "\u001b[0;32m<ipython-input-8-3fa3fb47252d>\u001b[0m in \u001b[0;36m<module>\u001b[0;34m\u001b[0m\n\u001b[1;32m      1\u001b[0m \u001b[0;32mwith\u001b[0m \u001b[0mtables\u001b[0m\u001b[0;34m.\u001b[0m\u001b[0mopen_file\u001b[0m\u001b[0;34m(\u001b[0m\u001b[0mpath\u001b[0m\u001b[0;34m)\u001b[0m \u001b[0;32mas\u001b[0m \u001b[0mh5file\u001b[0m\u001b[0;34m:\u001b[0m\u001b[0;34m\u001b[0m\u001b[0;34m\u001b[0m\u001b[0m\n\u001b[0;32m----> 2\u001b[0;31m         \u001b[0mtable\u001b[0m \u001b[0;34m=\u001b[0m \u001b[0mh5file\u001b[0m\u001b[0;34m.\u001b[0m\u001b[0mget_node\u001b[0m\u001b[0;34m(\u001b[0m\u001b[0;34m\"/run/particle_detector_electron\"\u001b[0m\u001b[0;34m)\u001b[0m\u001b[0;34m\u001b[0m\u001b[0;34m\u001b[0m\u001b[0m\n\u001b[0m\u001b[1;32m      3\u001b[0m         \u001b[0mprint\u001b[0m\u001b[0;34m(\u001b[0m\u001b[0mrepr\u001b[0m\u001b[0;34m(\u001b[0m\u001b[0mtable\u001b[0m\u001b[0;34m.\u001b[0m\u001b[0mattrs\u001b[0m\u001b[0;34m)\u001b[0m\u001b[0;34m)\u001b[0m\u001b[0;34m\u001b[0m\u001b[0;34m\u001b[0m\u001b[0m\n\u001b[1;32m      4\u001b[0m \u001b[0;34m\u001b[0m\u001b[0m\n",
      "\u001b[0;32m~/miniconda3/envs/phd-code/lib/python3.7/site-packages/tables/file.py\u001b[0m in \u001b[0;36mget_node\u001b[0;34m(self, where, name, classname)\u001b[0m\n\u001b[1;32m   1640\u001b[0m             \u001b[0mbasepath\u001b[0m \u001b[0;34m=\u001b[0m \u001b[0mwhere\u001b[0m\u001b[0;34m\u001b[0m\u001b[0;34m\u001b[0m\u001b[0m\n\u001b[1;32m   1641\u001b[0m             \u001b[0mnodepath\u001b[0m \u001b[0;34m=\u001b[0m \u001b[0mjoin_path\u001b[0m\u001b[0;34m(\u001b[0m\u001b[0mbasepath\u001b[0m\u001b[0;34m,\u001b[0m \u001b[0mname\u001b[0m \u001b[0;32mor\u001b[0m \u001b[0;34m''\u001b[0m\u001b[0;34m)\u001b[0m \u001b[0;32mor\u001b[0m \u001b[0;34m'/'\u001b[0m\u001b[0;34m\u001b[0m\u001b[0;34m\u001b[0m\u001b[0m\n\u001b[0;32m-> 1642\u001b[0;31m             \u001b[0mnode\u001b[0m \u001b[0;34m=\u001b[0m \u001b[0mself\u001b[0m\u001b[0;34m.\u001b[0m\u001b[0m_get_node\u001b[0m\u001b[0;34m(\u001b[0m\u001b[0mnodepath\u001b[0m\u001b[0;34m)\u001b[0m\u001b[0;34m\u001b[0m\u001b[0;34m\u001b[0m\u001b[0m\n\u001b[0m\u001b[1;32m   1643\u001b[0m         \u001b[0;32melse\u001b[0m\u001b[0;34m:\u001b[0m\u001b[0;34m\u001b[0m\u001b[0;34m\u001b[0m\u001b[0m\n\u001b[1;32m   1644\u001b[0m             raise TypeError(\n",
      "\u001b[0;32m~/miniconda3/envs/phd-code/lib/python3.7/site-packages/tables/file.py\u001b[0m in \u001b[0;36m_get_node\u001b[0;34m(self, nodepath)\u001b[0m\n\u001b[1;32m   1588\u001b[0m             \u001b[0;32mreturn\u001b[0m \u001b[0mself\u001b[0m\u001b[0;34m.\u001b[0m\u001b[0mroot\u001b[0m\u001b[0;34m\u001b[0m\u001b[0;34m\u001b[0m\u001b[0m\n\u001b[1;32m   1589\u001b[0m \u001b[0;34m\u001b[0m\u001b[0m\n\u001b[0;32m-> 1590\u001b[0;31m         \u001b[0mnode\u001b[0m \u001b[0;34m=\u001b[0m \u001b[0mself\u001b[0m\u001b[0;34m.\u001b[0m\u001b[0m_node_manager\u001b[0m\u001b[0;34m.\u001b[0m\u001b[0mget_node\u001b[0m\u001b[0;34m(\u001b[0m\u001b[0mnodepath\u001b[0m\u001b[0;34m)\u001b[0m\u001b[0;34m\u001b[0m\u001b[0;34m\u001b[0m\u001b[0m\n\u001b[0m\u001b[1;32m   1591\u001b[0m         \u001b[0;32massert\u001b[0m \u001b[0mnode\u001b[0m \u001b[0;32mis\u001b[0m \u001b[0;32mnot\u001b[0m \u001b[0;32mNone\u001b[0m\u001b[0;34m,\u001b[0m \u001b[0;34m\"unable to instantiate node ``%s``\"\u001b[0m \u001b[0;34m%\u001b[0m \u001b[0mnodepath\u001b[0m\u001b[0;34m\u001b[0m\u001b[0;34m\u001b[0m\u001b[0m\n\u001b[1;32m   1592\u001b[0m \u001b[0;34m\u001b[0m\u001b[0m\n",
      "\u001b[0;32m~/miniconda3/envs/phd-code/lib/python3.7/site-packages/tables/file.py\u001b[0m in \u001b[0;36mget_node\u001b[0;34m(self, key)\u001b[0m\n\u001b[1;32m    430\u001b[0m \u001b[0;34m\u001b[0m\u001b[0m\n\u001b[1;32m    431\u001b[0m         \u001b[0;32mif\u001b[0m \u001b[0mself\u001b[0m\u001b[0;34m.\u001b[0m\u001b[0mnode_factory\u001b[0m\u001b[0;34m:\u001b[0m\u001b[0;34m\u001b[0m\u001b[0;34m\u001b[0m\u001b[0m\n\u001b[0;32m--> 432\u001b[0;31m             \u001b[0mnode\u001b[0m \u001b[0;34m=\u001b[0m \u001b[0mself\u001b[0m\u001b[0;34m.\u001b[0m\u001b[0mnode_factory\u001b[0m\u001b[0;34m(\u001b[0m\u001b[0mkey\u001b[0m\u001b[0;34m)\u001b[0m\u001b[0;34m\u001b[0m\u001b[0;34m\u001b[0m\u001b[0m\n\u001b[0m\u001b[1;32m    433\u001b[0m             \u001b[0mself\u001b[0m\u001b[0;34m.\u001b[0m\u001b[0mcache_node\u001b[0m\u001b[0;34m(\u001b[0m\u001b[0mnode\u001b[0m\u001b[0;34m,\u001b[0m \u001b[0mkey\u001b[0m\u001b[0;34m)\u001b[0m\u001b[0;34m\u001b[0m\u001b[0;34m\u001b[0m\u001b[0m\n\u001b[1;32m    434\u001b[0m \u001b[0;34m\u001b[0m\u001b[0m\n",
      "\u001b[0;32m~/miniconda3/envs/phd-code/lib/python3.7/site-packages/tables/group.py\u001b[0m in \u001b[0;36m_g_load_child\u001b[0;34m(self, childname)\u001b[0m\n\u001b[1;32m   1176\u001b[0m             \u001b[0mchildname\u001b[0m \u001b[0;34m=\u001b[0m \u001b[0mjoin_path\u001b[0m\u001b[0;34m(\u001b[0m\u001b[0mself\u001b[0m\u001b[0;34m.\u001b[0m\u001b[0m_v_file\u001b[0m\u001b[0;34m.\u001b[0m\u001b[0mroot_uep\u001b[0m\u001b[0;34m,\u001b[0m \u001b[0mchildname\u001b[0m\u001b[0;34m)\u001b[0m\u001b[0;34m\u001b[0m\u001b[0;34m\u001b[0m\u001b[0m\n\u001b[1;32m   1177\u001b[0m         \u001b[0;31m# Is the node a group or a leaf?\u001b[0m\u001b[0;34m\u001b[0m\u001b[0;34m\u001b[0m\u001b[0;34m\u001b[0m\u001b[0m\n\u001b[0;32m-> 1178\u001b[0;31m         \u001b[0mnode_type\u001b[0m \u001b[0;34m=\u001b[0m \u001b[0mself\u001b[0m\u001b[0;34m.\u001b[0m\u001b[0m_g_check_has_child\u001b[0m\u001b[0;34m(\u001b[0m\u001b[0mchildname\u001b[0m\u001b[0;34m)\u001b[0m\u001b[0;34m\u001b[0m\u001b[0;34m\u001b[0m\u001b[0m\n\u001b[0m\u001b[1;32m   1179\u001b[0m \u001b[0;34m\u001b[0m\u001b[0m\n\u001b[1;32m   1180\u001b[0m         \u001b[0;31m# Nodes that HDF5 report as H5G_UNKNOWN\u001b[0m\u001b[0;34m\u001b[0m\u001b[0;34m\u001b[0m\u001b[0;34m\u001b[0m\u001b[0m\n",
      "\u001b[0;32m~/miniconda3/envs/phd-code/lib/python3.7/site-packages/tables/group.py\u001b[0m in \u001b[0;36m_g_check_has_child\u001b[0;34m(self, name)\u001b[0m\n\u001b[1;32m    393\u001b[0m             raise NoSuchNodeError(\n\u001b[1;32m    394\u001b[0m                 \u001b[0;34m\"group ``%s`` does not have a child named ``%s``\"\u001b[0m\u001b[0;34m\u001b[0m\u001b[0;34m\u001b[0m\u001b[0m\n\u001b[0;32m--> 395\u001b[0;31m                 % (self._v_pathname, name))\n\u001b[0m\u001b[1;32m    396\u001b[0m         \u001b[0;32mreturn\u001b[0m \u001b[0mnode_type\u001b[0m\u001b[0;34m\u001b[0m\u001b[0;34m\u001b[0m\u001b[0m\n\u001b[1;32m    397\u001b[0m \u001b[0;34m\u001b[0m\u001b[0m\n",
      "\u001b[0;31mNoSuchNodeError\u001b[0m: group ``/`` does not have a child named ``/run/particle_detector_electron``"
     ],
     "ename": "NoSuchNodeError",
     "evalue": "group ``/`` does not have a child named ``/run/particle_detector_electron``",
     "output_type": "error"
    }
   ],
   "source": [
    "with tables.open_file(path) as h5file:\n",
    "        table = h5file.get_node(\"/run/particle_detector_electron\")\n",
    "        print(repr(table.attrs))"
   ]
  },
  {
   "cell_type": "code",
   "execution_count": 5,
   "metadata": {
    "pycharm": {
     "is_executing": false,
     "name": "#%%\n"
    }
   },
   "outputs": [],
   "source": [
    "def process(path):\n",
    "    probability = []\n",
    "    energy = []\n",
    "    theta = []\n",
    "    with tables.open_file(path) as h5file:\n",
    "        for group in h5file.root:\n",
    "            table = h5file.get_node(group, \"particle_detector_number\")\n",
    "            data = table.read()\n",
    "            indx = data['electron'] == 0\n",
    "            probability.append(np.sum(indx)/table.attrs[\"values_number\"])\n",
    "            energy.append(table.attrs[\"values_energy\"])\n",
    "            theta.append(direction_to_degree(table.attrs[\"values_direction\"]))\n",
    "    return theta, energy, probability\n",
    "        \n",
    "        # plt.hist(data[\"energy\"])"
   ]
  },
  {
   "cell_type": "code",
   "execution_count": 5,
   "metadata": {
    "pycharm": {
     "is_executing": false,
     "name": "#%%\n"
    }
   },
   "outputs": [
    {
     "data": {
      "image/png": "[encoded data removed]",
      "text/plain": [
       "<Figure size 432x288 with 1 Axes>"
      ]
     },
     "metadata": {
      "needs_background": "light"
     },
     "output_type": "display_data"
    }
   ],
   "source": [
    "process(path)"
   ]
  },
  {
   "cell_type": "code",
   "execution_count": 10,
   "metadata": {
    "pycharm": {
     "is_executing": false,
     "name": "#%%\n"
    }
   },
   "outputs": [
    {
     "name": "stdout",
     "output_type": "stream",
     "text": [
      "0.12\n"
     ]
    }
   ],
   "source": [
    "process(path)"
   ]
  },
  {
   "cell_type": "code",
   "execution_count": 9,
   "metadata": {
    "pycharm": {
     "is_executing": false,
     "name": "#%%\n"
    }
   },
   "outputs": [],
   "source": [
    "\n",
    "path = \"/mnt/storage2/phd/data/thunderstorm/reversed_1/test_reversed.hdf5\"\n",
    "theta, energy, probability = process(path)\n"
   ]
  },
  {
   "cell_type": "code",
   "execution_count": 5,
   "metadata": {
    "pycharm": {
     "is_executing": false,
     "name": "#%%\n"
    }
   },
   "outputs": [
    {
     "traceback": [
      "\u001b[0;31m---------------------------------------------------------------------------\u001b[0m",
      "\u001b[0;31mNameError\u001b[0m                                 Traceback (most recent call last)",
      "\u001b[0;32m<ipython-input-5-d2e6f0c03ef3>\u001b[0m in \u001b[0;36m<module>\u001b[0;34m\u001b[0m\n\u001b[0;32m----> 1\u001b[0;31m \u001b[0mplt\u001b[0m\u001b[0;34m.\u001b[0m\u001b[0mplot\u001b[0m\u001b[0;34m(\u001b[0m\u001b[0mtheta\u001b[0m\u001b[0;34m,\u001b[0m \u001b[0menergy\u001b[0m\u001b[0;34m,\u001b[0m \u001b[0;34m\".\"\u001b[0m\u001b[0;34m)\u001b[0m\u001b[0;34m\u001b[0m\u001b[0;34m\u001b[0m\u001b[0m\n\u001b[0m\u001b[1;32m      2\u001b[0m \u001b[0;34m\u001b[0m\u001b[0m\n",
      "\u001b[0;31mNameError\u001b[0m: name 'theta' is not defined"
     ],
     "ename": "NameError",
     "evalue": "name 'theta' is not defined",
     "output_type": "error"
    }
   ],
   "source": [
    "plt.plot(theta, energy, \".\")"
   ]
  },
  {
   "cell_type": "code",
   "execution_count": 10,
   "metadata": {
    "pycharm": {
     "is_executing": false,
     "name": "#%%\n"
    }
   },
   "outputs": [
    {
     "data": {
      "text/plain": "<mpl_toolkits.mplot3d.art3d.Path3DCollection at 0x7f4ffca59e90>"
     },
     "metadata": {},
     "output_type": "execute_result",
     "execution_count": 10
    }
   ],
   "source": [
    "%matplotlib qt\n",
    "\n",
    "fig = plt.figure()\n",
    "ax = fig.add_subplot(111, projection='3d')\n",
    "ax.scatter(theta, energy, probability)"
   ]
  },
  {
   "cell_type": "code",
   "execution_count": 11,
   "metadata": {
    "pycharm": {
     "is_executing": false
    }
   },
   "outputs": [
    {
     "data": {
      "text/plain": "Text(0.5, 0, 'Parrallel')"
     },
     "metadata": {},
     "output_type": "execute_result",
     "execution_count": 11
    }
   ],
   "source": [
    "%matplotlib qt\n",
    "\n",
    "e_par = energy*np.cos(np.deg2rad(theta))\n",
    "e_per = energy*np.sin(np.deg2rad(theta))\n",
    "fig = plt.figure()\n",
    "ax = fig.add_subplot(111, projection='3d')\n",
    "ax.scatter(e_per, e_par, probability)\n",
    "ax.set_xlabel(\"Perpenducilar\")\n",
    "ax.set_ylabel(\"Parrallel\")"
   ]
  },
  {
   "cell_type": "code",
   "execution_count": 2,
   "metadata": {
    "pycharm": {
     "is_executing": false,
     "name": "#%%\n"
    }
   },
   "outputs": [],
   "source": [
    "path = \"/home/zelenyy/data/thunderstorm/result.hdf5\""
   ]
  },
  {
   "cell_type": "code",
   "execution_count": 3,
   "outputs": [],
   "source": [
    "def process(path):\n",
    "    probability = []\n",
    "    energy = []\n",
    "    theta = []\n",
    "    with tables.open_file(path) as h5file:\n",
    "        for group in h5file.root:\n",
    "            table = h5file.get_node(group, \"particle_detector_number\")\n",
    "            data = table.read()\n",
    "            indx = data['electron'] == 0\n",
    "            probability.append(np.sum(indx)/table.attrs[\"values_macros_number\"])\n",
    "            energy.append(table.attrs[\"values_macros_energy\"])\n",
    "            theta.append(direction_to_degree(table.attrs[\"values_macros_direction\"]))\n",
    "    return np.array(theta), np.array(energy), np.array(probability)"
   ],
   "metadata": {
    "collapsed": false,
    "pycharm": {
     "name": "#%%\n",
     "is_executing": false
    }
   }
  },
  {
   "cell_type": "code",
   "execution_count": 4,
   "outputs": [],
   "source": [
    "theta, energy, probability = process(path)"
   ],
   "metadata": {
    "collapsed": false,
    "pycharm": {
     "name": "#%%\n",
     "is_executing": false
    }
   }
  },
  {
   "cell_type": "code",
   "execution_count": 10,
   "outputs": [
    {
     "name": "stdout",
     "text": [
      "/sim0001/particle_detector_number._v_attrs (AttributeSet), 18 attributes:\n",
      "   [CLASS := 'TABLE',\n",
      "    FIELD_0_FILL := 0,\n",
      "    FIELD_0_NAME := 'electron',\n",
      "    NROWS := 100,\n",
      "    TITLE := '',\n",
      "    VERSION := '2.7',\n",
      "    path := 'sim0001',\n",
      "    text := '/df/project test\\n/df/gdml .././gdml/0.gdml\\n/thunderstorm/physics standard_opt_4\\n/thunderstorm/stacking particle_cylinder\\n/thunderstorm/addParticleInPCS gamma\\n/thunderstorm/addParticleInPD e-\\n/thunderstorm/cut/energy 0.05\\n\\n/gps/particle e-\\n/gps/number 1\\n/gps/direction 0.0 0 1.0\\n/gps/ene/mono 0.1 MeV\\n/gps/position 0. 0. 0. m\\n/run/beamOn 100\\n',\n",
      "    values_gdml_fieldValueZ := 0.0008,\n",
      "    values_gdml_height := 0,\n",
      "    values_macros_cut := 0.05,\n",
      "    values_macros_direction := '0.0 0 1.0',\n",
      "    values_macros_energy := 0.1,\n",
      "    values_macros_number := 100,\n",
      "    values_macros_particle := 'e-',\n",
      "    values_macros_path := '.././gdml/0.gdml',\n",
      "    values_macros_posZ := 200,\n",
      "    values_time := 2.973478908999823]\n"
     ],
     "output_type": "stream"
    }
   ],
   "source": [
    "with tables.open_file(path) as h5file:\n",
    "        table = h5file.get_node(\"/sim0001/particle_detector_number\")\n",
    "        print(repr(table.attrs))"
   ],
   "metadata": {
    "collapsed": false,
    "pycharm": {
     "name": "#%%\n",
     "is_executing": false
    }
   }
  },
  {
   "cell_type": "code",
   "execution_count": 53,
   "metadata": {
    "pycharm": {
     "name": "#%%\n",
     "is_executing": false
    }
   },
   "outputs": [],
   "source": [
    "from scipy.interpolate import interp2d, griddata, LinearNDInterpolator"
   ]
  },
  {
   "cell_type": "code",
   "execution_count": 6,
   "outputs": [],
   "source": [
    "X = theta.reshape(19,10)\n",
    "Y = energy.reshape(19,10)\n",
    "Z = probability.reshape((19,10))"
   ],
   "metadata": {
    "collapsed": false,
    "pycharm": {
     "name": "#%%\n",
     "is_executing": false
    }
   }
  },
  {
   "cell_type": "code",
   "execution_count": 46,
   "outputs": [],
   "source": [
    "grid_x = np.linspace(0,90,100)\n",
    "grid_y = np.linspace(0.05,1, 100)\n",
    "# inter = interp2d(theta, energy, probability, kind=\"quintic\",)\n",
    "XS, YS = np.meshgrid(grid_x,grid_y)\n",
    "inter = griddata((theta, energy), probability, (XS,YS), method=\"linear\")"
   ],
   "metadata": {
    "collapsed": false,
    "pycharm": {
     "name": "#%%\n",
     "is_executing": false
    }
   }
  },
  {
   "cell_type": "code",
   "execution_count": 54,
   "outputs": [],
   "source": [
    "inter = LinearNDInterpolator((theta, energy), probability)"
   ],
   "metadata": {
    "collapsed": false,
    "pycharm": {
     "name": "#%%\n",
     "is_executing": false
    }
   }
  },
  {
   "cell_type": "code",
   "execution_count": 57,
   "outputs": [],
   "source": [
    "\n",
    "\n",
    "# plt.plot(xs, zs[5,:])\n",
    "# indx = np.isclose(energy, 0.55)\n",
    "# plt.plot(theta[indx], probability[indx])"
   ],
   "metadata": {
    "collapsed": false,
    "pycharm": {
     "name": "#%%\n",
     "is_executing": false
    }
   }
  },
  {
   "cell_type": "code",
   "execution_count": 58,
   "outputs": [
    {
     "data": {
      "text/plain": "<mpl_toolkits.mplot3d.art3d.Path3DCollection at 0x7f3d90234ad0>"
     },
     "metadata": {},
     "output_type": "execute_result",
     "execution_count": 58
    }
   ],
   "source": [
    "fig = plt.figure()\n",
    "ax = fig.add_subplot(111, projection='3d')\n",
    "ax.scatter(theta, energy, probability, c=\"r\")\n",
    "\n",
    "xs = np.linspace(0,90,100)\n",
    "ys = np.linspace(0.05,1, 100)\n",
    "XS, YS = np.meshgrid(xs,ys)\n",
    "zs = inter(XS, YS)\n",
    "ax.scatter(XS, YS, zs, c=\"b\")"
   ],
   "metadata": {
    "collapsed": false,
    "pycharm": {
     "name": "#%%\n",
     "is_executing": false
    }
   }
  },
  {
   "cell_type": "code",
   "execution_count": 30,
   "outputs": [
    {
     "data": {
      "text/plain": "<mpl_toolkits.mplot3d.art3d.Path3DCollection at 0x7f3d91c7bb50>"
     },
     "metadata": {},
     "output_type": "execute_result",
     "execution_count": 30
    }
   ],
   "source": [
    "fig = plt.figure()\n",
    "ax = fig.add_subplot(111, projection='3d')\n",
    "ax.scatter(theta, energy, probability, c=\"r\")\n",
    "XS, YS = np.meshgrid(xs,ys)\n",
    "ax.scatter(XS, YS, zs, c=\"b\")"
   ],
   "metadata": {
    "collapsed": false,
    "pycharm": {
     "name": "#%%\n",
     "is_executing": false
    }
   }
  },
  {
   "cell_type": "code",
   "execution_count": 45,
   "outputs": [
    {
     "data": {
      "text/plain": "<mpl_toolkits.mplot3d.art3d.Path3DCollection at 0x7f61064f3650>"
     },
     "metadata": {},
     "output_type": "execute_result",
     "execution_count": 45
    },
    {
     "data": {
      "text/plain": "<Figure size 432x288 with 1 Axes>",
      "image/png": "[encoded data removed]"
     },
     "metadata": {
      "needs_background": "light"
     },
     "output_type": "display_data"
    }
   ],
   "source": [
    "zs"
   ],
   "metadata": {
    "collapsed": false,
    "pycharm": {
     "name": "#%%\n",
     "is_executing": false
    }
   }
  },
  {
   "cell_type": "code",
   "execution_count": 6,
   "outputs": [
    {
     "data": {
      "text/plain": "<a list of 6 text.Text objects>"
     },
     "metadata": {},
     "output_type": "execute_result",
     "execution_count": 6
    },
    {
     "data": {
      "text/plain": "<Figure size 432x288 with 1 Axes>",
      "image/png": "[encoded data removed]"
     },
     "metadata": {
      "needs_background": "light"
     },
     "output_type": "display_data"
    }
   ],
   "source": [
    "fig, ax = plt.subplots()\n",
    "CS = ax.contour(X, Y, Z)\n",
    "ax.clabel(CS, inline=1, fontsize=10)"
   ],
   "metadata": {
    "collapsed": false,
    "pycharm": {
     "name": "#%% \n",
     "is_executing": false
    }
   }
  },
  {
   "cell_type": "code",
   "execution_count": 60,
   "outputs": [
    {
     "name": "stderr",
     "text": [
      "/home/zelenyy/.local/lib/python3.7/site-packages/ipykernel_launcher.py:4: RuntimeWarning: invalid value encountered in greater\n",
      "  after removing the cwd from sys.path.\n",
      "/home/zelenyy/.local/lib/python3.7/site-packages/ipykernel_launcher.py:4: RuntimeWarning: invalid value encountered in less\n",
      "  after removing the cwd from sys.path.\n"
     ],
     "output_type": "stream"
    },
    {
     "data": {
      "text/plain": "<matplotlib.collections.PathCollection at 0x7f3d90109810>"
     },
     "metadata": {},
     "output_type": "execute_result",
     "execution_count": 60
    }
   ],
   "source": [
    "xs = np.linspace(0,90,100)\n",
    "ys = np.linspace(0.05,1, 100)\n",
    "zs = inter(xs, ys)\n",
    "indx = np.logical_and(zs > 0.65, zs<0.75)\n",
    "plt.scatter(xs[indx], ys[indx])"
   ],
   "metadata": {
    "collapsed": false,
    "pycharm": {
     "name": "#%%\n",
     "is_executing": false
    }
   }
  },
  {
   "cell_type": "code",
   "execution_count": 14,
   "outputs": [
    {
     "traceback": [
      "\u001b[0;31m---------------------------------------------------------------------------\u001b[0m",
      "\u001b[0;31mValueError\u001b[0m                                Traceback (most recent call last)",
      "\u001b[0;32m<ipython-input-14-6631f3c4289b>\u001b[0m in \u001b[0;36m<module>\u001b[0;34m\u001b[0m\n\u001b[1;32m      3\u001b[0m \u001b[0mx\u001b[0m \u001b[0;34m=\u001b[0m \u001b[0mx\u001b[0m\u001b[0;34m[\u001b[0m\u001b[0msort_indx\u001b[0m\u001b[0;34m]\u001b[0m\u001b[0;34m\u001b[0m\u001b[0;34m\u001b[0m\u001b[0m\n\u001b[1;32m      4\u001b[0m \u001b[0my\u001b[0m \u001b[0;34m=\u001b[0m \u001b[0menergy\u001b[0m\u001b[0;34m[\u001b[0m\u001b[0mindx\u001b[0m\u001b[0;34m]\u001b[0m\u001b[0;34m[\u001b[0m\u001b[0msort_indx\u001b[0m\u001b[0;34m]\u001b[0m\u001b[0;34m\u001b[0m\u001b[0;34m\u001b[0m\u001b[0m\n\u001b[0;32m----> 5\u001b[0;31m \u001b[0mspl\u001b[0m \u001b[0;34m=\u001b[0m \u001b[0mUnivariateSpline\u001b[0m\u001b[0;34m(\u001b[0m\u001b[0mx\u001b[0m\u001b[0;34m,\u001b[0m \u001b[0my\u001b[0m\u001b[0;34m)\u001b[0m\u001b[0;34m\u001b[0m\u001b[0;34m\u001b[0m\u001b[0m\n\u001b[0m\u001b[1;32m      6\u001b[0m \u001b[0mspl\u001b[0m\u001b[0;34m.\u001b[0m\u001b[0mset_smoothing_factor\u001b[0m\u001b[0;34m(\u001b[0m\u001b[0;36m0.5\u001b[0m\u001b[0;34m)\u001b[0m\u001b[0;34m\u001b[0m\u001b[0;34m\u001b[0m\u001b[0m\n\u001b[1;32m      7\u001b[0m \u001b[0;34m\u001b[0m\u001b[0m\n",
      "\u001b[0;32m~/miniconda3/envs/phd-code/lib/python3.7/site-packages/scipy/interpolate/fitpack2.py\u001b[0m in \u001b[0;36m__init__\u001b[0;34m(self, x, y, w, bbox, k, s, ext, check_finite)\u001b[0m\n\u001b[1;32m    175\u001b[0m                                  \"NaNs or infs.\")\n\u001b[1;32m    176\u001b[0m         \u001b[0;32mif\u001b[0m \u001b[0;32mnot\u001b[0m \u001b[0mnp\u001b[0m\u001b[0;34m.\u001b[0m\u001b[0mall\u001b[0m\u001b[0;34m(\u001b[0m\u001b[0mdiff\u001b[0m\u001b[0;34m(\u001b[0m\u001b[0mx\u001b[0m\u001b[0;34m)\u001b[0m \u001b[0;34m>\u001b[0m \u001b[0;36m0.0\u001b[0m\u001b[0;34m)\u001b[0m\u001b[0;34m:\u001b[0m\u001b[0;34m\u001b[0m\u001b[0;34m\u001b[0m\u001b[0m\n\u001b[0;32m--> 177\u001b[0;31m             \u001b[0;32mraise\u001b[0m \u001b[0mValueError\u001b[0m\u001b[0;34m(\u001b[0m\u001b[0;34m'x must be strictly increasing'\u001b[0m\u001b[0;34m)\u001b[0m\u001b[0;34m\u001b[0m\u001b[0;34m\u001b[0m\u001b[0m\n\u001b[0m\u001b[1;32m    178\u001b[0m \u001b[0;34m\u001b[0m\u001b[0m\n\u001b[1;32m    179\u001b[0m         \u001b[0;31m# _data == x,y,w,xb,xe,k,s,n,t,c,fp,fpint,nrdata,ier\u001b[0m\u001b[0;34m\u001b[0m\u001b[0;34m\u001b[0m\u001b[0;34m\u001b[0m\u001b[0m\n",
      "\u001b[0;31mValueError\u001b[0m: x must be strictly increasing"
     ],
     "ename": "ValueError",
     "evalue": "x must be strictly increasing",
     "output_type": "error"
    }
   ],
   "source": [
    "x = theta[indx]\n",
    "sort_indx  = x.argsort()\n",
    "x = x[sort_indx]\n",
    "\n",
    "y = energy[indx][sort_indx]\n",
    "spl = UnivariateSpline(x, y)\n",
    "spl.set_smoothing_factor(0.5)\n",
    "\n",
    "xs = np.linspace(0,90,100)\n",
    "plt.plot(xs, spl(xs), 'g')\n"
   ],
   "metadata": {
    "collapsed": false,
    "pycharm": {
     "name": "#%%\n",
     "is_executing": false
    }
   }
  },
  {
   "cell_type": "code",
   "execution_count": 22,
   "outputs": [
    {
     "data": {
      "text/plain": "array([0.7 , 0.85, 0.8 , 0.75, 0.9 , 0.85, 0.75, 0.7 , 0.95, 0.65, 0.65,\n       0.6 , 0.55, 0.7 , 0.45, 0.75, 0.45, 0.4 , 0.35, 0.3 , 0.2 ])"
     },
     "metadata": {},
     "output_type": "execute_result",
     "execution_count": 22
    }
   ],
   "source": [
    "y"
   ],
   "metadata": {
    "collapsed": false,
    "pycharm": {
     "name": "#%%\n",
     "is_executing": false
    }
   }
  },
  {
   "cell_type": "code",
   "execution_count": null,
   "outputs": [],
   "source": [
    "\n"
   ],
   "metadata": {
    "collapsed": false,
    "pycharm": {
     "name": "#%%\n"
    }
   }
  }
 ],
 "metadata": {
  "kernelspec": {
   "display_name": "Python 3",
   "language": "python",
   "name": "python3"
  },
  "language_info": {
   "codemirror_mode": {
    "name": "ipython",
    "version": 3
   },
   "file_extension": ".py",
   "mimetype": "text/x-python",
   "name": "python",
   "nbconvert_exporter": "python",
   "pygments_lexer": "ipython3",
   "version": "3.7.6"
  },
  "pycharm": {
   "stem_cell": {
    "cell_type": "raw",
    "source": [],
    "metadata": {
     "collapsed": false
    }
   }
  }
 },
 "nbformat": 4,
 "nbformat_minor": 1
}