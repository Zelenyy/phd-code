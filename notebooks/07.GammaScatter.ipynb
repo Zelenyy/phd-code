{
 "cells": [
  {
   "cell_type": "code",
   "execution_count": 8,
   "metadata": {},
   "outputs": [],
   "source": [
    "import xcom\n",
    "import matplotlib.pyplot as plt\n",
    "from phd.thunderstorm.atmosphere import air_accuracy\n",
    "import numpy as np"
   ]
  },
  {
   "cell_type": "code",
   "execution_count": 3,
   "metadata": {},
   "outputs": [
    {
     "data": {
      "text/plain": [
       "{'N2': 75.50733,\n",
       " 'O2': 23.15,\n",
       " 'Ar': 1.292,\n",
       " 'CO2': 0.046,\n",
       " 'Ne': 0.0014,\n",
       " 'Kr': 0.003,\n",
       " 'CH4': 8.4e-05,\n",
       " 'He': 7.3e-05,\n",
       " 'H2': 8e-05,\n",
       " 'Xe': 4e-05}"
      ]
     },
     "execution_count": 3,
     "metadata": {},
     "output_type": "execute_result"
    }
   ],
   "source": [
    "air_accuracy"
   ]
  },
  {
   "cell_type": "code",
   "execution_count": 4,
   "metadata": {},
   "outputs": [],
   "source": [
    "factory  =  xcom.MaterialFactory()"
   ]
  },
  {
   "cell_type": "code",
   "execution_count": null,
   "metadata": {},
   "outputs": [],
   "source": [
    "\n",
    "for key, value in air_accuracy:\n",
    "    material = xcom.MaterialFactory.from_formula(key)\n",
    "    factory.add_material()"
   ]
  },
  {
   "cell_type": "code",
   "execution_count": 5,
   "metadata": {},
   "outputs": [],
   "source": [
    "material = xcom.Material([7]) # Create nytrogen\n",
    "data = xcom.calculate_attenuation(material)"
   ]
  },
  {
   "cell_type": "code",
   "execution_count": 10,
   "metadata": {},
   "outputs": [
    {
     "data": {
      "text/plain": [
       "<matplotlib.legend.Legend at 0x7f68e902b1d0>"
      ]
     },
     "execution_count": 10,
     "metadata": {},
     "output_type": "execute_result"
    },
    {
     "data": {
      "image/png": "[encoded data removed]",
      "text/plain": [
       "<Figure size 432x288 with 1 Axes>"
      ]
     },
     "metadata": {
      "needs_background": "light"
     },
     "output_type": "display_data"
    }
   ],
   "source": [
    "indx = np.logical_and(data[\"energy\"]/1e6 < 1.0, data[\"energy\"]/1e6 > 0.05) \n",
    "x = data[\"energy\"][indx]/1e6\n",
    "# plt.plot(x, data[\"coherent\"], label=\"Coherent\")\n",
    "plt.plot(x, data[\"incoherent\"][indx], label=\"Incoherent\")\n",
    "plt.plot(x, data[\"photoelectric\"][indx], label=\"Photoelectric\")\n",
    "# plt.plot(x, data[\"pair_atom\"], label=\"Pair atom\")\n",
    "# plt.plot(x, data[\"pair_electron\"], label=\"Pair electron\")\n",
    "# plt.plot(x, data[\"total\"], label=\"Total\")\n",
    "plt.xlabel(\"MeV\")\n",
    "plt.ylabel(\"cm2/gr\")\n",
    "plt.xscale(\"log\")\n",
    "plt.yscale(\"log\")\n",
    "plt.legend()"
   ]
  },
  {
   "cell_type": "code",
   "execution_count": null,
   "metadata": {},
   "outputs": [],
   "source": []
  },
  {
   "cell_type": "code",
   "execution_count": null,
   "metadata": {},
   "outputs": [],
   "source": []
  }
 ],
 "metadata": {
  "kernelspec": {
   "display_name": "Python 3",
   "language": "python",
   "name": "python3"
  },
  "language_info": {
   "codemirror_mode": {
    "name": "ipython",
    "version": 3
   },
   "file_extension": ".py",
   "mimetype": "text/x-python",
   "name": "python",
   "nbconvert_exporter": "python",
   "pygments_lexer": "ipython3",
   "version": "3.7.6"
  }
 },
 "nbformat": 4,
 "nbformat_minor": 4
}
