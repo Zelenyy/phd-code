{
 "cells": [
  {
   "cell_type": "code",
   "execution_count": 2,
   "metadata": {
    "collapsed": true,
    "pycharm": {
     "is_executing": false
    }
   },
   "outputs": [],
   "source": [
    "import numpy as np\n",
    "import matplotlib as mpl\n",
    "import matplotlib.pyplot as plt\n",
    "import os\n",
    "import tables\n",
    "from phd.utils.path_tools import find_by_meta"
   ]
  },
  {
   "cell_type": "code",
   "execution_count": 10,
   "outputs": [],
   "source": [],
   "metadata": {
    "collapsed": false,
    "pycharm": {
     "name": "#%%\n",
     "is_executing": false
    }
   }
  },
  {
   "cell_type": "code",
   "execution_count": 3,
   "outputs": [],
   "source": [
    "# path = \"/mnt/storage2/phd/data/thunderstorm/diffModels/result_1_1e4.hdf5\"\n",
    "path = \"/home/zelenyy/temp/phd-run/result.hdf5\"\n"
   ],
   "metadata": {
    "collapsed": false,
    "pycharm": {
     "name": "#%%\n",
     "is_executing": false
    }
   }
  },
  {
   "cell_type": "code",
   "execution_count": 8,
   "outputs": [],
   "source": [
    "with tables.open_file(path) as h5file:\n",
    "    data = h5file.get_node(\"/sim0001\", \"electron\").read()"
   ],
   "metadata": {
    "collapsed": false,
    "pycharm": {
     "name": "#%%\n",
     "is_executing": false
    }
   }
  },
  {
   "cell_type": "code",
   "execution_count": 7,
   "outputs": [],
   "source": [
    "\n"
   ],
   "metadata": {
    "collapsed": false,
    "pycharm": {
     "name": "#%%\n",
     "is_executing": false
    }
   }
  },
  {
   "cell_type": "code",
   "execution_count": 28,
   "outputs": [
    {
     "data": {
      "text/plain": "<Figure size 432x288 with 1 Axes>",
      "image/png": "[encoded data removed]"
     },
     "metadata": {
      "needs_background": "light"
     },
     "output_type": "display_data"
    }
   ],
   "source": [
    "paths = find_by_meta(path,target_node=\"electron\", values_gdml_fieldValueZ=10e-4)\n",
    "with tables.open_file(path) as h5file:\n",
    "    for node_path in paths:\n",
    "        table = h5file.get_node(node_path)\n",
    "        phys = table.attrs[\"values_macros_physics\"]\n",
    "        data = table.read()\n",
    "        plt.hist(data[\"energy\"],bins=np.linspace(0,1,10), histtype=\"step\", label=phys)\n",
    "    plt.legend();"
   ],
   "metadata": {
    "collapsed": false,
    "pycharm": {
     "name": "#%%\n",
     "is_executing": false
    }
   }
  },
  {
   "cell_type": "code",
   "execution_count": 24,
   "outputs": [
    {
     "name": "stdout",
     "text": [
      "0\n",
      "0\n",
      "0\n"
     ],
     "output_type": "stream"
    },
    {
     "data": {
      "text/plain": "<Figure size 432x288 with 1 Axes>",
      "image/png": "[encoded data removed]"
     },
     "metadata": {
      "needs_background": "light"
     },
     "output_type": "display_data"
    }
   ],
   "source": [
    "paths = find_by_meta(path,target_node=\"electron\", values_macros_physics=\"standard\")\n",
    "with tables.open_file(path) as h5file:\n",
    "    for node_path in paths:\n",
    "        table = h5file.get_node(node_path)\n",
    "        field = table.attrs[\"values_gdml_fieldValueZ\"]\n",
    "        data = table.read()\n",
    "        print(np.sum(data[\"energy\"] == 0.0))\n",
    "        plt.hist(data[\"energy\"],bins=np.linspace(0,1,10), histtype=\"step\", label=str(field))\n",
    "    plt.legend();"
   ],
   "metadata": {
    "collapsed": false,
    "pycharm": {
     "name": "#%%\n",
     "is_executing": false
    }
   }
  },
  {
   "cell_type": "code",
   "execution_count": 23,
   "outputs": [
    {
     "data": {
      "text/plain": "<Figure size 432x288 with 1 Axes>",
      "image/png": "[encoded data removed]"
     },
     "metadata": {
      "needs_background": "light"
     },
     "output_type": "display_data"
    }
   ],
   "source": [
    "paths = find_by_meta(path,target_node=\"electron\", values_macros_physics=\"standard\")\n",
    "with tables.open_file(path) as h5file:\n",
    "    for node_path in paths:\n",
    "        table = h5file.get_node(node_path)\n",
    "        field = table.attrs[\"values_gdml_fieldValueZ\"]\n",
    "        data = table.read()\n",
    "        # print(np.sum(data[\"energy\"] == 0.0))\n",
    "        plt.hist(data[\"z\"], histtype=\"step\", label=str(field))\n",
    "    plt.legend();\n"
   ],
   "metadata": {
    "collapsed": false,
    "pycharm": {
     "name": "#%%\n",
     "is_executing": false
    }
   }
  },
  {
   "cell_type": "code",
   "execution_count": null,
   "outputs": [],
   "source": [
    "\n"
   ],
   "metadata": {
    "collapsed": false,
    "pycharm": {
     "name": "#%%\n"
    }
   }
  }
 ],
 "metadata": {
  "kernelspec": {
   "name": "pycharm-947e4b06",
   "language": "python",
   "display_name": "PyCharm (phd-code)"
  },
  "language_info": {
   "codemirror_mode": {
    "name": "ipython",
    "version": 2
   },
   "file_extension": ".py",
   "mimetype": "text/x-python",
   "name": "python",
   "nbconvert_exporter": "python",
   "pygments_lexer": "ipython2",
   "version": "2.7.6"
  },
  "pycharm": {
   "stem_cell": {
    "cell_type": "raw",
    "source": [],
    "metadata": {
     "collapsed": false
    }
   }
  }
 },
 "nbformat": 4,
 "nbformat_minor": 0
}