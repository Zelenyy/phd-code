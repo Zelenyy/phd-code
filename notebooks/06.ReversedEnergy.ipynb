{
 "cells": [
  {
   "cell_type": "code",
   "execution_count": 3,
   "metadata": {
    "pycharm": {
     "is_executing": false
    }
   },
   "outputs": [],
   "source": [
    "import matplotlib.pyplot as plt\n",
    "import numpy as np\n",
    "import tables\n",
    "from phd.utils.convertor_tools import direction_to_degree\n",
    "from phd.utils.path_tools import get_attrs_values"
   ]
  },
  {
   "cell_type": "code",
   "execution_count": 9,
   "metadata": {
    "pycharm": {
     "is_executing": false,
     "name": "#%%\n"
    }
   },
   "outputs": [],
   "source": [
    "path = \"/mnt/storage2/phd/data/thunderstorm/reversed_1/test_reversed_grid.hdf5\""
   ]
  },
  {
   "cell_type": "code",
   "execution_count": 18,
   "metadata": {
    "pycharm": {
     "is_executing": false,
     "name": "#%%\n"
    }
   },
   "outputs": [
    {
     "name": "stdout",
     "text": [
      "/sim0001/meta (Array()) ''\n",
      "/sim0001/particle_cylinder_gamma (Table(0,), fletcher32, shuffle, zlib(3)) ''\n",
      "/sim0001/particle_cylinder_number (Table(100,), fletcher32, shuffle, zlib(3)) ''\n",
      "/sim0001/particle_detector_number (Table(100,), fletcher32, shuffle, zlib(3)) ''\n"
     ],
     "output_type": "stream"
    }
   ],
   "source": [
    "with tables.open_file(path) as h5file:\n",
    "    for group in h5file.root:\n",
    "        for node in h5file.list_nodes(group):\n",
    "            print(node)\n",
    "        break\n"
   ]
  },
  {
   "cell_type": "code",
   "execution_count": 3,
   "outputs": [],
   "source": [
    "def process(path):\n",
    "    probability = []\n",
    "    energy = []\n",
    "    theta = []\n",
    "    with tables.open_file(path) as h5file:\n",
    "        for group in h5file.root:\n",
    "            table = h5file.get_node(group, \"particle_detector_number\")\n",
    "            data = table.read()\n",
    "            indx = data['electron'] == 0\n",
    "            probability.append(np.sum(indx)/table.attrs[\"values_macros_number\"])\n",
    "            energy.append(table.attrs[\"values_macros_energy\"])\n",
    "            theta.append(direction_to_degree(table.attrs[\"values_macros_direction\"]))\n",
    "    return np.array(theta), np.array(energy), np.array(probability)"
   ],
   "metadata": {
    "collapsed": false,
    "pycharm": {
     "name": "#%%\n",
     "is_executing": false
    }
   }
  },
  {
   "cell_type": "code",
   "execution_count": 4,
   "outputs": [],
   "source": [
    "theta, energy, probability = process(path)"
   ],
   "metadata": {
    "collapsed": false,
    "pycharm": {
     "name": "#%%\n",
     "is_executing": false
    }
   }
  },
  {
   "cell_type": "code",
   "execution_count": 10,
   "outputs": [
    {
     "name": "stdout",
     "text": [
      "/sim0001/particle_detector_number._v_attrs (AttributeSet), 18 attributes:\n",
      "   [CLASS := 'TABLE',\n",
      "    FIELD_0_FILL := 0,\n",
      "    FIELD_0_NAME := 'electron',\n",
      "    NROWS := 100,\n",
      "    TITLE := '',\n",
      "    VERSION := '2.7',\n",
      "    path := 'sim0001',\n",
      "    text := '/df/project test\\n/df/gdml .././gdml/0.gdml\\n/thunderstorm/physics standard_opt_4\\n/thunderstorm/stacking particle_cylinder\\n/thunderstorm/addParticleInPCS gamma\\n/thunderstorm/addParticleInPD e-\\n/thunderstorm/cut/energy 0.05\\n\\n/gps/particle e-\\n/gps/number 1\\n/gps/direction 0.0 0 1.0\\n/gps/ene/mono 0.1 MeV\\n/gps/position 0. 0. 0. m\\n/run/beamOn 100\\n',\n",
      "    values_gdml_fieldValueZ := 0.0008,\n",
      "    values_gdml_height := 0,\n",
      "    values_macros_cut := 0.05,\n",
      "    values_macros_direction := '0.0 0 1.0',\n",
      "    values_macros_energy := 0.1,\n",
      "    values_macros_number := 100,\n",
      "    values_macros_particle := 'e-',\n",
      "    values_macros_path := '.././gdml/0.gdml',\n",
      "    values_macros_posZ := 200,\n",
      "    values_time := 2.973478908999823]\n"
     ],
     "output_type": "stream"
    }
   ],
   "source": [
    "from scipy.interpolate import  LinearNDInterpolator\n",
    "inter = LinearNDInterpolator((theta, energy), probability)"
   ],
   "metadata": {
    "collapsed": false,
    "pycharm": {
     "name": "#%%\n",
     "is_executing": false
    }
   }
  },
  {
   "cell_type": "code",
   "execution_count": 4,
   "outputs": [],
   "source": [
    "path1 = \"/mnt/storage2/phd/data/thunderstorm/reversed_1/grid_1.hdf5\"\n",
    "path2 = \"/mnt/storage2/phd/data/thunderstorm/reversed_1/grid_2.hdf5\"\n",
    "fields = get_attrs_values(path1, \"values_gdml_fieldValueZ\")"
   ],
   "metadata": {
    "collapsed": false,
    "pycharm": {
     "name": "#%%\n",
     "is_executing": false
    }
   }
  },
  {
   "cell_type": "code",
   "execution_count": null,
   "outputs": [],
   "source": [
    "def process_energy(path):\n",
    "    probability = []\n",
    "    energy = []\n",
    "    theta = []\n",
    "    with tables.open_file(path) as h5file:\n",
    "        for group in h5file.root:\n",
    "            table = h5file.get_node(group, \"particle_detector_number\")\n",
    "            data = table.read()\n",
    "            indx = data['electron'] == 0\n",
    "            probability.append(np.sum(indx)/table.attrs[\"values_macros_number\"])\n",
    "            energy.append(table.attrs[\"values_macros_energy\"])\n",
    "            theta.append(direction_to_degree(table.attrs[\"values_macros_direction\"]))\n",
    "    return np.array(theta), np.array(energy), np.array(probability)\n",
    "\n",
    "\n"
   ],
   "metadata": {
    "collapsed": false,
    "pycharm": {
     "name": "#%%\n"
    }
   }
  }
 ],
 "metadata": {
  "kernelspec": {
   "display_name": "Python 3",
   "language": "python",
   "name": "python3"
  },
  "language_info": {
   "codemirror_mode": {
    "name": "ipython",
    "version": 3
   },
   "file_extension": ".py",
   "mimetype": "text/x-python",
   "name": "python",
   "nbconvert_exporter": "python",
   "pygments_lexer": "ipython3",
   "version": "3.7.6"
  },
  "pycharm": {
   "stem_cell": {
    "cell_type": "raw",
    "source": [],
    "metadata": {
     "collapsed": false
    }
   }
  }
 },
 "nbformat": 4,
 "nbformat_minor": 1
}