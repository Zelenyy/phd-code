{
 "cells": [
  {
   "cell_type": "markdown",
   "metadata": {
    "collapsed": true,
    "pycharm": {
     "name": "#%% md\n"
    }
   },
   "source": [
    "# План симуляций\n",
    "0. Превышение критической энергии, условие  возникновения лавины.\n",
    "1. Симуляции паратметров электронной лавины без учета гамма-квантов\n",
    "2. Расчет длинны нарастания лавины для разных высот и полей (делая поправку для поля на высоту)\n",
    "3. Расчет средней энергии электронов, спектра электронов, зависимости от начальной энергии\n",
    "\n",
    "\n"
   ]
  },
  {
   "cell_type": "code",
   "execution_count": 1,
   "outputs": [],
   "source": [
    "from dataclasses import dataclass\n",
    "import numpy as np\n",
    "import matplotlib.pyplot as plt\n",
    "import tables\n",
    "import matplotlib as mpl"
   ],
   "metadata": {
    "collapsed": false,
    "pycharm": {
     "name": "#%%\n"
    }
   }
  },
  {
   "cell_type": "code",
   "execution_count": 1,
   "outputs": [],
   "source": [
    "path = \"/home/zelenyy/data/thunderstorm/test/result.hdf5\"\n",
    "path = \"/mnt/storage2/phd/data/thunderstorm/critical_energy/result.hdf5\""
   ],
   "metadata": {
    "collapsed": false,
    "pycharm": {
     "name": "#%%\n"
    }
   }
  },
  {
   "cell_type": "code",
   "execution_count": 2,
   "outputs": [
    {
     "ename": "NameError",
     "evalue": "name 'tables' is not defined",
     "output_type": "error",
     "traceback": [
      "\u001B[0;31m---------------------------------------------------------------------------\u001B[0m",
      "\u001B[0;31mNameError\u001B[0m                                 Traceback (most recent call last)",
      "\u001B[0;32m<ipython-input-2-dc8f15dd6321>\u001B[0m in \u001B[0;36m<module>\u001B[0;34m\u001B[0m\n\u001B[0;32m----> 1\u001B[0;31m \u001B[0;32mwith\u001B[0m \u001B[0mtables\u001B[0m\u001B[0;34m.\u001B[0m\u001B[0mopen_file\u001B[0m\u001B[0;34m(\u001B[0m\u001B[0mpath\u001B[0m\u001B[0;34m)\u001B[0m \u001B[0;32mas\u001B[0m \u001B[0mh5file\u001B[0m\u001B[0;34m:\u001B[0m\u001B[0;34m\u001B[0m\u001B[0;34m\u001B[0m\u001B[0m\n\u001B[0m\u001B[1;32m      2\u001B[0m     \u001B[0;31m# print(h5file)\u001B[0m\u001B[0;34m\u001B[0m\u001B[0;34m\u001B[0m\u001B[0;34m\u001B[0m\u001B[0m\n\u001B[1;32m      3\u001B[0m     \u001B[0;32mfor\u001B[0m \u001B[0mgroup\u001B[0m \u001B[0;32min\u001B[0m \u001B[0mh5file\u001B[0m\u001B[0;34m.\u001B[0m\u001B[0mroot\u001B[0m\u001B[0;34m:\u001B[0m\u001B[0;34m\u001B[0m\u001B[0;34m\u001B[0m\u001B[0m\n\u001B[1;32m      4\u001B[0m         \u001B[0mprint\u001B[0m\u001B[0;34m(\u001B[0m\u001B[0mgroup\u001B[0m\u001B[0;34m.\u001B[0m\u001B[0m_v_name\u001B[0m\u001B[0;34m)\u001B[0m\u001B[0;34m\u001B[0m\u001B[0;34m\u001B[0m\u001B[0m\n\u001B[1;32m      5\u001B[0m         \u001B[0;31m# table = h5file.get_node(group, \"stacking_simple\")\u001B[0m\u001B[0;34m\u001B[0m\u001B[0;34m\u001B[0m\u001B[0;34m\u001B[0m\u001B[0m\n",
      "\u001B[0;31mNameError\u001B[0m: name 'tables' is not defined"
     ]
    }
   ],
   "source": [
    "with tables.open_file(path) as h5file:\n",
    "    # print(h5file)\n",
    "    for group in h5file.root:\n",
    "        print(group._v_name)\n",
    "        # table = h5file.get_node(group, \"stacking_simple\")\n",
    "        # print(repr(table.attrs))\n",
    "        # data = table.read()\n",
    "        break"
   ],
   "metadata": {
    "collapsed": false,
    "pycharm": {
     "name": "#%%\n"
    }
   }
  },
  {
   "cell_type": "code",
   "execution_count": null,
   "outputs": [],
   "source": [
    "bins = np.arange(0.001, 2, 0.001)\n"
   ],
   "metadata": {
    "collapsed": false,
    "pycharm": {
     "name": "#%%\n"
    }
   }
  },
  {
   "cell_type": "code",
   "execution_count": 3,
   "outputs": [],
   "source": [
    "@dataclass\n",
    "class CEData:\n",
    "    number : int\n",
    "    energy : float\n",
    "    hist : np.ndarray\n",
    "\n",
    "def select_data(table, field, height):\n",
    "    m_field = table.attrs[\"values_gdml_field\"][0]\n",
    "    m_height = table.attrs[\"values_gdml_height\"][0]\n",
    "    return np.isclose([m_field, m_height], [field, height]).all()\n",
    "\n",
    "def get_data(path, field = 0.0, height = 0.0):\n",
    "    result = []\n",
    "    bins = np.arange(0.001, 2, 0.001)\n",
    "    with tables.open_file(path) as h5file:\n",
    "        for group in h5file.root:\n",
    "            table = h5file.get_node(group, \"stacking_simple\")\n",
    "            if select_data(table, field, height):\n",
    "                data = table.read()\n",
    "                energy =  table.attrs[\"values_macros_energy\"]\n",
    "                number =  table.attrs[\"values_macros_number\"]\n",
    "                hist, _ = np.histogram(data[\"energy\"], bins=bins)\n",
    "                result.append(CEData(number, energy, hist))\n",
    "    return result, bins"
   ],
   "metadata": {
    "collapsed": false,
    "pycharm": {
     "name": "#%%\n"
    }
   }
  },
  {
   "cell_type": "code",
   "execution_count": 5,
   "outputs": [],
   "source": [
    "ce_list, bins = get_data(path, field=9e-4)"
   ],
   "metadata": {
    "collapsed": false,
    "pycharm": {
     "name": "#%%\n"
    }
   }
  },
  {
   "cell_type": "code",
   "execution_count": 6,
   "outputs": [],
   "source": [
    "ce_list = sorted(ce_list, key=lambda x: x.energy)"
   ],
   "metadata": {
    "collapsed": false,
    "pycharm": {
     "name": "#%%\n"
    }
   }
  },
  {
   "cell_type": "code",
   "execution_count": 7,
   "outputs": [
    {
     "data": {
      "text/plain": "<Figure size 432x288 with 1 Axes>",
      "image/png": "[encoded data removed]"
     },
     "metadata": {
      "needs_background": "light"
     },
     "output_type": "display_data"
    }
   ],
   "source": [
    "for item in ce_list:\n",
    "    plt.step(bins[:-1], item.hist)"
   ],
   "metadata": {
    "collapsed": false,
    "pycharm": {
     "name": "#%%\n"
    }
   }
  },
  {
   "cell_type": "code",
   "execution_count": 9,
   "outputs": [
    {
     "name": "stdout",
     "output_type": "stream",
     "text": [
      "0.0 0\n",
      "0.0 1\n",
      "0.0 2\n",
      "0.0 3\n",
      "0.0 4\n",
      "0.0 5\n",
      "0.0 6\n",
      "0.0 7\n",
      "0.0 8\n",
      "0.0 9\n",
      "0.0 10\n",
      "0.0 11\n",
      "0.0 12\n",
      "0.0 13\n",
      "0.0 14\n",
      "0.0 15\n",
      "0.0 16\n",
      "0.0 17\n",
      "0.0 18\n",
      "0.0 19\n",
      "0.0 20\n",
      "0.02 21\n",
      "0.0 22\n",
      "0.01 23\n",
      "0.06 24\n",
      "0.0 25\n",
      "0.02 26\n",
      "0.02 27\n",
      "8.08 28\n",
      "0.06 29\n",
      "0.07 30\n",
      "7.14 31\n",
      "0.07 32\n",
      "7.19 33\n",
      "34.08 34\n",
      "6.33 35\n",
      "14.28 36\n",
      "0.12 37\n",
      "21.76 38\n",
      "21.16 39\n",
      "27.0 40\n",
      "20.58 41\n",
      "35.33 42\n",
      "28.43 43\n",
      "53.41 44\n",
      "33.91 45\n",
      "93.42 46\n",
      "57.15 47\n",
      "74.94 48\n",
      "91.7 49\n",
      "93.36 50\n",
      "133.88 51\n",
      "119.67 52\n",
      "141.23 53\n",
      "149.68 54\n"
     ]
    }
   ],
   "source": [
    "for item in ce_list:\n",
    "    print(item.hist.sum()/item.number, ce_list.index(item))"
   ],
   "metadata": {
    "collapsed": false,
    "pycharm": {
     "name": "#%%\n"
    }
   }
  },
  {
   "cell_type": "code",
   "execution_count": 65,
   "outputs": [
    {
     "data": {
      "text/plain": "<matplotlib.collections.LineCollection at 0x7f6c203231d0>"
     },
     "execution_count": 65,
     "metadata": {},
     "output_type": "execute_result"
    },
    {
     "data": {
      "text/plain": "<Figure size 432x288 with 1 Axes>",
      "image/png": "[encoded data removed]"
     },
     "metadata": {
      "needs_background": "light"
     },
     "output_type": "display_data"
    }
   ],
   "source": [
    "item = ce_list[-1]\n",
    "n = 100\n",
    "plt.step(bins[:-1], item.hist/item.number)\n",
    "plt.vlines(item.energy, 0, 0.12)"
   ],
   "metadata": {
    "collapsed": false,
    "pycharm": {
     "name": "#%%\n"
    }
   }
  },
  {
   "cell_type": "code",
   "execution_count": 4,
   "outputs": [],
   "source": [
    "def get_data_event(path, field = 0.0, height = 0.0):\n",
    "    result = []\n",
    "    with tables.open_file(path) as h5file:\n",
    "        for group in h5file.root:\n",
    "            table = h5file.get_node(group, \"stacking_simple\")\n",
    "            if select_data(table, field, height):\n",
    "                data = table.read()\n",
    "                energy =  table.attrs[\"values_macros_energy\"]\n",
    "                number =  table.attrs[\"values_macros_number\"]\n",
    "                _, temp  = np.unique(data[\"event\"], return_counts=True)\n",
    "                result.append(CEData(number, energy, temp))\n",
    "    return result"
   ],
   "metadata": {
    "collapsed": false,
    "pycharm": {
     "name": "#%%\n"
    }
   }
  },
  {
   "cell_type": "code",
   "execution_count": 11,
   "outputs": [],
   "source": [
    "event_list = get_data_event(path, field=9e-4)"
   ],
   "metadata": {
    "collapsed": false,
    "pycharm": {
     "name": "#%%\n"
    }
   }
  },
  {
   "cell_type": "code",
   "execution_count": 14,
   "outputs": [
    {
     "data": {
      "text/plain": "[<matplotlib.lines.Line2D at 0x7f1b99ace3d0>]"
     },
     "execution_count": 14,
     "metadata": {},
     "output_type": "execute_result"
    },
    {
     "data": {
      "text/plain": "<Figure size 432x288 with 1 Axes>",
      "image/png": "[encoded data removed]"
     },
     "metadata": {
      "needs_background": "light"
     },
     "output_type": "display_data"
    }
   ],
   "source": [
    "item = event_list[28]\n",
    "plt.plot(item.hist)"
   ],
   "metadata": {
    "collapsed": false,
    "pycharm": {
     "name": "#%%\n"
    }
   }
  },
  {
   "cell_type": "code",
   "execution_count": 9,
   "outputs": [],
   "source": [
    "def get_data_z(path, field = 0.0, height = 0.0):\n",
    "    result = []\n",
    "    bins = np.arange(-500.0, 501, 1)\n",
    "    with tables.open_file(path) as h5file:\n",
    "        for group in h5file.root:\n",
    "            table = h5file.get_node(group, \"stacking_simple\")\n",
    "            if select_data(table, field, height):\n",
    "                data = table.read()\n",
    "                energy =  table.attrs[\"values_macros_energy\"]\n",
    "                number =  table.attrs[\"values_macros_number\"]\n",
    "                temp, _ = np.histogram(data[\"z\"], bins=bins)\n",
    "                temp = np.cumsum(temp)\n",
    "                result.append(CEData(number, energy, temp))\n",
    "    return result"
   ],
   "metadata": {
    "collapsed": false,
    "pycharm": {
     "name": "#%%\n"
    }
   }
  },
  {
   "cell_type": "code",
   "execution_count": 10,
   "outputs": [],
   "source": [
    "z_list = get_data_z(path, field=9e-4)\n"
   ],
   "metadata": {
    "collapsed": false,
    "pycharm": {
     "name": "#%%\n"
    }
   }
  },
  {
   "cell_type": "code",
   "execution_count": 12,
   "outputs": [
    {
     "data": {
      "text/plain": "<Figure size 432x288 with 1 Axes>",
      "image/png": "[encoded data removed]"
     },
     "metadata": {
      "needs_background": "light"
     },
     "output_type": "display_data"
    }
   ],
   "source": [
    "bins = np.arange(-500.0, 501, 1)\n",
    "for item in z_list:\n",
    "    plt.step(bins[:-1], item.hist/item.number)"
   ],
   "metadata": {
    "collapsed": false,
    "pycharm": {
     "name": "#%%\n"
    }
   }
  },
  {
   "cell_type": "code",
   "execution_count": 14,
   "outputs": [
    {
     "data": {
      "text/plain": "[<matplotlib.lines.Line2D at 0x7fe9edd92e90>]"
     },
     "execution_count": 14,
     "metadata": {},
     "output_type": "execute_result"
    },
    {
     "data": {
      "text/plain": "<Figure size 432x288 with 1 Axes>",
      "image/png": "[encoded data removed]"
     },
     "metadata": {
      "needs_background": "light"
     },
     "output_type": "display_data"
    }
   ],
   "source": [
    "from scipy.linalg import lstsq\n",
    "\n",
    "bins = np.arange(-500.0, 501, 1)\n",
    "energy = []\n",
    "k = []\n",
    "for item in z_list:\n",
    "    x = bins[:-1]\n",
    "    y = item.hist/item.number\n",
    "    M = x[:, np.newaxis]**[0, 1]\n",
    "    p, res, rnk, s = lstsq(M, y)\n",
    "    energy.append(item.energy)\n",
    "    k.append(p[1])\n",
    "plt.plot(energy, k, \"o\")"
   ],
   "metadata": {
    "collapsed": false,
    "pycharm": {
     "name": "#%%\n"
    }
   }
  },
  {
   "cell_type": "code",
   "execution_count": 6,
   "outputs": [
    {
     "data": {
      "text/plain": "22.026465794806718"
     },
     "execution_count": 6,
     "metadata": {},
     "output_type": "execute_result"
    }
   ],
   "source": [
    "\n",
    "\n"
   ],
   "metadata": {
    "collapsed": false,
    "pycharm": {
     "name": "#%%\n"
    }
   }
  }
 ],
 "metadata": {
  "kernelspec": {
   "display_name": "Python 3",
   "language": "python",
   "name": "python3"
  },
  "language_info": {
   "codemirror_mode": {
    "name": "ipython",
    "version": 2
   },
   "file_extension": ".py",
   "mimetype": "text/x-python",
   "name": "python",
   "nbconvert_exporter": "python",
   "pygments_lexer": "ipython2",
   "version": "2.7.6"
  }
 },
 "nbformat": 4,
 "nbformat_minor": 0
}