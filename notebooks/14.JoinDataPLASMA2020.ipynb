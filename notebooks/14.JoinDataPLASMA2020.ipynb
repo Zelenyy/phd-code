{
 "cells": [
  {
   "cell_type": "code",
   "execution_count": 84,
   "metadata": {
    "pycharm": {
     "is_executing": false
    }
   },
   "outputs": [],
   "source": [
    "import matplotlib as mpl\n",
    "import json\n",
    "import sys\n",
    "import numpy as np\n",
    "import tables\n",
    "import os\n",
    "import matplotlib.pyplot as plt"
   ]
  },
  {
   "cell_type": "code",
   "execution_count": 2,
   "metadata": {
    "pycharm": {
     "is_executing": false
    }
   },
   "outputs": [],
   "source": [
    "from dataforge.io import JsonMetaFormat\n",
    "from dataforge.meta import Meta\n"
   ]
  },
  {
   "cell_type": "code",
   "execution_count": 19,
   "metadata": {
    "pycharm": {
     "is_executing": false
    }
   },
   "outputs": [],
   "source": [
    "from phd.thunderstorm.dwyer_feedback import get_bins_from_center, load_reversed_data, histogrammed_reverse_data_v2\n",
    "path = \"/mnt/storage2/phd/data/thunderstorm/dwyer2003/\""
   ]
  },
  {
   "cell_type": "code",
   "execution_count": 6,
   "metadata": {
    "pycharm": {
     "is_executing": false,
     "name": "#%%\n"
    }
   },
   "outputs": [
    {
     "name": "stdout",
     "text": [
      "0.00055 30\n",
      "/mnt/storage2/phd/data/thunderstorm/dwyer2003/diff_0.hdf5 /sim0001 (Group) ''\n",
      "0.001 1\n",
      "0.0007 1\n",
      "0.0006 1\n",
      "0.00055 1\n",
      "0.0005 1\n",
      "0.00045 1\n",
      "0.0004 1\n",
      "0.001 10\n",
      "0.0007 10\n",
      "0.0006 10\n",
      "0.001 50\n",
      "0.0007 50\n",
      "0.001 50\n",
      "0.0007 50\n",
      "0.001 50\n",
      "0.0007 50\n",
      "0.001 50\n",
      "0.0007 50\n",
      "0.001 5\n",
      "0.0007 5\n",
      "0.0006 5\n",
      "0.001 5\n",
      "0.0007 5\n",
      "0.0006 5\n",
      "0.001 5\n",
      "0.0007 5\n",
      "0.0006 5\n",
      "0.001 5\n",
      "0.0007 5\n",
      "0.0006 5\n",
      "0.001 1\n",
      "0.0007 1\n",
      "0.0006 1\n"
     ],
     "output_type": "stream"
    }
   ],
   "source": [
    "pair = set()\n",
    "for i in range(0,6):\n",
    "    path_hdf5 = os.path.join(path, f\"diff_{i}.hdf5\")\n",
    "    with tables.open_file(path_hdf5) as h5file:\n",
    "        for group in h5file.root:\n",
    "            number = h5file.get_node(group, \"number\")\n",
    "            n = number.attrs[\"values_macros_number\"]\n",
    "            field = number.attrs[\"values_gdml_fieldValueZ\"]\n",
    "            cell = number.attrs[\"values_gdml_cellHeight\"]\n",
    "            print(field, number.attrs[\"values_macros_number\"])\n",
    "            if (field == 5.5e-4 and n ==30):\n",
    "                print(path_hdf5, group)\n",
    "            # print(cell, field)\n",
    "            # pair.add((field, cell))\n",
    "        \n",
    "    "
   ]
  },
  {
   "cell_type": "code",
   "execution_count": 13,
   "outputs": [],
   "source": [
    "with tables.open_file(\"/mnt/storage2/phd/data/thunderstorm/dwyer2003/diff_0.hdf5\") as h5file:\n",
    "    number = h5file.get_node(\"/sim0001\", \"number\").read()"
   ],
   "metadata": {
    "collapsed": false,
    "pycharm": {
     "name": "#%%\n",
     "is_executing": false
    }
   }
  },
  {
   "cell_type": "code",
   "execution_count": 14,
   "outputs": [
    {
     "data": {
      "text/plain": "array([(0,   670, 0,   495), (0,   754, 0,   521), (0,   925, 0,   754),\n       (0,   327, 0,   471), (0,  8064, 0,  9487), (0,   261, 0,   466),\n       (0,   140, 0,   196), (0,  3140, 0,  2765), (0,   586, 0,   607),\n       (0,   764, 0,   888), (0,  3572, 0,  3352), (0,  6148, 0,  5445),\n       (0,  6040, 0,  6483), (0,  1310, 0,  1317), (0,  3040, 0,  3111),\n       (0,  3767, 0,  3802), (0,  6983, 0,  7494), (0,  1102, 0,  1508),\n       (0, 13170, 0, 12482), (0,  4288, 0,  3504), (0,  1448, 0,  1446),\n       (0,  1084, 0,  1216), (0,  1404, 0,  1200), (0,   358, 0,   286),\n       (0,  6762, 0,  7015), (0,   149, 0,    66), (0,   779, 0,   731),\n       (0,   203, 0,   192), (0,  9442, 0, 10099), (0,  3773, 0,  4371)],\n      dtype=[('Primary', '<i4'), ('Gamma', '<i4'), ('Electron', '<i4'), ('Positron', '<i4')])"
     },
     "metadata": {},
     "output_type": "execute_result",
     "execution_count": 14
    }
   ],
   "source": [
    "number"
   ],
   "metadata": {
    "collapsed": false,
    "pycharm": {
     "name": "#%%\n",
     "is_executing": false
    }
   }
  },
  {
   "cell_type": "code",
   "execution_count": 10,
   "outputs": [],
   "source": [
    "with tables.open_file(\"/mnt/storage2/phd/data/thunderstorm/dwyer2003/diff_0.hdf5\") as h5file:\n",
    "    data_gamma = h5file.get_node(\"/sim0001\", \"gamma\").read()"
   ],
   "metadata": {
    "collapsed": false,
    "pycharm": {
     "name": "#%%\n",
     "is_executing": false
    }
   }
  },
  {
   "cell_type": "code",
   "execution_count": 97,
   "outputs": [],
   "source": [
    "with tables.open_file(\"/mnt/storage2/phd/data/thunderstorm/dwyer2003/diff_0.hdf5\") as h5file:\n",
    "    data_positron = h5file.get_node(\"/sim0001\", \"positron\").read()"
   ],
   "metadata": {
    "collapsed": false,
    "pycharm": {
     "name": "#%%\n",
     "is_executing": false
    }
   }
  },
  {
   "cell_type": "code",
   "execution_count": 12,
   "metadata": {
    "pycharm": {
     "is_executing": false
    }
   },
   "outputs": [
    {
     "data": {
      "text/plain": "(array([76337.,  7533.,  5992.,  4940.,  4018.,  3463.,  2995.,  1927.,\n         1257.,   919.]),\n array([2.14481531e-312, 3.99987900e+001, 7.99975800e+001, 1.19996370e+002,\n        1.59995160e+002, 1.99993950e+002, 2.39992740e+002, 2.79991530e+002,\n        3.19990320e+002, 3.59989110e+002, 3.99987900e+002]),\n <a list of 10 Patch objects>)"
     },
     "metadata": {},
     "output_type": "execute_result",
     "execution_count": 12
    },
    {
     "data": {
      "text/plain": "<Figure size 432x288 with 1 Axes>",
      "image/png": "[encoded data removed]"
     },
     "metadata": {
      "needs_background": "light"
     },
     "output_type": "display_data"
    }
   ],
   "source": [
    "N = 30\n",
    "indx = data_gamma[\"z\"] < 400\n",
    "plt.hist(data_gamma[\"z\"][indx])"
   ]
  },
  {
   "cell_type": "code",
   "execution_count": 99,
   "outputs": [
    {
     "name": "stdout",
     "text": [
      "2174\n"
     ],
     "output_type": "stream"
    },
    {
     "data": {
      "text/plain": "<Figure size 432x288 with 1 Axes>",
      "image/png": "[encoded data removed]"
     },
     "metadata": {
      "needs_background": "light"
     },
     "output_type": "display_data"
    }
   ],
   "source": [
    "indx = data_positron[\"z\"] < 400\n",
    "plt.hist(data_positron[\"z\"][indx])"
   ],
   "metadata": {
    "collapsed": false,
    "pycharm": {
     "name": "#%%\n",
     "is_executing": false
    }
   }
  },
  {
   "cell_type": "code",
   "execution_count": 102,
   "outputs": [
    {
     "name": "stdout",
     "text": [
      "2174\n"
     ],
     "output_type": "stream"
    },
    {
     "data": {
      "text/plain": "<Figure size 432x288 with 1 Axes>",
      "image/png": "[encoded data removed]"
     },
     "metadata": {
      "needs_background": "light"
     },
     "output_type": "display_data"
    }
   ],
   "source": [
    "indx = np.logical_and(data_positron[\"energy\"] > 3, data_positron[\"z\"] < 400)\n",
    "plt.hist(data_positron[\"z\"][indx])\n",
    "print(indx.sum())"
   ],
   "metadata": {
    "collapsed": false,
    "pycharm": {
     "name": "#%%\n",
     "is_executing": false
    }
   }
  },
  {
   "cell_type": "code",
   "execution_count": 30,
   "metadata": {
    "pycharm": {
     "is_executing": false,
     "name": "#%%\n"
    }
   },
   "outputs": [],
   "source": [
    "    \n",
    "def calculate_hist_height(data):\n",
    "    result, _  = np.histogramdd([data[\"z\"], np.rad2deg(data[\"theta\"]), data[\"energy\"], ], bins=(np.arange(0,401,10), np.arange(-5,96,10), np.arange(0.05, 3.01, 0.05), ))\n",
    "    return result"
   ]
  },
  {
   "cell_type": "code",
   "execution_count": null,
   "outputs": [],
   "source": [
    "path_reverse = \"/mnt/storage2/phd/data/thunderstorm/reversed_1/grid_v2.hdf5\"\n",
    "reverseHist = histogrammed_reverse_data_v2(path_reverse, 5.5e-4)\n"
   ],
   "metadata": {
    "collapsed": false,
    "pycharm": {
     "name": "#%%\n"
    }
   }
  },
  {
   "cell_type": "code",
   "execution_count": 31,
   "metadata": {
    "pycharm": {
     "is_executing": false,
     "name": "#%%\n"
    }
   },
   "outputs": [],
   "source": [
    "histHeight = calculate_hist_height(data_gamma)"
   ]
  },
  {
   "cell_type": "code",
   "execution_count": 104,
   "outputs": [],
   "source": [
    "histHeightPos = calculate_hist_height(data_positron)"
   ],
   "metadata": {
    "collapsed": false,
    "pycharm": {
     "name": "#%%\n",
     "is_executing": false
    }
   }
  },
  {
   "cell_type": "code",
   "execution_count": 32,
   "metadata": {
    "pycharm": {
     "is_executing": false,
     "name": "#%%\n"
    }
   },
   "outputs": [
    {
     "data": {
      "text/plain": "array([[[ 22.,  10.,   9., ...,  10.,   9.,   4.],\n        [ 56.,   9.,   4., ...,   0.,   0.,   0.],\n        [ 92.,  15.,   7., ...,   0.,   0.,   0.],\n        ...,\n        [165.,  12.,   5., ...,   0.,   0.,   0.],\n        [139.,  21.,   2., ...,   0.,   0.,   0.],\n        [116.,   5.,   5., ...,   0.,   0.,   0.]],\n\n       [[  5.,   1.,   0., ...,   0.,   0.,   0.],\n        [ 38.,   5.,   4., ...,   0.,   0.,   1.],\n        [ 65.,  15.,   7., ...,   0.,   0.,   0.],\n        ...,\n        [128.,   8.,   6., ...,   0.,   0.,   0.],\n        [132.,  15.,   3., ...,   0.,   0.,   0.],\n        [105.,  13.,   7., ...,   0.,   0.,   0.]],\n\n       [[  3.,   1.,   0., ...,   0.,   0.,   0.],\n        [ 44.,  12.,   1., ...,   0.,   0.,   0.],\n        [ 55.,  10.,   4., ...,   0.,   0.,   0.],\n        ...,\n        [107.,  16.,   3., ...,   0.,   0.,   0.],\n        [ 93.,   9.,   4., ...,   0.,   0.,   0.],\n        [ 87.,   8.,   1., ...,   0.,   1.,   0.]],\n\n       ...,\n\n       [[  0.,   0.,   0., ...,   0.,   0.,   0.],\n        [  0.,   0.,   0., ...,   0.,   0.,   0.],\n        [  0.,   0.,   0., ...,   0.,   0.,   0.],\n        ...,\n        [  0.,   0.,   0., ...,   0.,   0.,   0.],\n        [  0.,   0.,   0., ...,   0.,   0.,   0.],\n        [  0.,   0.,   0., ...,   0.,   0.,   0.]],\n\n       [[  0.,   0.,   0., ...,   0.,   0.,   0.],\n        [  0.,   0.,   0., ...,   0.,   0.,   0.],\n        [  0.,   0.,   0., ...,   0.,   0.,   0.],\n        ...,\n        [  0.,   0.,   0., ...,   0.,   0.,   0.],\n        [  0.,   0.,   0., ...,   0.,   0.,   0.],\n        [  0.,   0.,   0., ...,   0.,   0.,   0.]],\n\n       [[  0.,   0.,   0., ...,   0.,   0.,   0.],\n        [  0.,   0.,   0., ...,   0.,   0.,   0.],\n        [  0.,   0.,   0., ...,   0.,   0.,   0.],\n        ...,\n        [  0.,   0.,   0., ...,   0.,   0.,   0.],\n        [  0.,   0.,   0., ...,   0.,   0.,   0.],\n        [  0.,   0.,   0., ...,   0.,   0.,   0.]]])"
     },
     "metadata": {},
     "output_type": "execute_result",
     "execution_count": 32
    }
   ],
   "source": [
    "histHeight"
   ]
  },
  {
   "cell_type": "code",
   "execution_count": 33,
   "metadata": {
    "pycharm": {
     "is_executing": false,
     "name": "#%%\n"
    }
   },
   "outputs": [],
   "source": [
    "result = []\n",
    "for item in histHeight:\n",
    "    temp = np.sum(item*reverseHist.probability)\n",
    "    result.append(temp)"
   ]
  },
  {
   "cell_type": "code",
   "execution_count": 39,
   "outputs": [],
   "source": [
    "result = np.array(result)/30"
   ],
   "metadata": {
    "collapsed": false,
    "pycharm": {
     "name": "#%%\n",
     "is_executing": false
    }
   }
  },
  {
   "cell_type": "code",
   "execution_count": 109,
   "metadata": {
    "pycharm": {
     "is_executing": false,
     "name": "#%%\n"
    }
   },
   "outputs": [
    {
     "data": {
      "text/plain": "<Figure size 432x288 with 1 Axes>",
      "image/png": "[encoded data removed]"
     },
     "metadata": {
      "needs_background": "light"
     },
     "output_type": "display_data"
    }
   ],
   "source": [
    "x = np.arange(0,201,10)\n",
    "x = x[:-1] + np.diff(x)\n",
    "plt.step(x, result[:x.size])\n",
    "plt.ylim(0,3)\n",
    "plt.xlabel(\"Высота, m\")\n",
    "plt.ylabel(\"Число затравочных частиц\")\n",
    "plt.tight_layout()\n",
    "plt.savefig(\"att_fb_1.png\", dpi=600)"
   ]
  },
  {
   "cell_type": "code",
   "execution_count": 70,
   "metadata": {
    "pycharm": {
     "is_executing": false,
     "name": "#%%\n"
    }
   },
   "outputs": [
    {
     "name": "stdout",
     "text": [
      "53.43264577155015\n"
     ],
     "output_type": "stream"
    }
   ],
   "source": [
    "mean = np.sum(result[:x.size]*x)/np.sum(result)\n",
    "print(mean)"
   ]
  },
  {
   "cell_type": "code",
   "execution_count": 85,
   "outputs": [],
   "source": [
    "mpl.rcParams.update(\n",
    "    {'font.family': 'sans-serif',\n",
    "     'font.size': 16,\n",
    "     'axes.labelsize': 16,\n",
    "     'xtick.labelsize': 16,\n",
    "     'ytick.labelsize': 16,\n",
    "     'legend.fontsize': 16})"
   ],
   "metadata": {
    "collapsed": false,
    "pycharm": {
     "name": "#%%\n",
     "is_executing": false
    }
   }
  },
  {
   "cell_type": "code",
   "execution_count": 96,
   "metadata": {
    "pycharm": {
     "is_executing": false
    }
   },
   "outputs": [
    {
     "name": "stdout",
     "text": [
      "63.45005746394875\n",
      "43.35949033385806\n",
      "28.17742513175135\n",
      "19.755716924793408\n",
      "15.248855465073046\n"
     ],
     "output_type": "stream"
    },
    {
     "data": {
      "text/plain": "<Figure size 432x288 with 1 Axes>",
      "image/png": "[encoded data removed]"
     },
     "metadata": {
      "needs_background": "light"
     },
     "output_type": "display_data"
    }
   ],
   "source": [
    "x = np.arange(0,201,10)\n",
    "x = x[:-1] + np.diff(x)\n",
    "gamma = result[:x.size][::-1]\n",
    "for i in range(5):\n",
    "    temp = np.zeros(gamma.size)\n",
    "    for indx, it in enumerate(gamma):\n",
    "        if indx ==0:\n",
    "            temp = it*gamma\n",
    "        else:\n",
    "            temp[indx:] += it*gamma[:-indx]\n",
    "    plt.step(x, temp[::-1])\n",
    "    plt.yscale(\"log\")\n",
    "    gamma = temp    \n",
    "    print(np.sum(temp[::-1]*x)/np.sum(temp))\n",
    "plt.xlabel(\"Высота, m\")\n",
    "plt.ylabel(\"Число затравочных частиц\")\n",
    "plt.tight_layout()\n",
    "plt.savefig(\"att_fb_2.png\", dpi=600)"
   ]
  },
  {
   "cell_type": "code",
   "execution_count": 59,
   "metadata": {
    "pycharm": {
     "is_executing": false
    }
   },
   "outputs": [
    {
     "data": {
      "text/plain": "array([0.])"
     },
     "metadata": {},
     "output_type": "execute_result",
     "execution_count": 59
    }
   ],
   "source": []
  },
  {
   "cell_type": "code",
   "execution_count": 105,
   "metadata": {
    "pycharm": {
     "name": "#%%\n",
     "is_executing": false
    }
   },
   "outputs": [],
   "source": [
    "result_pos = []\n",
    "for item in histHeightPos:\n",
    "    temp = np.sum(item*reverseHist.probability)\n",
    "    result_pos.append(temp)\n",
    "result_pos = np.array(result_pos)/30"
   ]
  },
  {
   "cell_type": "code",
   "execution_count": 113,
   "outputs": [
    {
     "data": {
      "text/plain": "<Figure size 432x288 with 1 Axes>",
      "image/png": "[encoded data removed]"
     },
     "metadata": {
      "needs_background": "light"
     },
     "output_type": "display_data"
    }
   ],
   "source": [
    "x = np.arange(0,201,10)\n",
    "x = x[:-1] + np.diff(x)\n",
    "plt.step(x, result_pos[:x.size])\n",
    "# plt.ylim(0,3)\n",
    "plt.xlabel(\"Высота, m\")\n",
    "plt.ylabel(\"Число \\nзатравочных частиц\")\n",
    "plt.title(\"Распределение для\\n частиц с энергий < 3 МэВ\")\n",
    "plt.tight_layout()\n",
    "plt.savefig(\"att_fb_3.png\", dpi=600)\n"
   ],
   "metadata": {
    "collapsed": false,
    "pycharm": {
     "name": "#%%\n",
     "is_executing": false
    }
   }
  },
  {
   "cell_type": "code",
   "execution_count": null,
   "outputs": [],
   "source": [
    "\n"
   ],
   "metadata": {
    "collapsed": false,
    "pycharm": {
     "name": "#%%\n"
    }
   }
  }
 ],
 "metadata": {
  "kernelspec": {
   "display_name": "Python 3",
   "language": "python",
   "name": "python3"
  },
  "language_info": {
   "codemirror_mode": {
    "name": "ipython",
    "version": 3
   },
   "file_extension": ".py",
   "mimetype": "text/x-python",
   "name": "python",
   "nbconvert_exporter": "python",
   "pygments_lexer": "ipython3",
   "version": "3.7.6"
  },
  "pycharm": {
   "stem_cell": {
    "cell_type": "raw",
    "source": [],
    "metadata": {
     "collapsed": false
    }
   }
  }
 },
 "nbformat": 4,
 "nbformat_minor": 4
}