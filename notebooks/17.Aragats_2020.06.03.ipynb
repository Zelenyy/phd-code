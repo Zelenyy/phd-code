{
 "cells": [
  {
   "cell_type": "code",
   "execution_count": 2,
   "metadata": {
    "pycharm": {
     "is_executing": false
    }
   },
   "outputs": [],
   "source": [
    "import numpy as np\n",
    "import matplotlib.pyplot as plt\n",
    "import tables\n",
    "import matplotlib as mpl\n",
    "from scipy.optimize import curve_fit"
   ]
  },
  {
   "cell_type": "code",
   "execution_count": 2,
   "metadata": {},
   "outputs": [],
   "source": [
    "mpl.rcParams[\"font.size\"] = 16"
   ]
  },
  {
   "cell_type": "code",
   "execution_count": 3,
   "metadata": {},
   "outputs": [],
   "source": [
    "path = \"/home/zelenyy/data/sri-thunderstorm/aragats2020/res_2020.06.03.hdf5\""
   ]
  },
  {
   "cell_type": "code",
   "execution_count": 8,
   "metadata": {},
   "outputs": [
    {
     "name": "stdout",
     "output_type": "stream",
     "text": [
      "/sim0001/particle_detector._v_attrs (AttributeSet), 28 attributes:\n",
      "   [CLASS := 'TABLE',\n",
      "    FIELD_0_FILL := 0,\n",
      "    FIELD_0_NAME := 'event',\n",
      "    FIELD_1_FILL := 0,\n",
      "    FIELD_1_NAME := 'particle',\n",
      "    FIELD_2_FILL := 0.0,\n",
      "    FIELD_2_NAME := 'energy',\n",
      "    FIELD_3_FILL := 0.0,\n",
      "    FIELD_3_NAME := 'theta',\n",
      "    FIELD_4_FILL := 0.0,\n",
      "    FIELD_4_NAME := 'radius',\n",
      "    FIELD_5_FILL := 0.0,\n",
      "    FIELD_5_NAME := 'time',\n",
      "    NROWS := 2366796,\n",
      "    TITLE := '',\n",
      "    VERSION := '2.7',\n",
      "    path := 'sim0001',\n",
      "    text := '/npm/geometry/type custom\\n/npm/thunderstorm/aragats/geo_type pie\\n/npm/thunderstorm/physics standard_opt_4\\n/npm/thunderstorm/cut/energy 0.05\\n/npm/thunderstorm/height 3750 m\\n/npm/thunderstorm/field_z 220 kV/m\\n\\n/gps/particle e-\\n/gps/number 1\\n/gps/direction 0 0 -1\\n/gps/ene/mono 1.0 MeV\\n/gps/position 0. 0. 499.5 m\\n/run/beamOn 10000\\nexit\\n',\n",
      "    values_cut := 0.05,\n",
      "    values_direction := '0 0 -1',\n",
      "    values_energy := 1.0,\n",
      "    values_field_z := 220,\n",
      "    values_number := 10000,\n",
      "    values_particle := 'e-',\n",
      "    values_physics := 'standard_opt_4',\n",
      "    values_posZ := 499.5,\n",
      "    values_time := 76216.48833319545,\n",
      "    values_type := 'pie']\n"
     ]
    }
   ],
   "source": [
    "with tables.open_file(path) as h5file:\n",
    "    for group in h5file.root:\n",
    "        table = h5file.get_node(group, \"particle_detector\")\n",
    "        print(repr(table.attrs))\n",
    "        data = table.read()\n",
    "        break\n",
    "        print(table.nrows)"
   ]
  },
  {
   "cell_type": "code",
   "execution_count": 7,
   "metadata": {},
   "outputs": [
    {
     "name": "stdout",
     "output_type": "stream",
     "text": [
      "standard_opt_4 pie 21.171246759220956 2366796\n",
      "standard_opt_4 pie 0.014138821127514044 2\n",
      "standard pie 11.335181911844346 1778564\n",
      "standard pie 0.009314847373300128 1\n",
      "standard_opt_4 uniform 11.661698266114625 1477975\n",
      "standard_opt_4 uniform 0.0123941290544139 0\n",
      "standard uniform 7.138132373889287 1258867\n",
      "standard uniform 0.008211307322813406 1\n"
     ]
    }
   ],
   "source": [
    "with tables.open_file(path) as h5file:\n",
    "    for group in h5file.root:\n",
    "        table = h5file.get_node(group, \"particle_detector\")\n",
    "        a  = table.attrs\n",
    "        print(a[\"values_physics\"], a[\"values_type\"],a[\"values_time\"]/3600, table.nrows)\n",
    "#         data = table.read()\n",
    "#         break\n",
    "#         print()"
   ]
  },
  {
   "cell_type": "code",
   "execution_count": 5,
   "metadata": {},
   "outputs": [
    {
     "data": {
      "text/plain": [
       "('event', 'particle', 'energy', 'theta', 'radius', 'time')"
      ]
     },
     "execution_count": 5,
     "metadata": {},
     "output_type": "execute_result"
    }
   ],
   "source": [
    "data.dtype.names"
   ]
  },
  {
   "cell_type": "code",
   "execution_count": 116,
   "metadata": {},
   "outputs": [],
   "source": [
    "def process_data(data):\n",
    "    element, counts = np.unique(data[\"particle\"], return_counts=True)\n",
    "    print(element, counts)\n",
    "    print(\"Positron/Electron ratio: {:.4f}\".format(counts[0]/counts[1]))\n",
    "    "
   ]
  },
  {
   "cell_type": "code",
   "execution_count": 117,
   "metadata": {},
   "outputs": [
    {
     "name": "stdout",
     "output_type": "stream",
     "text": [
      "[-11  11  22] [   1305  333039 2032452]\n",
      "Positron/Electron ratio: 0.0039\n"
     ]
    }
   ],
   "source": [
    "process_data(data)"
   ]
  },
  {
   "cell_type": "code",
   "execution_count": 7,
   "metadata": {},
   "outputs": [
    {
     "data": {
      "text/plain": [
       "(array([   657.,  10811.,  49900., 132572., 240090., 321621., 337007.,\n",
       "        290724., 217779., 149691., 100377.,  69124.,  51004.,  40147.,\n",
       "         32972.,  27679.,  23926.,  20890.,  18339.,  16418.]),\n",
       " array([3570.3149318 , 3641.79873691, 3713.28254202, 3784.76634713,\n",
       "        3856.25015224, 3927.73395735, 3999.21776246, 4070.70156756,\n",
       "        4142.18537267, 4213.66917778, 4285.15298289, 4356.636788  ,\n",
       "        4428.12059311, 4499.60439822, 4571.08820333, 4642.57200844,\n",
       "        4714.05581355, 4785.53961866, 4857.02342377, 4928.50722888,\n",
       "        4999.99103399]),\n",
       " <a list of 20 Patch objects>)"
      ]
     },
     "execution_count": 7,
     "metadata": {},
     "output_type": "execute_result"
    },
    {
     "data": {
      "image/png": "[encoded data removed]",
      "text/plain": [
       "<Figure size 432x288 with 1 Axes>"
      ]
     },
     "metadata": {
      "needs_background": "light"
     },
     "output_type": "display_data"
    }
   ],
   "source": [
    "plt.hist(data[\"time\"][data[\"time\"]<5000], bins=20)"
   ]
  },
  {
   "cell_type": "code",
   "execution_count": 9,
   "metadata": {},
   "outputs": [
    {
     "data": {
      "image/png": "[encoded data removed]",
      "text/plain": [
       "<Figure size 432x288 with 1 Axes>"
      ]
     },
     "metadata": {
      "needs_background": "light"
     },
     "output_type": "display_data"
    }
   ],
   "source": [
    "indx_gamma = data[\"particle\"] == 22\n",
    "\n",
    "temp = data[\"energy\"][indx_gamma]\n",
    "plt.hist(temp, bins = 20, weights=(1.0/10000)*np.ones(temp.size));\n",
    "plt.yscale(\"log\")"
   ]
  },
  {
   "cell_type": "code",
   "execution_count": 4,
   "metadata": {},
   "outputs": [],
   "source": [
    "def exp(x, C, alpha):\n",
    "    return C*np.exp(-alpha*x)\n",
    "\n",
    "def lin(x, a, b):\n",
    "    return a*x + b"
   ]
  },
  {
   "cell_type": "code",
   "execution_count": 118,
   "metadata": {},
   "outputs": [],
   "source": [
    "def plot_hist(x, y, filename, fit=False):\n",
    "    plt.clf()\n",
    "    plt.bar(x[:-1], y, width=np.diff(x), align=\"edge\", edgecolor=\"k\")\n",
    "#     print(x.shape, y.shape)\n",
    "#     plt.step(x, y, where=\"mid\")\n",
    "#     _, bins, _ = plt.hist(data, bins, weights=(1.0/10000)*np.ones(data.size))\n",
    "\n",
    "    if fit:\n",
    "        x = (x[1:] + x[:-1])/2      \n",
    "        popt, _ = curve_fit(lin, x, np.log(y))\n",
    "        print(filename, popt)\n",
    "        plt.plot(x, np.exp(lin(x, *popt)), \"r\", label=\"{:.2f}*exp(-{:.2f}*E)\".format(np.exp(popt[0]), popt[1]))\n",
    "        plt.legend()\n",
    "    plt.title(\"Energy spectra per one seed electron \")\n",
    "    plt.xlabel(\"Energy, MeV\")\n",
    "    plt.ylabel(\"particles\\MeV\")\n",
    "    plt.grid(True)\n",
    "    plt.yscale(\"log\")\n",
    "    plt.tight_layout()\n",
    "    print(filename, np.diff(x)[0])\n",
    "    plt.savefig(filename+ \".png\", format=\"png\", transparent = True, dpi=600)\n",
    "\n",
    "    \n",
    "def count_hist(data, bins):\n",
    "    values, bins = np.histogram(data ,bins=bins)\n",
    "    values = values/10000.0\n",
    "    values /= np.diff(bins)\n",
    "    return values, bins\n",
    "\n",
    "def plot(data, particle = 22):\n",
    "    if particle == 22:\n",
    "        indx_gamma = data[\"particle\"] == particle\n",
    "    else:\n",
    "        indx_gamma = data[\"particle\"] != 22\n",
    "    temp = data[\"energy\"][indx_gamma]\n",
    "    \n",
    "    print(\"size\", temp.size)\n",
    "        \n",
    "    if particle == 22:\n",
    "        prefix = \"gamma\"\n",
    "    else:\n",
    "        prefix = \"electron\"\n",
    "    \n",
    "    values, bins = count_hist(temp ,bins=20)\n",
    "    plot_hist(bins, values, prefix + \"_general\")\n",
    "    \n",
    "    indx_1_mev = data[\"energy\"] < 1\n",
    "    temp = data[\"energy\"][np.logical_and(indx_gamma, indx_1_mev)]\n",
    "    values, bins = count_hist(temp ,bins=20)\n",
    "    plot_hist(bins, values, prefix + \"_less_1_MeV\")\n",
    "    \n",
    "    \n",
    "\n",
    "    \n",
    "    indx_over_1_mev = data[\"energy\"] > 1\n",
    "    temp = data[\"energy\"][np.logical_and(indx_gamma, indx_over_1_mev)]\n",
    "    \n",
    "    \n",
    "    values, bins = count_hist(temp ,bins=20)\n",
    "    plot_hist(bins, values, prefix + \"_over_1_MeV\", fit=True)\n"
   ]
  },
  {
   "cell_type": "code",
   "execution_count": 119,
   "metadata": {},
   "outputs": [
    {
     "name": "stdout",
     "output_type": "stream",
     "text": [
      "size 2032452\n",
      "gamma_general 1.9131209113664283\n",
      "gamma_less_1_MeV 0.04749996459020427\n",
      "gamma_over_1_MeV [-0.32612574  2.88699637]\n",
      "gamma_over_1_MeV 1.865620875012515\n"
     ]
    },
    {
     "data": {
      "image/png": "[encoded data removed]",
      "text/plain": [
       "<Figure size 432x288 with 1 Axes>"
      ]
     },
     "metadata": {
      "needs_background": "light"
     },
     "output_type": "display_data"
    }
   ],
   "source": [
    "plot(data)"
   ]
  },
  {
   "cell_type": "code",
   "execution_count": 120,
   "metadata": {},
   "outputs": [
    {
     "name": "stdout",
     "output_type": "stream",
     "text": [
      "size 334344\n",
      "electron_general 1.8691064969857343\n",
      "electron_less_1_MeV 0.04749945201115463\n",
      "electron_over_1_MeV [-0.28987186  2.50248027]\n",
      "electron_over_1_MeV 1.8216058520917011\n"
     ]
    },
    {
     "data": {
      "image/png": "[encoded data removed]",
      "text/plain": [
       "<Figure size 432x288 with 1 Axes>"
      ]
     },
     "metadata": {
      "needs_background": "light"
     },
     "output_type": "display_data"
    }
   ],
   "source": [
    "plot(data, particle=11)"
   ]
  },
  {
   "cell_type": "code",
   "execution_count": 99,
   "metadata": {},
   "outputs": [
    {
     "data": {
      "image/png": "[encoded data removed]",
      "text/plain": [
       "<Figure size 432x288 with 1 Axes>"
      ]
     },
     "metadata": {
      "needs_background": "light"
     },
     "output_type": "display_data"
    }
   ],
   "source": [
    "indx_gamma = data[\"particle\"] != 22\n",
    "\n",
    "temp = data[\"energy\"][indx_gamma]\n",
    "plt.hist(temp, bins = 20, weights=(1.0/10000)*np.ones(temp.size));\n",
    "plt.yscale(\"log\")"
   ]
  },
  {
   "cell_type": "code",
   "execution_count": 101,
   "metadata": {},
   "outputs": [
    {
     "data": {
      "text/plain": [
       "227336"
      ]
     },
     "execution_count": 101,
     "metadata": {},
     "output_type": "execute_result"
    }
   ],
   "source": [
    "temp.size"
   ]
  },
  {
   "cell_type": "code",
   "execution_count": 24,
   "metadata": {},
   "outputs": [
    {
     "data": {
      "image/png": "[encoded data removed]",
      "text/plain": [
       "<Figure size 432x288 with 1 Axes>"
      ]
     },
     "metadata": {
      "needs_background": "light"
     },
     "output_type": "display_data"
    }
   ],
   "source": [
    "indx_gamma = data[\"particle\"] == 22\n",
    "indx_1_mev = data[\"energy\"] < 1\n",
    "temp = data[\"energy\"][np.logical_and(indx_gamma, indx_1_mev)]\n",
    "plt.hist(temp, weights=(1.0/10000)*np.ones(temp.size));\n",
    "plt.yscale(\"log\")"
   ]
  },
  {
   "cell_type": "code",
   "execution_count": 100,
   "metadata": {},
   "outputs": [
    {
     "data": {
      "image/png": "[encoded data removed]",
      "text/plain": [
       "<Figure size 432x288 with 1 Axes>"
      ]
     },
     "metadata": {
      "needs_background": "light"
     },
     "output_type": "display_data"
    }
   ],
   "source": [
    "indx_gamma = data[\"particle\"] != 22\n",
    "indx_over_1_mev = data[\"energy\"] > 1\n",
    "temp = data[\"energy\"][np.logical_and(indx_gamma, indx_over_1_mev)]\n",
    "plt.hist(temp, weights=(1.0/10000)*np.ones(temp.size));\n",
    "plt.yscale(\"log\")"
   ]
  },
  {
   "cell_type": "code",
   "execution_count": 121,
   "metadata": {},
   "outputs": [
    {
     "data": {
      "text/plain": [
       "0.050000031287873996"
      ]
     },
     "execution_count": 121,
     "metadata": {},
     "output_type": "execute_result"
    }
   ],
   "source": [
    "data[\"energy\"].min()"
   ]
  },
  {
   "cell_type": "code",
   "execution_count": 3,
   "outputs": [],
   "source": [
    "# EXAPCS electron"
   ],
   "metadata": {
    "collapsed": false,
    "pycharm": {
     "name": "#%%md\n",
     "is_executing": false
    }
   }
  },
  {
   "cell_type": "code",
   "execution_count": 3,
   "metadata": {
    "pycharm": {
     "is_executing": false
    }
   },
   "outputs": [],
   "source": [
    "path = \"/mnt/storage1/Загрузки/parma_cpp_orig/GeneOut/generation.out\"\n"
   ]
  },
  {
   "cell_type": "code",
   "execution_count": 4,
   "outputs": [],
   "source": [
    "data = np.loadtxt(path, skiprows=3)\n"
   ],
   "metadata": {
    "collapsed": false,
    "pycharm": {
     "name": "#%%\n",
     "is_executing": false
    }
   }
  },
  {
   "cell_type": "code",
   "execution_count": 5,
   "outputs": [],
   "source": [
    "z = data[:, 3]\n",
    "energy = data[:, 0]\n",
    "xy = data[:, 1]**2 + data[:, 2]**2"
   ],
   "metadata": {
    "collapsed": false,
    "pycharm": {
     "name": "#%%\n",
     "is_executing": false
    }
   }
  },
  {
   "cell_type": "code",
   "execution_count": 6,
   "outputs": [
    {
     "name": "stderr",
     "text": [
      "/home/zelenyy/miniconda3/envs/phd-code/lib/python3.7/site-packages/ipykernel_launcher.py:8: MatplotlibDeprecationWarning: \n",
      "The 'normed' kwarg was deprecated in Matplotlib 2.1 and will be removed in 3.1. Use 'density' instead.\n",
      "  \n"
     ],
     "output_type": "stream"
    },
    {
     "data": {
      "text/plain": "<Figure size 432x288 with 1 Axes>",
      "image/png": "[encoded data removed]"
     },
     "metadata": {
      "needs_background": "light"
     },
     "output_type": "display_data"
    }
   ],
   "source": [
    "indx1 = energy < 150\n",
    "indx2 = z < 0\n",
    "indx3 = np.logical_and(indx1, energy>1)\n",
    "indx = np.logical_and(indx2, indx3)\n",
    "bins = np.array([1,  3.,   5.,   7.,   9.,  11.,  13.,  15.,  17.,  19.,  21.,  23.,  25.,  27.,  29.,\n",
    "  31.,  33.,  35.,  37.,  40.,  43.,  46.,  49.,  52.,  55.,  60.,  75.,  80.,  90.,\n",
    " 100., 110., 130.])\n",
    "plt.hist(energy[indx]*np.abs(z[indx]), bins =bins, normed=True);\n",
    "# xs = np.linspace(5, 75)\n",
    "# plt.plot(xs, xs**(-1.5))\n",
    "# xs = np.linspace(75, 130)\n",
    "# plt.plot(xs, 0.1*xs**(-0.5))\n",
    "plt.yscale(\"log\")\n",
    "# plt.xscale(\"log\")"
   ],
   "metadata": {
    "collapsed": false,
    "pycharm": {
     "name": "#%%\n",
     "is_executing": false
    }
   }
  },
  {
   "cell_type": "code",
   "execution_count": 28,
   "outputs": [],
   "source": [
    "hist , bins = np.histogram(energy[indx]*np.abs(z[indx]))"
   ],
   "metadata": {
    "collapsed": false,
    "pycharm": {
     "name": "#%%\n",
     "is_executing": false
    }
   }
  },
  {
   "cell_type": "code",
   "execution_count": 29,
   "outputs": [],
   "source": [
    "def power(x, a, b):\n",
    "    return a*(x**b)"
   ],
   "metadata": {
    "collapsed": false,
    "pycharm": {
     "name": "#%%\n",
     "is_executing": false
    }
   }
  },
  {
   "cell_type": "code",
   "execution_count": 30,
   "outputs": [],
   "source": [
    "from scipy.optimize import curve_fit"
   ],
   "metadata": {
    "collapsed": false,
    "pycharm": {
     "name": "#%%\n",
     "is_executing": false
    }
   }
  },
  {
   "cell_type": "code",
   "execution_count": 12,
   "outputs": [
    {
     "data": {
      "text/plain": "(array([4763., 2351., 1206.,  604.,  407.,  205.,  156.,  134.,   98.,\n          76.]),\n array([-9.9997310e-01, -8.0009224e-01, -6.0021138e-01, -4.0033052e-01,\n        -2.0044966e-01, -5.6880000e-04,  1.9931206e-01,  3.9919292e-01,\n         5.9907378e-01,  7.9895464e-01,  9.9883550e-01]),\n <a list of 10 Patch objects>)"
     },
     "metadata": {},
     "output_type": "execute_result",
     "execution_count": 12
    },
    {
     "data": {
      "text/plain": "<Figure size 432x288 with 1 Axes>",
      "image/png": "[encoded data removed]"
     },
     "metadata": {
      "needs_background": "light"
     },
     "output_type": "display_data"
    }
   ],
   "source": [],
   "metadata": {
    "collapsed": false,
    "pycharm": {
     "name": "#%%\n",
     "is_executing": false
    }
   }
  },
  {
   "cell_type": "code",
   "execution_count": null,
   "outputs": [],
   "source": [
    "plt.hist(z)"
   ],
   "metadata": {
    "collapsed": false,
    "pycharm": {
     "name": "#%%\n"
    }
   }
  },
  {
   "cell_type": "code",
   "execution_count": 13,
   "outputs": [
    {
     "data": {
      "text/plain": "<matplotlib.collections.PathCollection at 0x7f7e68858e10>"
     },
     "metadata": {},
     "output_type": "execute_result",
     "execution_count": 13
    },
    {
     "data": {
      "text/plain": "<Figure size 432x288 with 1 Axes>",
      "image/png": "[encoded data removed]"
     },
     "metadata": {
      "needs_background": "light"
     },
     "output_type": "display_data"
    }
   ],
   "source": [
    "\n",
    "plt.scatter(xy, z)"
   ],
   "metadata": {
    "collapsed": false,
    "pycharm": {
     "name": "#%%\n",
     "is_executing": false
    }
   }
  },
  {
   "cell_type": "code",
   "execution_count": 15,
   "outputs": [
    {
     "data": {
      "text/plain": "<matplotlib.colorbar.Colorbar at 0x7f7e684da1d0>"
     },
     "metadata": {},
     "output_type": "execute_result",
     "execution_count": 15
    },
    {
     "data": {
      "text/plain": "<Figure size 432x288 with 2 Axes>",
      "image/png": "[encoded data removed]"
     },
     "metadata": {
      "needs_background": "light"
     },
     "output_type": "display_data"
    }
   ],
   "source": [
    "plt.hist2d(xy, z)\n",
    "plt.colorbar()"
   ],
   "metadata": {
    "collapsed": false,
    "pycharm": {
     "name": "#%%\n",
     "is_executing": false
    }
   }
  },
  {
   "cell_type": "code",
   "execution_count": null,
   "outputs": [],
   "source": [
    "\n"
   ],
   "metadata": {
    "collapsed": false,
    "pycharm": {
     "name": "#%%\n"
    }
   }
  }
 ],
 "metadata": {
  "kernelspec": {
   "display_name": "Python 3",
   "language": "python",
   "name": "python3"
  },
  "language_info": {
   "codemirror_mode": {
    "name": "ipython",
    "version": 3
   },
   "file_extension": ".py",
   "mimetype": "text/x-python",
   "name": "python",
   "nbconvert_exporter": "python",
   "pygments_lexer": "ipython3",
   "version": "3.7.6"
  },
  "pycharm": {
   "stem_cell": {
    "cell_type": "raw",
    "source": [],
    "metadata": {
     "collapsed": false
    }
   }
  }
 },
 "nbformat": 4,
 "nbformat_minor": 4
}