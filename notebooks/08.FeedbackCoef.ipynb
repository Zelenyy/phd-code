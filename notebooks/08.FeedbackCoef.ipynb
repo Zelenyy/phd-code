{
 "cells": [
  {
   "cell_type": "code",
   "execution_count": 98,
   "metadata": {
    "pycharm": {
     "is_executing": false
    }
   },
   "outputs": [],
   "source": [
    "import json\n",
    "import os\n",
    "from dataclasses import dataclass\n",
    "import matplotlib.pyplot as plt\n",
    "import tables\n",
    "from dataforge import Meta, Name\n",
    "from phd.thunderstorm.dwyer_feedback import get_bins_from_center, load_reversed_data, histogrammed_reverse_data, \\\n",
    "    histogrammed_reverse_data_v2, ReverseHistogramm, get_dwyer_line, FeedBack\n",
    "from phd.utils.convertor_tools import direction_to_degree\n",
    "from scipy.interpolate import UnivariateSpline\n",
    "import numpy as np\n",
    "import matplotlib as mpl\n",
    "import tables\n",
    "from phd.utils.path_tools import find_by_meta, get_attrs_values\n",
    "from scipy.optimize import curve_fit\n",
    "from tables import File, Group"
   ]
  },
  {
   "cell_type": "code",
   "execution_count": 2,
   "metadata": {
    "pycharm": {
     "is_executing": false
    }
   },
   "outputs": [],
   "source": [
    "path1 = \"/mnt/storage2/phd/data/thunderstorm/reversed_1/grid_1.hdf5\"\n",
    "path2 = \"/mnt/storage2/phd/data/thunderstorm/reversed_1/grid_2.hdf5\"\n",
    "fields = get_attrs_values(path1, \"values_gdml_fieldValueZ\")\n",
    "fields = sorted(list(fields))"
   ]
  },
  {
   "cell_type": "code",
   "execution_count": 3,
   "outputs": [],
   "source": [],
   "metadata": {
    "collapsed": false,
    "pycharm": {
     "name": "#%%\n",
     "is_executing": false
    }
   }
  },
  {
   "cell_type": "code",
   "execution_count": 21,
   "outputs": [],
   "source": [
    "def count_feedback(data, field):\n",
    "    reverseHist = histogrammed_reverse_data(path1, path2, field)\n",
    "    result = reverseHist.calculate_reverse_ET(data)\n",
    "    return result"
   ],
   "metadata": {
    "collapsed": false,
    "pycharm": {
     "name": "#%%\n",
     "is_executing": false
    }
   }
  },
  {
   "cell_type": "code",
   "execution_count": 5,
   "outputs": [],
   "source": [
    "path = \"/mnt/storage2/phd/data/thunderstorm/dwyer2003/test_dwayer2003.hdf5\"\n",
    "def get_data(path, target_node=\"gamma\", cellHeight = 400, field=5.2e-4):\n",
    "    paths = find_by_meta(path,target_node=target_node, values_gdml_cellHeight=cellHeight)\n",
    "    with tables.open_file(path) as h5file:\n",
    "        for i, path in enumerate(paths):\n",
    "            table = h5file.get_node(path)\n",
    "            data = table.read()\n",
    "            print(repr(table.attrs))\n",
    "            return data\n",
    "    "
   ],
   "metadata": {
    "collapsed": false,
    "pycharm": {
     "name": "#%%\n",
     "is_executing": false
    }
   }
  },
  {
   "cell_type": "code",
   "execution_count": 6,
   "outputs": [
    {
     "name": "stdout",
     "text": [
      "/sim0004/gamma._v_attrs (AttributeSet), 27 attributes:\n",
      "   [CLASS := 'TABLE',\n",
      "    FIELD_0_FILL := 0.0,\n",
      "    FIELD_0_NAME := 'energy',\n",
      "    FIELD_1_FILL := 0.0,\n",
      "    FIELD_1_NAME := 'theta',\n",
      "    FIELD_2_FILL := 0.0,\n",
      "    FIELD_2_NAME := 'radius',\n",
      "    FIELD_3_FILL := 0.0,\n",
      "    FIELD_3_NAME := 'z',\n",
      "    NROWS := 16970,\n",
      "    TITLE := '',\n",
      "    VERSION := '2.7',\n",
      "    path := 'sim0004',\n",
      "    text := '/df/project test\\n/df/gdml .././gdml/3.gdml\\n/thunderstorm/physics standard_opt_4\\n/thunderstorm/stacking dwyer2003\\n/thunderstorm/cut/energy 0.05\\n\\n/gps/particle e-\\n/gps/number 1\\n/gps/direction 0 0 -1\\n/gps/ene/mono 1.0 MeV\\n/gps/position 0. 0. 200 m\\n/run/beamOn 10\\n',\n",
      "    values_gdml_cellHeight := 400,\n",
      "    values_gdml_fieldValueZ := 0.00052,\n",
      "    values_gdml_height := 0,\n",
      "    values_macros_cut := 0.05,\n",
      "    values_macros_direction := '0 0 -1',\n",
      "    values_macros_energy := 1.0,\n",
      "    values_macros_number := 10,\n",
      "    values_macros_particle := 'e-',\n",
      "    values_macros_path := '.././gdml/3.gdml',\n",
      "    values_macros_physics := 'standard_opt_4',\n",
      "    values_macros_posZ := 200,\n",
      "    values_macros_stacking := 'dwyer2003',\n",
      "    values_time := 3815.2808174750007]\n"
     ],
     "output_type": "stream"
    }
   ],
   "source": [
    "data_gamma = get_data(path)"
   ],
   "metadata": {
    "collapsed": false,
    "pycharm": {
     "name": "#%%\n",
     "is_executing": false
    }
   }
  },
  {
   "cell_type": "code",
   "execution_count": 36,
   "outputs": [],
   "source": [
    "data = data_gamma\n",
    "field=5.5e-4\n",
    "reverseHist = histogrammed_reverse_data(path1, path2, field)\n",
    "result = reverseHist.calculate_reverse_ET(data)\n"
   ],
   "metadata": {
    "collapsed": false,
    "pycharm": {
     "name": "#%%\n",
     "is_executing": false
    }
   }
  },
  {
   "cell_type": "code",
   "execution_count": 37,
   "outputs": [
    {
     "data": {
      "text/plain": "<Figure size 1123.2x288 with 2 Axes>",
      "image/png": "[encoded data removed]"
     },
     "metadata": {
      "needs_background": "light"
     },
     "output_type": "display_data"
    }
   ],
   "source": [
    "plt.matshow(reverseHist.probability)\n",
    "plt.colorbar();"
   ],
   "metadata": {
    "collapsed": false,
    "pycharm": {
     "name": "#%%\n",
     "is_executing": false
    }
   }
  },
  {
   "cell_type": "code",
   "execution_count": 38,
   "outputs": [
    {
     "data": {
      "text/plain": "<Figure size 1123.2x288 with 2 Axes>",
      "image/png": "[encoded data removed]"
     },
     "metadata": {
      "needs_background": "light"
     },
     "output_type": "display_data"
    }
   ],
   "source": [
    "plt.matshow(result)\n",
    "plt.colorbar();"
   ],
   "metadata": {
    "collapsed": false,
    "pycharm": {
     "name": "#%%\n",
     "is_executing": false
    }
   }
  },
  {
   "cell_type": "code",
   "execution_count": 32,
   "outputs": [
    {
     "data": {
      "text/plain": "<matplotlib.colorbar.Colorbar at 0x7ff200a721d0>"
     },
     "metadata": {},
     "output_type": "execute_result",
     "execution_count": 32
    },
    {
     "data": {
      "text/plain": "<Figure size 1123.2x288 with 2 Axes>",
      "image/png": "[encoded data removed]"
     },
     "metadata": {
      "needs_background": "light"
     },
     "output_type": "display_data"
    }
   ],
   "source": [
    "hist , _, _ = np.histogram2d(np.rad2deg(data_gamma[\"theta\"]), data[\"energy\"], bins=(reverseHist.theta_bins, reverseHist.energy_bins))\n",
    "plt.matshow(hist)\n",
    "plt.colorbar()"
   ],
   "metadata": {
    "collapsed": false,
    "pycharm": {
     "name": "#%%\n",
     "is_executing": false
    }
   }
  },
  {
   "cell_type": "code",
   "execution_count": 39,
   "outputs": [
    {
     "data": {
      "text/plain": "425.071"
     },
     "metadata": {},
     "output_type": "execute_result",
     "execution_count": 39
    }
   ],
   "source": [
    "result.sum()"
   ],
   "metadata": {
    "collapsed": false,
    "pycharm": {
     "name": "#%%\n",
     "is_executing": false
    }
   }
  },
  {
   "cell_type": "markdown",
   "source": [
    "Разворот v2"
   ],
   "metadata": {
    "collapsed": false,
    "pycharm": {
     "name": "#%% md\n"
    }
   }
  },
  {
   "cell_type": "code",
   "execution_count": 12,
   "outputs": [],
   "source": [
    "path_reverse = \"/mnt/storage2/phd/data/thunderstorm/reversed_1/grid_v2.hdf5\""
   ],
   "metadata": {
    "collapsed": false,
    "pycharm": {
     "name": "#%%\n",
     "is_executing": false
    }
   }
  },
  {
   "cell_type": "code",
   "execution_count": 13,
   "outputs": [],
   "source": [
    "data = data_gamma\n",
    "field=5.5e-4\n",
    "reverseHist = histogrammed_reverse_data_v2(path_reverse, field)\n",
    "result = reverseHist.calculate_reverse_ET(data)\n"
   ],
   "metadata": {
    "collapsed": false,
    "pycharm": {
     "name": "#%%\n",
     "is_executing": false
    }
   }
  },
  {
   "cell_type": "code",
   "execution_count": 14,
   "outputs": [
    {
     "data": {
      "text/plain": "517.605"
     },
     "metadata": {},
     "output_type": "execute_result",
     "execution_count": 14
    }
   ],
   "source": [
    "result.sum()\n",
    "\n"
   ],
   "metadata": {
    "collapsed": false,
    "pycharm": {
     "name": "#%%\n",
     "is_executing": false
    }
   }
  },
  {
   "cell_type": "code",
   "execution_count": 15,
   "outputs": [
    {
     "data": {
      "text/plain": "<Figure size 1152x195.254 with 2 Axes>",
      "image/png": "[encoded data removed]"
     },
     "metadata": {
      "needs_background": "light"
     },
     "output_type": "display_data"
    }
   ],
   "source": [
    "plt.matshow(result)\n",
    "plt.colorbar();"
   ],
   "metadata": {
    "collapsed": false,
    "pycharm": {
     "name": "#%%\n",
     "is_executing": false
    }
   }
  },
  {
   "cell_type": "code",
   "execution_count": 67,
   "outputs": [
    {
     "name": "stdout",
     "text": [
      "[0.0005, 0.00055, 0.0006000000000000001, 0.0006500000000000001, 0.0007, 0.00075, 0.0008, 0.0008500000000000001, 0.0009000000000000001, 0.00095, 0.001]\n"
     ],
     "output_type": "stream"
    }
   ],
   "source": [
    "fields = get_attrs_values(path_reverse, \"values_gdml_fieldValueZ\")\n",
    "fields = sorted(list(fields))\n",
    "print(fields)"
   ],
   "metadata": {
    "collapsed": false,
    "pycharm": {
     "name": "#%%\n",
     "is_executing": false
    }
   }
  },
  {
   "cell_type": "code",
   "execution_count": 121,
   "outputs": [
    {
     "name": "stdout",
     "text": [
      "1\n",
      "7\n",
      "3\n",
      "8\n",
      "12\n",
      "3\n"
     ],
     "output_type": "stream"
    }
   ],
   "source": [
    "path = \"/mnt/storage2/phd/data/thunderstorm/dwyer2003/\"\n",
    "for i in range(6):\n",
    "    path_hdf5 = os.path.join(path, f\"diff_{i}.hdf5\")\n",
    "    with tables.open_file(path_hdf5) as h5file:\n",
    "        print(len(h5file.list_nodes(\"/\")))"
   ],
   "metadata": {
    "collapsed": false,
    "pycharm": {
     "name": "#%%\n",
     "is_executing": false
    }
   }
  },
  {
   "cell_type": "code",
   "execution_count": 163,
   "outputs": [
    {
     "name": "stdout",
     "text": [
      "0.0004 1000 0.0 nan 0.0 nan\n",
      "0.00045 700 111.0 10.0 336.0 5.0\n",
      "0.0005 500 51.0 14.0 138.0 9.0\n",
      "0.00055 400 33.0 3.0 15.0 5.0\n",
      "0.0006 300 30.0 3.0 58.0 2.0\n",
      "0.0007 200 7.0 2.0 8.0 2.0\n",
      "0.001 100 5.0 3.0 2.0 5.0\n"
     ],
     "output_type": "stream"
    },
    {
     "name": "stderr",
     "text": [
      "/home/zelenyy/miniconda3/envs/phd-code/lib/python3.7/site-packages/ipykernel_launcher.py:3: RuntimeWarning: invalid value encountered in double_scalars\n",
      "  This is separate from the ipykernel package so we can avoid doing imports until\n"
     ],
     "output_type": "stream"
    }
   ],
   "source": [
    "sorted_res = sorted(summary_result, key = lambda x: x.field)\n",
    "for item in sorted_res:\n",
    "    print(item.field, item.cell, round(item.gamma), round(100*item.gamma_err/item.gamma) , round(item.positron), round(100*item.positron_err/item.positron) )"
   ],
   "metadata": {
    "collapsed": false,
    "pycharm": {
     "name": "#%%\n",
     "is_executing": false
    }
   }
  },
  {
   "cell_type": "code",
   "execution_count": 167,
   "outputs": [],
   "source": [
    "\n",
    "path = \"/mnt/storage2/phd/data/thunderstorm/dwyer2003/\"\n",
    "over_3mev = []\n",
    "for i in range(6):\n",
    "    path_hdf5 = os.path.join(path, f\"diff_{i}.hdf5\")\n",
    "    with tables.open_file(path_hdf5) as h5file:\n",
    "        for group in h5file.root:\n",
    "            for name in [\"gamma\", \"positron\"]:\n",
    "                table = h5file.get_node(group, name)\n",
    "                number = table.attrs[\"values_macros_number\"]\n",
    "                height = table.attrs[\"values_gdml_height\"]\n",
    "                cell = table.attrs[\"values_gdml_cellHeight\"]\n",
    "                field = table.attrs[\"values_gdml_fieldValueZ\"] \n",
    "                data = table.read()\n",
    "                indx = data[\"energy\"] > 3\n",
    "                over_3mev.append([name, field, cell, indx.sum(), number, indx.sum()/number])"
   ],
   "metadata": {
    "collapsed": false,
    "pycharm": {
     "name": "#%%\n",
     "is_executing": false
    }
   }
  },
  {
   "cell_type": "code",
   "execution_count": 169,
   "outputs": [
    {
     "name": "stdout",
     "text": [
      "0.00055 1500.1333333333334\n",
      "0.0006 45.0\n",
      "0.00055 106.0\n",
      "0.0005 48.0\n",
      "0.00045 96.0\n",
      "0.0004 0.0\n",
      "0.0006 10.6\n",
      "0.0006 13.2\n",
      "0.0006 8.0\n",
      "0.0006 4.0\n",
      "0.0006 11.0\n",
      "0.0006 11.0\n"
     ],
     "output_type": "stream"
    }
   ],
   "source": [
    "for item in over_3mev:\n",
    "    if item[0] != \"gamma\": continue\n",
    "    if item[1] == 0.001 or item[1]==0.0007: continue\n",
    "    print(item[1], item[-1])\n"
   ],
   "metadata": {
    "collapsed": false,
    "pycharm": {
     "name": "#%%\n",
     "is_executing": false
    }
   }
  },
  {
   "cell_type": "code",
   "execution_count": 170,
   "outputs": [
    {
     "name": "stdout",
     "text": [
      "0.00055 72.46666666666667\n",
      "0.0006 30.0\n",
      "0.00055 67.0\n",
      "0.0005 25.0\n",
      "0.00045 72.0\n",
      "0.0004 0.0\n",
      "0.0006 10.3\n",
      "0.0006 12.0\n",
      "0.0006 8.2\n",
      "0.0006 2.0\n",
      "0.0006 8.2\n",
      "0.0006 5.0\n"
     ],
     "output_type": "stream"
    }
   ],
   "source": [
    "for item in over_3mev:\n",
    "    if item[0] != \"positron\": continue\n",
    "    if item[1] == 0.001 or item[1]==0.0007: continue\n",
    "    print(item[1], item[-1])\n",
    "\n"
   ],
   "metadata": {
    "collapsed": false,
    "pycharm": {
     "name": "#%%\n",
     "is_executing": false
    }
   }
  },
  {
   "cell_type": "code",
   "execution_count": null,
   "outputs": [],
   "source": [
    "\n"
   ],
   "metadata": {
    "collapsed": false,
    "pycharm": {
     "name": "#%%\n"
    }
   }
  }
 ],
 "metadata": {
  "kernelspec": {
   "display_name": "Python 3",
   "language": "python",
   "name": "python3"
  },
  "language_info": {
   "codemirror_mode": {
    "name": "ipython",
    "version": 3
   },
   "file_extension": ".py",
   "mimetype": "text/x-python",
   "name": "python",
   "nbconvert_exporter": "python",
   "pygments_lexer": "ipython3",
   "version": "3.7.6"
  }
 },
 "nbformat": 4,
 "nbformat_minor": 4
}