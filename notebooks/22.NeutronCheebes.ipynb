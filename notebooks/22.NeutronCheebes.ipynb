{
 "cells": [
  {
   "cell_type": "code",
   "execution_count": 1,
   "outputs": [],
   "source": [
    "from dataclasses import dataclass\n",
    "import numpy as np\n",
    "import matplotlib.pyplot as plt\n",
    "import tables\n",
    "import matplotlib as mpl"
   ],
   "metadata": {
    "collapsed": false,
    "pycharm": {
     "name": "#%%\n"
    }
   }
  },
  {
   "cell_type": "code",
   "execution_count": 12,
   "outputs": [],
   "source": [
    "path = \"/mnt/storage2/phd/data/thunderstorm/neutron/spacecraft.hdf5\"\n",
    "path = \"/mnt/storage2/phd/data/thunderstorm/neutron/spacecraft_opt4.hdf5\""
   ],
   "metadata": {
    "collapsed": false,
    "pycharm": {
     "name": "#%%\n"
    }
   }
  },
  {
   "cell_type": "code",
   "execution_count": 113,
   "outputs": [
    {
     "name": "stdout",
     "output_type": "stream",
     "text": [
      "/sim0000/stacking_simple._v_attrs (AttributeSet), 29 attributes:\n",
      "   [CLASS := 'TABLE',\n",
      "    FIELD_0_FILL := 0,\n",
      "    FIELD_0_NAME := 'event',\n",
      "    FIELD_1_FILL := 0,\n",
      "    FIELD_1_NAME := 'id',\n",
      "    FIELD_2_FILL := 0,\n",
      "    FIELD_2_NAME := 'parent_id',\n",
      "    FIELD_3_FILL := 0,\n",
      "    FIELD_3_NAME := 'particle',\n",
      "    FIELD_4_FILL := 0.0,\n",
      "    FIELD_4_NAME := 'energy',\n",
      "    FIELD_5_FILL := 0.0,\n",
      "    FIELD_5_NAME := 'theta',\n",
      "    FIELD_6_FILL := 0.0,\n",
      "    FIELD_6_NAME := 'radius',\n",
      "    FIELD_7_FILL := 0.0,\n",
      "    FIELD_7_NAME := 'z',\n",
      "    FIELD_8_FILL := 0.0,\n",
      "    FIELD_8_NAME := 'time',\n",
      "    NROWS := 175,\n",
      "    TITLE := '',\n",
      "    VERSION := '2.7',\n",
      "    path := 'sim0000',\n",
      "    text := '/npm/geometry/type gdml\\n/npm/geometry/gdml ../SpaceCraftFullAtmosphere.gdml\\n/npm/thunderstorm/physics FTFP_BERT_opt4\\n/npm/thunderstorm/minimal_energy 10.0 MeV\\n/npm/thunderstorm/stacking/electron false\\n/npm/thunderstorm/stacking/positron false\\n/npm/thunderstorm/stacking/gamma true\\n/npm/thunderstorm/stacking/save_gamma false\\n/npm/thunderstorm/stacking/save_electron false\\n/npm/thunderstorm/stacking/save_neutron true\\n/npm/thunderstorm/tracking/save_gamma true\\n/npm/thunderstorm/tracking/save_electron false\\n\\n/gps/particle gamma\\n/gps/position 0.0 0.0 15000.0 meter\\n/gps/direction 0 0 1\\n/gps/ene/mono 100 MeV\\n/run/beamOn 100000\\nexit\\n',\n",
      "    values_macros_energy := 100,\n",
      "    values_macros_number := 100000,\n",
      "    values_macros_path := '../SpaceCraftFullAtmosphere.gdml',\n",
      "    values_macros_physics := 'FTFP_BERT_opt4',\n",
      "    values_time := 30.415437815710902]\n"
     ]
    }
   ],
   "source": [
    "path = \"/mnt/storage2/phd/data/thunderstorm/neutron/spacecraft_opt4_h10km.hdf5\"\n",
    "with tables.open_file(path) as h5file:\n",
    "    result = []\n",
    "    for group in h5file.root:\n",
    "        table = h5file.get_node(group, \"stacking_simple\")\n",
    "        print(repr(table.attrs))\n",
    "        break"
   ],
   "metadata": {
    "collapsed": false,
    "pycharm": {
     "name": "#%%\n"
    }
   }
  },
  {
   "cell_type": "code",
   "execution_count": 44,
   "outputs": [],
   "source": [
    "def get_data(path):\n",
    "    with tables.open_file(path) as h5file:\n",
    "        result = []\n",
    "        for group in h5file.root:\n",
    "            table = h5file.get_node(group, \"stacking_simple\")\n",
    "            data = table.read()\n",
    "            result.append(data)\n",
    "        return np.hstack(result)"
   ],
   "metadata": {
    "collapsed": false,
    "pycharm": {
     "name": "#%%\n"
    }
   }
  },
  {
   "cell_type": "code",
   "execution_count": 44,
   "outputs": [],
   "source": [],
   "metadata": {
    "collapsed": false,
    "pycharm": {
     "name": "#%%\n"
    }
   }
  },
  {
   "cell_type": "code",
   "execution_count": 118,
   "outputs": [],
   "source": [
    "def plot_z_hist(data, name=\"air.png\", weight = 1):\n",
    "    indx = data[\"z\"] < 800000\n",
    "\n",
    "    plt.hist(data[\"z\"][indx]/1000, weights=weight*np.ones(np.sum(indx)))\n",
    "    plt.yscale(\"log\")\n",
    "    plt.xlabel(\"Высота, км\")\n",
    "    plt.ylabel(\"Число нейтронов\")\n",
    "    plt.tight_layout()\n",
    "    plt.savefig(name, fmt=\"png\", dpi=600, transparent=True)\n",
    "    print(\"Отношение рожденных в корабле к рожденным в атмосфере: {}\".format(np.sum(np.logical_not(indx))/np.sum(indx)))"
   ],
   "metadata": {
    "collapsed": false,
    "pycharm": {
     "name": "#%%\n"
    }
   }
  },
  {
   "cell_type": "code",
   "execution_count": 117,
   "outputs": [],
   "source": [
    "def plot_spacecraft(data, name=\"solid.png\", weight = 1):\n",
    "    indx = data[\"z\"] > 880000\n",
    "    data = data[\"z\"][indx]-880000\n",
    "    data = data[data < 500]\n",
    "    plt.hist(data, weights=weight*np.ones(data.size))\n",
    "    plt.xlabel(\"Толщина детектора, метры\")\n",
    "    plt.ylabel(\"Число нейтронов\")\n",
    "    plt.tight_layout()\n",
    "    plt.savefig(name, fmt=\"png\", dpi=600, transparent=True)"
   ],
   "metadata": {
    "collapsed": false,
    "pycharm": {
     "name": "#%%\n"
    }
   }
  },
  {
   "cell_type": "code",
   "execution_count": 96,
   "outputs": [],
   "source": [
    "def plot_ratio(data, thickness = 100, name=\"ratio.png\"):\n",
    "    indx = data[\"z\"] < 880000\n",
    "    n_air = np.sum(indx)\n",
    "    data = data[\"z\"][np.logical_not(indx)] - 880000\n",
    "    data = data[data <  thickness ]\n",
    "    bins=np.arange(0,  thickness + 1 , 1)\n",
    "    hist, _ = np.histogram(data, bins=bins)\n",
    "    data = np.cumsum(hist)\n",
    "    plt.grid(True)\n",
    "    plt.plot(bins[:-1], data/n_air)\n",
    "    plt.xlabel(\"Толщина детектора, метры\")\n",
    "    plt.ylabel(\"Отношение рожденных в детекторе\\n к рожденным в атмосфере\")\n",
    "    plt.tight_layout()\n",
    "    plt.savefig(name, fmt=\"png\", dpi=600, transparent=True)\n"
   ],
   "metadata": {
    "collapsed": false,
    "pycharm": {
     "name": "#%%\n"
    }
   }
  },
  {
   "cell_type": "code",
   "execution_count": 97,
   "outputs": [],
   "source": [
    "path = \"/mnt/storage2/phd/data/thunderstorm/neutron/spacecraft.hdf5\"\n",
    "data = get_data(path)"
   ],
   "metadata": {
    "collapsed": false,
    "pycharm": {
     "name": "#%%\n"
    }
   }
  },
  {
   "cell_type": "code",
   "execution_count": 98,
   "outputs": [
    {
     "name": "stdout",
     "output_type": "stream",
     "text": [
      "Отношение рожденных в корабле к рожденным в атмосфере: 29.294418604651163\n"
     ]
    },
    {
     "data": {
      "text/plain": "<Figure size 432x288 with 1 Axes>",
      "image/png": "[encoded data removed]"
     },
     "metadata": {
      "needs_background": "light"
     },
     "output_type": "display_data"
    }
   ],
   "source": [
    "plot_z_hist(data, weight=1e-5)"
   ],
   "metadata": {
    "collapsed": false,
    "pycharm": {
     "name": "#%%\n"
    }
   }
  },
  {
   "cell_type": "code",
   "execution_count": 99,
   "outputs": [
    {
     "data": {
      "text/plain": "<Figure size 432x288 with 1 Axes>",
      "image/png": "[encoded data removed]"
     },
     "metadata": {
      "needs_background": "light"
     },
     "output_type": "display_data"
    }
   ],
   "source": [
    "plot_spacecraft(data, weight=1e-5)"
   ],
   "metadata": {
    "collapsed": false,
    "pycharm": {
     "name": "#%%\n"
    }
   }
  },
  {
   "cell_type": "code",
   "execution_count": 100,
   "outputs": [
    {
     "data": {
      "text/plain": "<Figure size 432x288 with 1 Axes>",
      "image/png": "[encoded data removed]"
     },
     "metadata": {
      "needs_background": "light"
     },
     "output_type": "display_data"
    }
   ],
   "source": [
    "plot_ratio(data)"
   ],
   "metadata": {
    "collapsed": false,
    "pycharm": {
     "name": "#%%\n"
    }
   }
  },
  {
   "cell_type": "code",
   "execution_count": 112,
   "outputs": [
    {
     "data": {
      "text/plain": "(array([3.131e+03, 0.000e+00, 0.000e+00, 0.000e+00, 0.000e+00, 0.000e+00,\n        0.000e+00, 0.000e+00, 0.000e+00, 2.000e+00]),\n array([0.        , 0.00593557, 0.01187115, 0.01780672, 0.0237423 ,\n        0.02967787, 0.03561344, 0.04154902, 0.04748459, 0.05342016,\n        0.05935574]),\n <a list of 10 Patch objects>)"
     },
     "execution_count": 112,
     "metadata": {},
     "output_type": "execute_result"
    },
    {
     "data": {
      "text/plain": "<Figure size 432x288 with 1 Axes>",
      "image/png": "[encoded data removed]"
     },
     "metadata": {
      "needs_background": "light"
     },
     "output_type": "display_data"
    }
   ],
   "source": [
    "indx1 = data[\"z\"] < 880000\n",
    "indx2 = data[\"radius\"] < 0.25\n",
    "indx = np.logical_and(indx1, indx2)\n",
    "plt.hist(data[\"radius\"][indx])"
   ],
   "metadata": {
    "collapsed": false,
    "pycharm": {
     "name": "#%%\n"
    }
   }
  },
  {
   "cell_type": "code",
   "execution_count": 104,
   "outputs": [
    {
     "data": {
      "text/plain": "(array([1.25905e+05, 0.00000e+00, 2.00000e+00, 5.00000e+00, 1.00000e+00,\n        8.00000e+00, 1.30000e+01, 6.00000e+00, 9.00000e+00, 1.70000e+01]),\n array([  0.        ,  38.8564637 ,  77.7129274 , 116.5693911 ,\n        155.4258548 , 194.2823185 , 233.13878219, 271.99524589,\n        310.85170959, 349.70817329, 388.56463699]),\n <a list of 10 Patch objects>)"
     },
     "execution_count": 104,
     "metadata": {},
     "output_type": "execute_result"
    },
    {
     "data": {
      "text/plain": "<Figure size 432x288 with 1 Axes>",
      "image/png": "[encoded data removed]"
     },
     "metadata": {
      "needs_background": "light"
     },
     "output_type": "display_data"
    }
   ],
   "source": [
    "plt.hist(data[\"radius\"][np.logical_not(indx)]/1000)\n"
   ],
   "metadata": {
    "collapsed": false,
    "pycharm": {
     "name": "#%%\n"
    }
   }
  },
  {
   "cell_type": "code",
   "execution_count": 114,
   "outputs": [],
   "source": [
    "path = \"/mnt/storage2/phd/data/thunderstorm/neutron/spacecraft_opt4_h10km.hdf5\"\n",
    "data_opt4 = get_data(path)"
   ],
   "metadata": {
    "collapsed": false,
    "pycharm": {
     "name": "#%%\n"
    }
   }
  },
  {
   "cell_type": "code",
   "execution_count": 119,
   "outputs": [
    {
     "name": "stdout",
     "output_type": "stream",
     "text": [
      "Отношение рожденных в корабле к рожденным в атмосфере: 0.01381074168797954\n"
     ]
    },
    {
     "data": {
      "text/plain": "<Figure size 432x288 with 1 Axes>",
      "image/png": "[encoded data removed]"
     },
     "metadata": {
      "needs_background": "light"
     },
     "output_type": "display_data"
    }
   ],
   "source": [
    "plot_z_hist(data_opt4, weight=1e-6)"
   ],
   "metadata": {
    "collapsed": false,
    "pycharm": {
     "name": "#%%\n"
    }
   }
  },
  {
   "cell_type": "code",
   "execution_count": 120,
   "outputs": [
    {
     "data": {
      "text/plain": "<Figure size 432x288 with 1 Axes>",
      "image/png": "[encoded data removed]"
     },
     "metadata": {
      "needs_background": "light"
     },
     "output_type": "display_data"
    }
   ],
   "source": [
    "plot_spacecraft(data_opt4,  weight=1e-6)"
   ],
   "metadata": {
    "collapsed": false,
    "pycharm": {
     "name": "#%%\n"
    }
   }
  },
  {
   "cell_type": "code",
   "execution_count": null,
   "outputs": [],
   "source": [],
   "metadata": {
    "collapsed": false,
    "pycharm": {
     "name": "#%%\n"
    }
   }
  }
 ],
 "metadata": {
  "kernelspec": {
   "display_name": "Python 3",
   "language": "python",
   "name": "python3"
  },
  "language_info": {
   "codemirror_mode": {
    "name": "ipython",
    "version": 2
   },
   "file_extension": ".py",
   "mimetype": "text/x-python",
   "name": "python",
   "nbconvert_exporter": "python",
   "pygments_lexer": "ipython2",
   "version": "2.7.6"
  }
 },
 "nbformat": 4,
 "nbformat_minor": 0
}