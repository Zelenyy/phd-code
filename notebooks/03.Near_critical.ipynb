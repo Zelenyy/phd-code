{
 "cells": [
  {
   "cell_type": "code",
   "execution_count": 2,
   "metadata": {
    "collapsed": true,
    "pycharm": {
     "is_executing": false
    }
   },
   "outputs": [],
   "source": [
    "import numpy as np\n",
    "import matplotlib as mpl\n",
    "import matplotlib.pyplot as plt\n",
    "import os\n",
    "import tables\n",
    "from phd.utils.path_tools import find_by_meta\n",
    "from tabulate import tabulate\n",
    "from scipy.stats import describe"
   ]
  },
  {
   "cell_type": "code",
   "execution_count": 3,
   "outputs": [],
   "source": [
    "path = \"/mnt/storage2/phd/data/thunderstorm/near_critical/result_0.02_0.1.hdf5\""
   ],
   "metadata": {
    "collapsed": false,
    "pycharm": {
     "name": "#%%\n",
     "is_executing": false
    }
   }
  },
  {
   "cell_type": "code",
   "execution_count": 13,
   "outputs": [
    {
     "name": "stdout",
     "text": [
      "/mnt/storage2/phd/data/thunderstorm/near_critical/result_0.02_0.1.hdf5 (File) 'Auto convert from binary files'\n",
      "Last modif.: 'Fri Jan 31 11:31:41 2020'\n",
      "Object Tree: \n",
      "/ (RootGroup) 'Auto convert from binary files'\n",
      "/sim0001 (Group) 'Auto group from path sim0001'\n",
      "/sim0001/electron (Table(0,), fletcher32, shuffle, zlib(3)) ''\n",
      "/sim0001/gamma (Table(0,), fletcher32, shuffle, zlib(3)) ''\n",
      "/sim0001/meta (Array()) ''\n",
      "/sim0001/number (Table(1000,), fletcher32, shuffle, zlib(3)) ''\n",
      "/sim0001/positron (Table(0,), fletcher32, shuffle, zlib(3)) ''\n",
      "/sim0002 (Group) 'Auto group from path sim0002'\n",
      "/sim0002/electron (Table(0,), fletcher32, shuffle, zlib(3)) ''\n",
      "/sim0002/gamma (Table(0,), fletcher32, shuffle, zlib(3)) ''\n",
      "/sim0002/meta (Array()) ''\n",
      "/sim0002/number (Table(1000,), fletcher32, shuffle, zlib(3)) ''\n",
      "/sim0002/positron (Table(0,), fletcher32, shuffle, zlib(3)) ''\n",
      "/sim0003 (Group) 'Auto group from path sim0003'\n",
      "/sim0003/electron (Table(0,), fletcher32, shuffle, zlib(3)) ''\n",
      "/sim0003/gamma (Table(0,), fletcher32, shuffle, zlib(3)) ''\n",
      "/sim0003/meta (Array()) ''\n",
      "/sim0003/number (Table(1000,), fletcher32, shuffle, zlib(3)) ''\n",
      "/sim0003/positron (Table(0,), fletcher32, shuffle, zlib(3)) ''\n",
      "/sim0004 (Group) 'Auto group from path sim0004'\n",
      "/sim0004/electron (Table(14,), fletcher32, shuffle, zlib(3)) ''\n",
      "/sim0004/gamma (Table(0,), fletcher32, shuffle, zlib(3)) ''\n",
      "/sim0004/meta (Array()) ''\n",
      "/sim0004/number (Table(1000,), fletcher32, shuffle, zlib(3)) ''\n",
      "/sim0004/positron (Table(0,), fletcher32, shuffle, zlib(3)) ''\n",
      "/sim0005 (Group) 'Auto group from path sim0005'\n",
      "/sim0005/electron (Table(20,), fletcher32, shuffle, zlib(3)) ''\n",
      "/sim0005/gamma (Table(0,), fletcher32, shuffle, zlib(3)) ''\n",
      "/sim0005/meta (Array()) ''\n",
      "/sim0005/number (Table(1000,), fletcher32, shuffle, zlib(3)) ''\n",
      "/sim0005/positron (Table(0,), fletcher32, shuffle, zlib(3)) ''\n",
      "/sim0006 (Group) 'Auto group from path sim0006'\n",
      "/sim0006/electron (Table(38,), fletcher32, shuffle, zlib(3)) ''\n",
      "/sim0006/gamma (Table(0,), fletcher32, shuffle, zlib(3)) ''\n",
      "/sim0006/meta (Array()) ''\n",
      "/sim0006/number (Table(1000,), fletcher32, shuffle, zlib(3)) ''\n",
      "/sim0006/positron (Table(0,), fletcher32, shuffle, zlib(3)) ''\n",
      "/sim0007 (Group) 'Auto group from path sim0007'\n",
      "/sim0007/electron (Table(50,), fletcher32, shuffle, zlib(3)) ''\n",
      "/sim0007/gamma (Table(0,), fletcher32, shuffle, zlib(3)) ''\n",
      "/sim0007/meta (Array()) ''\n",
      "/sim0007/number (Table(1000,), fletcher32, shuffle, zlib(3)) ''\n",
      "/sim0007/positron (Table(0,), fletcher32, shuffle, zlib(3)) ''\n",
      "/sim0008 (Group) 'Auto group from path sim0008'\n",
      "/sim0008/electron (Table(68,), fletcher32, shuffle, zlib(3)) ''\n",
      "/sim0008/gamma (Table(1,), fletcher32, shuffle, zlib(3)) ''\n",
      "/sim0008/meta (Array()) ''\n",
      "/sim0008/number (Table(1000,), fletcher32, shuffle, zlib(3)) ''\n",
      "/sim0008/positron (Table(0,), fletcher32, shuffle, zlib(3)) ''\n",
      "/sim0009 (Group) 'Auto group from path sim0009'\n",
      "/sim0009/electron (Table(92,), fletcher32, shuffle, zlib(3)) ''\n",
      "/sim0009/gamma (Table(0,), fletcher32, shuffle, zlib(3)) ''\n",
      "/sim0009/meta (Array()) ''\n",
      "/sim0009/number (Table(1000,), fletcher32, shuffle, zlib(3)) ''\n",
      "/sim0009/positron (Table(0,), fletcher32, shuffle, zlib(3)) ''\n",
      "/sim0010 (Group) 'Auto group from path sim0010'\n",
      "/sim0010/electron (Table(121,), fletcher32, shuffle, zlib(3)) ''\n",
      "/sim0010/gamma (Table(1,), fletcher32, shuffle, zlib(3)) ''\n",
      "/sim0010/meta (Array()) ''\n",
      "/sim0010/number (Table(1000,), fletcher32, shuffle, zlib(3)) ''\n",
      "/sim0010/positron (Table(0,), fletcher32, shuffle, zlib(3)) ''\n",
      "/sim0011 (Group) 'Auto group from path sim0011'\n",
      "/sim0011/electron (Table(160,), fletcher32, shuffle, zlib(3)) ''\n",
      "/sim0011/gamma (Table(2,), fletcher32, shuffle, zlib(3)) ''\n",
      "/sim0011/meta (Array()) ''\n",
      "/sim0011/number (Table(1000,), fletcher32, shuffle, zlib(3)) ''\n",
      "/sim0011/positron (Table(0,), fletcher32, shuffle, zlib(3)) ''\n",
      "/sim0012 (Group) 'Auto group from path sim0012'\n",
      "/sim0012/electron (Table(546,), fletcher32, shuffle, zlib(3)) ''\n",
      "/sim0012/gamma (Table(15,), fletcher32, shuffle, zlib(3)) ''\n",
      "/sim0012/meta (Array()) ''\n",
      "/sim0012/number (Table(1000,), fletcher32, shuffle, zlib(3)) ''\n",
      "/sim0012/positron (Table(0,), fletcher32, shuffle, zlib(3)) ''\n",
      "/sim0013 (Group) 'Auto group from path sim0013'\n",
      "/sim0013/electron (Table(262,), fletcher32, shuffle, zlib(3)) ''\n",
      "/sim0013/gamma (Table(1,), fletcher32, shuffle, zlib(3)) ''\n",
      "/sim0013/meta (Array()) ''\n",
      "/sim0013/number (Table(1000,), fletcher32, shuffle, zlib(3)) ''\n",
      "/sim0013/positron (Table(0,), fletcher32, shuffle, zlib(3)) ''\n",
      "/sim0014 (Group) 'Auto group from path sim0014'\n",
      "/sim0014/electron (Table(3198,), fletcher32, shuffle, zlib(3)) ''\n",
      "/sim0014/gamma (Table(154,), fletcher32, shuffle, zlib(3)) ''\n",
      "/sim0014/meta (Array()) ''\n",
      "/sim0014/number (Table(1000,), fletcher32, shuffle, zlib(3)) ''\n",
      "/sim0014/positron (Table(0,), fletcher32, shuffle, zlib(3)) ''\n",
      "/sim0015 (Group) 'Auto group from path sim0015'\n",
      "/sim0015/electron (Table(4225,), fletcher32, shuffle, zlib(3)) ''\n",
      "/sim0015/gamma (Table(195,), fletcher32, shuffle, zlib(3)) ''\n",
      "/sim0015/meta (Array()) ''\n",
      "/sim0015/number (Table(1000,), fletcher32, shuffle, zlib(3)) ''\n",
      "/sim0015/positron (Table(0,), fletcher32, shuffle, zlib(3)) ''\n",
      "/sim0016 (Group) 'Auto group from path sim0016'\n",
      "/sim0016/electron (Table(14502,), fletcher32, shuffle, zlib(3)) ''\n",
      "/sim0016/gamma (Table(790,), fletcher32, shuffle, zlib(3)) ''\n",
      "/sim0016/meta (Array()) ''\n",
      "/sim0016/number (Table(1000,), fletcher32, shuffle, zlib(3)) ''\n",
      "/sim0016/positron (Table(0,), fletcher32, shuffle, zlib(3)) ''\n",
      "/sim0017 (Group) 'Auto group from path sim0017'\n",
      "/sim0017/electron (Table(21193,), fletcher32, shuffle, zlib(3)) ''\n",
      "/sim0017/gamma (Table(1144,), fletcher32, shuffle, zlib(3)) ''\n",
      "/sim0017/meta (Array()) ''\n",
      "/sim0017/number (Table(1000,), fletcher32, shuffle, zlib(3)) ''\n",
      "/sim0017/positron (Table(0,), fletcher32, shuffle, zlib(3)) ''\n",
      "\n"
     ],
     "output_type": "stream"
    }
   ],
   "source": [
    "with tables.open_file(path) as h5file:\n",
    "    print(h5file)"
   ],
   "metadata": {
    "collapsed": false,
    "pycharm": {
     "name": "#%%\n",
     "is_executing": false
    }
   }
  },
  {
   "cell_type": "code",
   "execution_count": 10,
   "outputs": [],
   "source": [
    "def near_critical(path, target_node=\"electron\"):\n",
    "    print(f\"Secondary particle: {target_node}\")\n",
    "    # paths = find_by_meta(path,target_node=target_node, values_gdml_fieldValueZ=field)\n",
    "    energy = []\n",
    "    number = []\n",
    "    # plt.figure(figsize=(10,10))\n",
    "    first = True\n",
    "    with tables.open_file(path) as h5file:\n",
    "        for i, group in enumerate(h5file.root):\n",
    "            table = h5file.get_node(group, target_node)\n",
    "            if first:\n",
    "                first = False\n",
    "                print(\"Primry particle: {}\".format(table.attrs[\"values_macros_particle\"]))\n",
    "                print(\"Electric field: {}\".format(table.attrs[\"values_gdml_fieldValueZ\"]))\n",
    "            \n",
    "            energy.append(table.attrs[\"values_macros_energy\"])\n",
    "            number.append(table.nrows/table.attrs[\"values_macros_number\"])\n",
    "    plt.plot(energy, number, \"*\")\n",
    "    # plt.legend();\n"
   ],
   "metadata": {
    "collapsed": false,
    "pycharm": {
     "name": "#%%\n",
     "is_executing": false
    }
   }
  },
  {
   "cell_type": "markdown",
   "source": [
    "## Поведение вблизи критической энергии\n"
   ],
   "metadata": {
    "collapsed": false,
    "pycharm": {
     "name": "#%% md\n"
    }
   }
  },
  {
   "cell_type": "code",
   "execution_count": 11,
   "outputs": [
    {
     "name": "stdout",
     "text": [
      "Secondary particle: electron\n",
      "Primry particle: e-\n",
      "Electric field: 0.0007\n"
     ],
     "output_type": "stream"
    },
    {
     "data": {
      "text/plain": "<Figure size 432x288 with 1 Axes>",
      "image/png": "[encoded data removed]"
     },
     "metadata": {
      "needs_background": "light"
     },
     "output_type": "display_data"
    }
   ],
   "source": [
    "# 0.05 MeV critical energy by tables\n",
    "path = \"/mnt/storage2/phd/data/thunderstorm/near_critical/result_0.02_0.1.hdf5\"\n",
    "near_critical(path)"
   ],
   "metadata": {
    "collapsed": false,
    "pycharm": {
     "name": "#%%\n",
     "is_executing": false
    }
   }
  },
  {
   "cell_type": "code",
   "execution_count": 40,
   "outputs": [
    {
     "name": "stdout",
     "text": [
      "Secondary particle: gamma\n",
      "Primry particle: e-\n",
      "Electric field: 0.0007\n"
     ],
     "output_type": "stream"
    },
    {
     "data": {
      "text/plain": "<Figure size 432x288 with 1 Axes>",
      "image/png": "[encoded data removed]"
     },
     "metadata": {
      "needs_background": "light"
     },
     "output_type": "display_data"
    }
   ],
   "source": [
    "path = \"/mnt/storage2/phd/data/thunderstorm/near_critical/result_0.02_0.1.hdf5\"\n",
    "near_critical(path, target_node=\"gamma\")"
   ],
   "metadata": {
    "collapsed": false,
    "pycharm": {
     "name": "#%%\n",
     "is_executing": false
    }
   }
  },
  {
   "cell_type": "code",
   "execution_count": 23,
   "outputs": [],
   "source": [
    "def plot_secondary(path,group=\"/sim0001\", target_node=\"electron\"):\n",
    "    plt.figure(figsize=(10,5))\n",
    "    with tables.open_file(path) as h5file:\n",
    "        table = h5file.get_node(group, target_node)\n",
    "        data = table.read()\n",
    "        plt.subplot(121)\n",
    "        plt.hist(data[\"z\"])\n",
    "        plt.subplot(122)\n",
    "        plt.hist(data[\"energy\"][data[\"energy\"]<1])"
   ],
   "metadata": {
    "collapsed": false,
    "pycharm": {
     "name": "#%%\n",
     "is_executing": false
    }
   }
  },
  {
   "cell_type": "code",
   "execution_count": 24,
   "outputs": [
    {
     "data": {
      "text/plain": "<Figure size 720x360 with 2 Axes>",
      "image/png": "[encoded data removed]"
     },
     "metadata": {
      "needs_background": "light"
     },
     "output_type": "display_data"
    }
   ],
   "source": [
    "plot_secondary(path, \"/sim0017\")"
   ],
   "metadata": {
    "collapsed": false,
    "pycharm": {
     "name": "#%%\n",
     "is_executing": false
    }
   }
  },
  {
   "cell_type": "code",
   "execution_count": 25,
   "outputs": [
    {
     "data": {
      "text/plain": "<Figure size 720x360 with 2 Axes>",
      "image/png": "[encoded data removed]"
     },
     "metadata": {
      "needs_background": "light"
     },
     "output_type": "display_data"
    }
   ],
   "source": [
    "plot_secondary(path, \"/sim0014\")"
   ],
   "metadata": {
    "collapsed": false,
    "pycharm": {
     "name": "#%%\n",
     "is_executing": false
    }
   }
  },
  {
   "cell_type": "code",
   "execution_count": 26,
   "outputs": [
    {
     "data": {
      "text/plain": "<Figure size 720x360 with 2 Axes>",
      "image/png": "[encoded data removed]"
     },
     "metadata": {
      "needs_background": "light"
     },
     "output_type": "display_data"
    }
   ],
   "source": [
    "plot_secondary(path, \"/sim0013\")\n",
    "\n"
   ],
   "metadata": {
    "collapsed": false,
    "pycharm": {
     "name": "#%%\n",
     "is_executing": false
    }
   }
  },
  {
   "cell_type": "markdown",
   "source": [
    "# Зависимость числа вторичных от энергии\n"
   ],
   "metadata": {
    "collapsed": false,
    "pycharm": {
     "name": "#%% md\n"
    }
   }
  },
  {
   "cell_type": "code",
   "execution_count": 31,
   "outputs": [],
   "source": [
    "path = \"/mnt/storage2/phd/data/thunderstorm/near_critical/result_0.1_2.hdf5\""
   ],
   "metadata": {
    "collapsed": false,
    "pycharm": {
     "name": "#%%\n",
     "is_executing": false
    }
   }
  },
  {
   "cell_type": "code",
   "execution_count": 32,
   "outputs": [
    {
     "name": "stdout",
     "text": [
      "Secondary particle: electron\n",
      "Primry particle: e-\n",
      "Electric field: 0.0007\n"
     ],
     "output_type": "stream"
    },
    {
     "data": {
      "text/plain": "<Figure size 432x288 with 1 Axes>",
      "image/png": "[encoded data removed]"
     },
     "metadata": {
      "needs_background": "light"
     },
     "output_type": "display_data"
    }
   ],
   "source": [
    "path = \"/mnt/storage2/phd/data/thunderstorm/near_critical/result_0.1_2.hdf5\"\n",
    "near_critical(path)\n"
   ],
   "metadata": {
    "collapsed": false,
    "pycharm": {
     "name": "#%%\n",
     "is_executing": false
    }
   }
  },
  {
   "cell_type": "code",
   "execution_count": 39,
   "outputs": [
    {
     "name": "stdout",
     "text": [
      "Secondary particle: gamma\n",
      "Primry particle: e-\n",
      "Electric field: 0.0007\n"
     ],
     "output_type": "stream"
    },
    {
     "data": {
      "text/plain": "<Figure size 432x288 with 1 Axes>",
      "image/png": "[encoded data removed]"
     },
     "metadata": {
      "needs_background": "light"
     },
     "output_type": "display_data"
    }
   ],
   "source": [
    "path = \"/mnt/storage2/phd/data/thunderstorm/near_critical/result_0.1_2.hdf5\"\n",
    "near_critical(path, target_node=\"gamma\")"
   ],
   "metadata": {
    "collapsed": false,
    "pycharm": {
     "name": "#%%\n",
     "is_executing": false
    }
   }
  },
  {
   "cell_type": "code",
   "execution_count": 36,
   "outputs": [],
   "source": [
    "path = \"/mnt/storage2/phd/data/thunderstorm/near_critical/result_2_100.hdf5\""
   ],
   "metadata": {
    "collapsed": false,
    "pycharm": {
     "name": "#%%\n",
     "is_executing": false
    }
   }
  },
  {
   "cell_type": "code",
   "source": [
    "near_critical(path)"
   ],
   "metadata": {
    "collapsed": false,
    "pycharm": {
     "name": "#%% \n",
     "is_executing": false
    }
   },
   "execution_count": 37,
   "outputs": [
    {
     "name": "stdout",
     "text": [
      "Secondary particle: electron\n",
      "Primry particle: e-\n",
      "Electric field: 0.0007\n"
     ],
     "output_type": "stream"
    },
    {
     "data": {
      "text/plain": "<Figure size 432x288 with 1 Axes>",
      "image/png": "[encoded data removed]"
     },
     "metadata": {
      "needs_background": "light"
     },
     "output_type": "display_data"
    }
   ]
  },
  {
   "cell_type": "code",
   "execution_count": 38,
   "outputs": [
    {
     "name": "stdout",
     "text": [
      "Secondary particle: gamma\n",
      "Primry particle: e-\n",
      "Electric field: 0.0007\n"
     ],
     "output_type": "stream"
    },
    {
     "data": {
      "text/plain": "<Figure size 432x288 with 1 Axes>",
      "image/png": "[encoded data removed]"
     },
     "metadata": {
      "needs_background": "light"
     },
     "output_type": "display_data"
    }
   ],
   "source": [
    "near_critical(path, target_node=\"gamma\")"
   ],
   "metadata": {
    "collapsed": false,
    "pycharm": {
     "name": "#%%\n",
     "is_executing": false
    }
   }
  },
  {
   "cell_type": "code",
   "execution_count": null,
   "outputs": [],
   "source": [
    "\n"
   ],
   "metadata": {
    "collapsed": false,
    "pycharm": {
     "name": "#%%\n"
    }
   }
  }
 ],
 "metadata": {
  "kernelspec": {
   "display_name": "Python 3",
   "language": "python",
   "name": "python3"
  },
  "language_info": {
   "codemirror_mode": {
    "name": "ipython",
    "version": 2
   },
   "file_extension": ".py",
   "mimetype": "text/x-python",
   "name": "python",
   "nbconvert_exporter": "python",
   "pygments_lexer": "ipython2",
   "version": "2.7.6"
  },
  "pycharm": {
   "stem_cell": {
    "cell_type": "raw",
    "source": [],
    "metadata": {
     "collapsed": false
    }
   }
  }
 },
 "nbformat": 4,
 "nbformat_minor": 0
}