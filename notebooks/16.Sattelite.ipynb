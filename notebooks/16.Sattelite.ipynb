{
 "cells": [
  {
   "cell_type": "code",
   "execution_count": 13,
   "metadata": {
    "collapsed": true,
    "pycharm": {
     "is_executing": false
    }
   },
   "outputs": [],
   "source": [
    "import sys\n",
    "import numpy as np\n",
    "import tables\n",
    "import matplotlib.pyplot as plt\n",
    "from scipy.interpolate import LinearNDInterpolator\n"
   ]
  },
  {
   "cell_type": "code",
   "execution_count": 2,
   "outputs": [],
   "source": [
    "from scipy.stats import norm\n",
    "path = \"/home/zelenyy/data/satellite/MCMC_1_69/mcmc_1_69.hdf5\""
   ],
   "metadata": {
    "collapsed": false,
    "pycharm": {
     "name": "#%%\n",
     "is_executing": false
    }
   }
  },
  {
   "cell_type": "code",
   "execution_count": 8,
   "outputs": [
    {
     "name": "stdout",
     "text": [
      "/sim2100/deposit._v_attrs (AttributeSet), 21 attributes:\n",
      "   [CLASS := 'TABLE',\n",
      "    FIELD_0_FILL := 0.0,\n",
      "    FIELD_0_NAME := 'event',\n",
      "    NROWS := 10000,\n",
      "    TITLE := 'Deposit in detector cell',\n",
      "    VERSION := '2.7',\n",
      "    path := 'sim2100',\n",
      "    text := '/df/project test\\n/df/gdml ../../satellite.gdml\\n/satellite/output file\\n/satellite/detector single\\n\\n/gps/particle proton\\n/gps/number 1\\n/gps/direction -0.49999999999999994 0.0 -0.8660254037844387\\n/gps/ene/mono 30.0 MeV\\n/gps/position 0.07499999999999998 0. 0.22990381056766582 m\\n/run/beamOn 10000\\n',\n",
      "    values_macros_dirX := -0.49999999999999994,\n",
      "    values_macros_dirZ := -0.8660254037844387,\n",
      "    values_macros_energy := 30.0,\n",
      "    values_macros_mode := 'single',\n",
      "    values_macros_number := 10000,\n",
      "    values_macros_particle := 'proton',\n",
      "    values_macros_posX := 0.07499999999999998,\n",
      "    values_macros_posZ := 0.22990381056766582,\n",
      "    values_macros_radius := 0.15,\n",
      "    values_macros_shift := 0,\n",
      "    values_macros_theta := 30.0,\n",
      "    values_macros_theta_unit := 'degree',\n",
      "    values_time := 4.799142724999911]\n"
     ],
     "output_type": "stream"
    }
   ],
   "source": [
    "with tables.open_file(path) as h5file:\n",
    "    table = h5file.get_node(\"/sim2100/deposit\")\n",
    "    print(repr(table.attrs))\n",
    "    data = table.read()\n",
    "    "
   ],
   "metadata": {
    "collapsed": false,
    "pycharm": {
     "name": "#%%\n",
     "is_executing": false
    }
   }
  },
  {
   "cell_type": "code",
   "execution_count": 9,
   "outputs": [
    {
     "data": {
      "text/plain": "dtype([('event', '<f4', (100,))])"
     },
     "metadata": {},
     "output_type": "execute_result",
     "execution_count": 9
    }
   ],
   "source": [
    "data.dtype"
   ],
   "metadata": {
    "collapsed": false,
    "pycharm": {
     "name": "#%%\n",
     "is_executing": false
    }
   }
  },
  {
   "cell_type": "code",
   "execution_count": 10,
   "outputs": [
    {
     "data": {
      "text/plain": "<matplotlib.collections.PathCollection at 0x7fd8d679af10>"
     },
     "metadata": {},
     "output_type": "execute_result",
     "execution_count": 10
    },
    {
     "data": {
      "text/plain": "<Figure size 432x288 with 1 Axes>",
      "image/png": "[encoded data removed]"
     },
     "metadata": {
      "needs_background": "light"
     },
     "output_type": "display_data"
    }
   ],
   "source": [
    "plt.scatter(data[\"event\"][:, 0], data[\"event\"][:,1])"
   ],
   "metadata": {
    "collapsed": false,
    "pycharm": {
     "name": "#%%\n",
     "is_executing": false
    }
   }
  },
  {
   "cell_type": "code",
   "execution_count": 11,
   "outputs": [
    {
     "name": "stderr",
     "text": [
      "/home/zelenyy/miniconda3/envs/phd-code/lib/python3.7/site-packages/ipykernel_launcher.py:1: FutureWarning: elementwise == comparison failed and returning scalar instead; this will raise an error or perform elementwise comparison in the future.\n",
      "  \"\"\"Entry point for launching an IPython kernel.\n"
     ],
     "output_type": "stream"
    },
    {
     "data": {
      "text/plain": "False"
     },
     "metadata": {},
     "output_type": "execute_result",
     "execution_count": 11
    }
   ],
   "source": [
    "np.all(data[0]==0.0)\n"
   ],
   "metadata": {
    "collapsed": false,
    "pycharm": {
     "name": "#%%\n",
     "is_executing": false
    }
   }
  },
  {
   "cell_type": "code",
   "execution_count": 12,
   "outputs": [
    {
     "data": {
      "text/plain": "[<matplotlib.lines.Line2D at 0x7fd8d661e490>]"
     },
     "metadata": {},
     "output_type": "execute_result",
     "execution_count": 12
    },
    {
     "data": {
      "text/plain": "<Figure size 432x288 with 1 Axes>",
      "image/png": "[encoded data removed]"
     },
     "metadata": {
      "needs_background": "light"
     },
     "output_type": "display_data"
    }
   ],
   "source": [
    "plt.plot(data[\"event\"][0])"
   ],
   "metadata": {
    "collapsed": false,
    "pycharm": {
     "name": "#%%\n",
     "is_executing": false
    }
   }
  },
  {
   "cell_type": "code",
   "execution_count": 4,
   "outputs": [],
   "source": [
    "# path = \"/mnt/storage2/phd/data/satellite/Anthracene/mean_anthracene.hdf5\"\n",
    "path = \"/mnt/storage2/phd/data/satellite/polistyrene/proton.hdf5\"\n"
   ],
   "metadata": {
    "collapsed": false,
    "pycharm": {
     "name": "#%%\n",
     "is_executing": false
    }
   }
  },
  {
   "cell_type": "code",
   "execution_count": 27,
   "outputs": [],
   "source": [
    "with tables.open_file(path) as h5file:\n",
    "    data = h5file.get_node(\"/\", \"deposit\").read()"
   ],
   "metadata": {
    "collapsed": false,
    "pycharm": {
     "name": "#%%\n",
     "is_executing": false
    }
   }
  },
  {
   "cell_type": "code",
   "execution_count": 4,
   "outputs": [
    {
     "data": {
      "text/plain": "<matplotlib.collections.PathCollection at 0x7ff5e16789d0>"
     },
     "metadata": {},
     "output_type": "execute_result",
     "execution_count": 4
    },
    {
     "data": {
      "text/plain": "<Figure size 432x288 with 1 Axes>",
      "image/png": "[encoded data removed]"
     },
     "metadata": {
      "needs_background": "light"
     },
     "output_type": "display_data"
    }
   ],
   "source": [
    "indx = data[\"shift\"] == 0.0\n",
    "plt.scatter(data[\"mean\"][indx][0], data[\"mean\"][indx][10])"
   ],
   "metadata": {
    "collapsed": false,
    "pycharm": {
     "name": "#%%\n",
     "is_executing": false
    }
   }
  },
  {
   "cell_type": "code",
   "execution_count": 7,
   "outputs": [
    {
     "data": {
      "text/plain": "<matplotlib.collections.PathCollection at 0x7f8a017a3a10>"
     },
     "metadata": {},
     "output_type": "execute_result",
     "execution_count": 7
    },
    {
     "data": {
      "text/plain": "<Figure size 432x288 with 1 Axes>",
      "image/png": "[encoded data removed]"
     },
     "metadata": {
      "needs_background": "light"
     },
     "output_type": "display_data"
    }
   ],
   "source": [
    "plt.scatter(data[\"energy\"][indx], data[\"theta\"][indx])"
   ],
   "metadata": {
    "collapsed": false,
    "pycharm": {
     "name": "#%%\n",
     "is_executing": false
    }
   }
  },
  {
   "cell_type": "code",
   "execution_count": 14,
   "outputs": [
    {
     "name": "stderr",
     "text": [
      "/home/zelenyy/miniconda3/envs/phd-code/lib/python3.7/site-packages/ipykernel_launcher.py:6: RuntimeWarning: invalid value encountered in sqrt\n",
      "  \n"
     ],
     "output_type": "stream"
    }
   ],
   "source": [
    "points = np.zeros(shape=(data.size, 3))\n",
    "points[:, 0] = data[\"energy\"][:]\n",
    "points[:, 1] = data[\"theta\"][:]\n",
    "points[:, 2] = data[\"shift\"][:]\n",
    "values = data[\"mean\"][:, 0]\n",
    "values_std = np.sqrt(data[\"variance\"][:, 0])"
   ],
   "metadata": {
    "collapsed": false,
    "pycharm": {
     "name": "#%%\n",
     "is_executing": false
    }
   }
  },
  {
   "cell_type": "code",
   "execution_count": 15,
   "outputs": [
    {
     "name": "stdout",
     "text": [
      "CPU times: user 4min 18s, sys: 437 ms, total: 4min 19s\n",
      "Wall time: 4min 19s\n"
     ],
     "output_type": "stream"
    }
   ],
   "source": [
    "%%time\n",
    "interpolator = LinearNDInterpolator(points, values)\n",
    "interpolator_std = LinearNDInterpolator(points, values_std)"
   ],
   "metadata": {
    "collapsed": false,
    "pycharm": {
     "name": "#%%\n",
     "is_executing": false
    }
   }
  },
  {
   "cell_type": "code",
   "execution_count": 10,
   "outputs": [],
   "source": [
    "indx = np.logical_and(data[\"shift\"] == 0.0, data[\"theta\"] == 0.0)\n",
    "test_points = data[indx][\"energy\"]\n",
    "\n"
   ],
   "metadata": {
    "collapsed": false,
    "pycharm": {
     "name": "#%%\n",
     "is_executing": false
    }
   }
  },
  {
   "cell_type": "code",
   "execution_count": 17,
   "outputs": [
    {
     "data": {
      "text/plain": "[<matplotlib.lines.Line2D at 0x7ff5c9b12510>]"
     },
     "metadata": {},
     "output_type": "execute_result",
     "execution_count": 17
    },
    {
     "data": {
      "text/plain": "<Figure size 432x288 with 1 Axes>",
      "image/png": "[encoded data removed]"
     },
     "metadata": {
      "needs_background": "light"
     },
     "output_type": "display_data"
    }
   ],
   "source": [
    "x = np.zeros(shape=(test_points.size, 3))\n",
    "x[:, 0 ] = test_points\n",
    "plt.plot(test_points, interpolator(x))"
   ],
   "metadata": {
    "collapsed": false,
    "pycharm": {
     "name": "#%%\n",
     "is_executing": false
    }
   }
  },
  {
   "cell_type": "code",
   "execution_count": 31,
   "outputs": [
    {
     "data": {
      "text/plain": "<ErrorbarContainer object of 3 artists>"
     },
     "metadata": {},
     "output_type": "execute_result",
     "execution_count": 31
    },
    {
     "data": {
      "text/plain": "<Figure size 432x288 with 1 Axes>",
      "image/png": "[encoded data removed]"
     },
     "metadata": {
      "needs_background": "light"
     },
     "output_type": "display_data"
    }
   ],
   "source": [
    "plt.errorbar(test_points, interpolator(x), yerr=interpolator_std(x))\n",
    "plt.errorbar(test_points, values[indx], yerr=values_std[indx], alpha = 0.5)"
   ],
   "metadata": {
    "collapsed": false,
    "pycharm": {
     "name": "#%%\n",
     "is_executing": false
    }
   }
  },
  {
   "cell_type": "code",
   "execution_count": 12,
   "outputs": [],
   "source": [
    "class Likelihood:\n",
    "    def __init__(self, interpolators_mean : LinearNDInterpolator, interpolators_std : LinearNDInterpolator):\n",
    "        self.mean_list = interpolators_mean\n",
    "        self.std_list  = interpolators_std\n",
    "\n",
    "    def __call__(self, event: np.ndarray):\n",
    "        sum_ = 0\n",
    "        for i, temp in enumerate(zip(self.mean_list, self.std_list)):\n",
    "            mean, std = temp\n",
    "            mean = mean(event[i])\n",
    "            std = std(event[i])\n",
    "            sum_ += norm.logpdf(event[0], loc=mean, scale=std)\n",
    "        return sum_"
   ],
   "metadata": {
    "collapsed": false,
    "pycharm": {
     "name": "#%%\n",
     "is_executing": false
    }
   }
  },
  {
   "cell_type": "code",
   "execution_count": 58,
   "outputs": [],
   "source": [],
   "metadata": {
    "collapsed": false,
    "pycharm": {
     "name": "#%%\n",
     "is_executing": false
    }
   }
  },
  {
   "cell_type": "code",
   "execution_count": 59,
   "outputs": [],
   "source": [
    "energy_norm, energy = Normilizer.get_with_array(data[\"energy\"][:])   \n",
    "theta_norm, theta = Normilizer.get_with_array(data[\"theta\"][:])   \n",
    "shift_norm, shift = Normilizer.get_with_array(data[\"shift\"][:])"
   ],
   "metadata": {
    "collapsed": false,
    "pycharm": {
     "name": "#%%\n",
     "is_executing": false
    }
   }
  },
  {
   "cell_type": "code",
   "execution_count": 60,
   "outputs": [],
   "source": [
    "indx_energy = energy_norm.index_of_non_normed(data[\"energy\"][:])\n",
    "indx_theta = theta_norm.index_of_non_normed(data[\"theta\"][:])\n",
    "indx_shift = shift_norm.index_of_non_normed(data[\"shift\"][:])"
   ],
   "metadata": {
    "collapsed": false,
    "pycharm": {
     "name": "#%%\n",
     "is_executing": false
    }
   }
  },
  {
   "cell_type": "code",
   "execution_count": 61,
   "outputs": [],
   "source": [
    "data_mesh = np.zeros(shape=(energy.size, theta.size, shift.size), dtype=\"d\")"
   ],
   "metadata": {
    "collapsed": false,
    "pycharm": {
     "name": "#%%\n",
     "is_executing": false
    }
   }
  },
  {
   "cell_type": "code",
   "execution_count": 62,
   "outputs": [],
   "source": [
    "for i, item in enumerate(data[\"mean\"]):\n",
    "    data_mesh[indx_energy[i], indx_theta[i], indx_shift[i]] = item[0]\n",
    "\n"
   ],
   "metadata": {
    "collapsed": false,
    "pycharm": {
     "name": "#%%\n",
     "is_executing": false
    }
   }
  },
  {
   "cell_type": "code",
   "execution_count": 66,
   "outputs": [
    {
     "data": {
      "text/plain": "[<matplotlib.lines.Line2D at 0x7fbd499f8c10>]"
     },
     "metadata": {},
     "output_type": "execute_result",
     "execution_count": 66
    },
    {
     "data": {
      "text/plain": "<Figure size 432x288 with 1 Axes>",
      "image/png": "[encoded data removed]"
     },
     "metadata": {
      "needs_background": "light"
     },
     "output_type": "display_data"
    }
   ],
   "source": [
    "plt.plot(data_mesh[:, 0,0])"
   ],
   "metadata": {
    "collapsed": false,
    "pycharm": {
     "name": "#%%\n",
     "is_executing": false
    }
   }
  },
  {
   "cell_type": "code",
   "execution_count": 67,
   "outputs": [],
   "source": [
    "from scipy.interpolate import RegularGridInterpolator\n"
   ],
   "metadata": {
    "collapsed": false,
    "pycharm": {
     "name": "#%%\n",
     "is_executing": false
    }
   }
  },
  {
   "cell_type": "code",
   "execution_count": 68,
   "outputs": [
    {
     "name": "stdout",
     "text": [
      "CPU times: user 253 µs, sys: 2 µs, total: 255 µs\n",
      "Wall time: 262 µs\n"
     ],
     "output_type": "stream"
    }
   ],
   "source": [
    "%%time\n",
    "grid_inter = RegularGridInterpolator((energy, theta, shift), data_mesh)"
   ],
   "metadata": {
    "collapsed": false,
    "pycharm": {
     "name": "#%%\n",
     "is_executing": false
    }
   }
  },
  {
   "cell_type": "code",
   "execution_count": 73,
   "outputs": [
    {
     "data": {
      "text/plain": "[<matplotlib.lines.Line2D at 0x7fbd3ddae390>]"
     },
     "metadata": {},
     "output_type": "execute_result",
     "execution_count": 73
    },
    {
     "data": {
      "text/plain": "<Figure size 432x288 with 1 Axes>",
      "image/png": "[encoded data removed]"
     },
     "metadata": {
      "needs_background": "light"
     },
     "output_type": "display_data"
    }
   ],
   "source": [
    "x = np.zeros(shape=(energy.size, 3))\n",
    "x[:, 0] = energy\n",
    "x[:, 1] = 0.9\n",
    "plt.plot(energy, grid_inter(x))"
   ],
   "metadata": {
    "collapsed": false,
    "pycharm": {
     "name": "#%%\n",
     "is_executing": false
    }
   }
  },
  {
   "cell_type": "code",
   "execution_count": null,
   "outputs": [],
   "source": [
    "\n"
   ],
   "metadata": {
    "collapsed": false,
    "pycharm": {
     "name": "#%%\n"
    }
   }
  }
 ],
 "metadata": {
  "kernelspec": {
   "display_name": "Python 3",
   "language": "python",
   "name": "python3"
  },
  "language_info": {
   "codemirror_mode": {
    "name": "ipython",
    "version": 2
   },
   "file_extension": ".py",
   "mimetype": "text/x-python",
   "name": "python",
   "nbconvert_exporter": "python",
   "pygments_lexer": "ipython2",
   "version": "2.7.6"
  },
  "pycharm": {
   "stem_cell": {
    "cell_type": "raw",
    "source": [],
    "metadata": {
     "collapsed": false
    }
   }
  }
 },
 "nbformat": 4,
 "nbformat_minor": 0
}