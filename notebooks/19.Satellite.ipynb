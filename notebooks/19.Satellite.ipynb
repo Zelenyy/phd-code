{
 "cells": [
  {
   "cell_type": "code",
   "execution_count": 1,
   "metadata": {
    "collapsed": true,
    "pycharm": {
     "is_executing": false
    }
   },
   "outputs": [],
   "source": [
    "import numpy as np\n",
    "import tables\n",
    "import matplotlib.pyplot as plt\n",
    "from mpl_toolkits.mplot3d import Axes3D\n",
    "from phd.satellite.single_processing import load_splitting_likelihood_factory\n",
    "from scipy.optimize import minimize\n",
    "import importlib\n",
    "import phd.satellite.processing.likelihood as lh_mod\n",
    "import phd.satellite.processing.single_processing as sp"
   ]
  },
  {
   "cell_type": "code",
   "execution_count": 2,
   "outputs": [
    {
     "data": {
      "text/plain": "<module 'phd.satellite.processing.likelihood' from '/home/zelenyy/npm/phd/phd-code/python/phd/satellite/processing/likelihood.py'>"
     },
     "metadata": {},
     "output_type": "execute_result",
     "execution_count": 2
    }
   ],
   "source": [
    "importlib.reload(sp)\n",
    "importlib.reload(lh_mod)"
   ],
   "metadata": {
    "collapsed": false,
    "pycharm": {
     "name": "#%%\n",
     "is_executing": false
    }
   }
  },
  {
   "cell_type": "code",
   "execution_count": null,
   "outputs": [],
   "source": [
    "# Реальная геометрия"
   ],
   "metadata": {
    "collapsed": false,
    "pycharm": {
     "name": "#%% md \n"
    }
   }
  },
  {
   "cell_type": "code",
   "execution_count": null,
   "outputs": [],
   "source": [
    "\n"
   ],
   "metadata": {
    "collapsed": false,
    "pycharm": {
     "name": "#%%\n"
    }
   }
  },
  {
   "cell_type": "code",
   "execution_count": 2,
   "outputs": [],
   "source": [
    "path = \"/home/zelenyy/data/satellite/mean_mesh.hdf5\"\n",
    "splitting = [4 for i in range(20)]\n",
    "lh_split = load_splitting_likelihood_factory(path, particle=\"proton\", splitting=splitting)\n",
    "\n",
    "\n"
   ],
   "metadata": {
    "collapsed": false,
    "pycharm": {
     "name": "#%%\n",
     "is_executing": false
    }
   }
  },
  {
   "cell_type": "code",
   "execution_count": 3,
   "outputs": [],
   "source": [
    "event = np.array([lh_split.interpolators_mean[i]([0.7, 0.6, 0.0])[0] for i in range(20)])"
   ],
   "metadata": {
    "collapsed": false,
    "pycharm": {
     "name": "#%%\n",
     "is_executing": false
    }
   }
  },
  {
   "cell_type": "code",
   "execution_count": 25,
   "outputs": [
    {
     "data": {
      "text/plain": "[<matplotlib.lines.Line2D at 0x7fcf80ec0f10>]"
     },
     "metadata": {},
     "output_type": "execute_result",
     "execution_count": 25
    },
    {
     "data": {
      "text/plain": "<Figure size 432x288 with 1 Axes>",
      "image/png": "[encoded data removed]"
     },
     "metadata": {
      "needs_background": "light"
     },
     "output_type": "display_data"
    }
   ],
   "source": [
    "event = np.array([lh_split.interpolators_mean[i]([0.99, 0.585, 0.0])[0] for i in range(20)])\n",
    "plt.plot(event)"
   ],
   "metadata": {
    "collapsed": false,
    "pycharm": {
     "name": "#%%\n",
     "is_executing": false
    }
   }
  },
  {
   "cell_type": "code",
   "execution_count": 20,
   "outputs": [
    {
     "name": "stdout",
     "text": [
      "0.19999999999998863\n"
     ],
     "output_type": "stream"
    },
    {
     "data": {
      "text/plain": "15.569270190919763"
     },
     "metadata": {},
     "output_type": "execute_result",
     "execution_count": 20
    }
   ],
   "source": [
    "print(lh_split.theta_normilizer.unnormalize(0.585))\n",
    "lh_split.energy_normilizer.unnormalize(0.7)\n",
    "event.sum()"
   ],
   "metadata": {
    "collapsed": false,
    "pycharm": {
     "name": "#%%\n",
     "is_executing": false
    }
   }
  },
  {
   "cell_type": "code",
   "execution_count": 4,
   "outputs": [],
   "source": [
    "detector = sp.DetectorCharacter(aperture=30, proton_treshold=4.0, proton_high=100)\n",
    "\n",
    "proccesor = sp.SingleProcessing(lh_split, detector)"
   ],
   "metadata": {
    "collapsed": false,
    "pycharm": {
     "name": "#%%\n",
     "is_executing": false
    }
   }
  },
  {
   "cell_type": "code",
   "execution_count": 5,
   "outputs": [
    {
     "data": {
      "text/plain": "     fun: 0.0\n     jac: array([0., 0., 0.])\n message: 'Optimization terminated successfully.'\n    nfev: 26\n     nit: 5\n    njev: 5\n  status: 0\n success: True\n       x: array([0.97736079, 0.4038252 , 0.06731225])"
     },
     "metadata": {},
     "output_type": "execute_result",
     "execution_count": 5
    }
   ],
   "source": [
    "proccesor.process(event)"
   ],
   "metadata": {
    "collapsed": false,
    "pycharm": {
     "name": "#%%\n",
     "is_executing": false
    }
   }
  },
  {
   "cell_type": "code",
   "execution_count": 13,
   "outputs": [],
   "source": [
    "likelihood = lh_split.build(event)"
   ],
   "metadata": {
    "collapsed": false,
    "pycharm": {
     "name": "#%%\n",
     "is_executing": false
    }
   }
  },
  {
   "cell_type": "code",
   "execution_count": 7,
   "outputs": [],
   "source": [
    "x = np.linspace(0, 1.0, 7)\n"
   ],
   "metadata": {
    "collapsed": false,
    "pycharm": {
     "name": "#%%\n",
     "is_executing": false
    }
   }
  },
  {
   "cell_type": "code",
   "execution_count": 8,
   "outputs": [],
   "source": [
    "lh_grid = []\n",
    "for i in x:\n",
    "    for j in x:\n",
    "        for k in x:\n",
    "           lh_grid.append(likelihood(np.array([i,j,k])))\n",
    "lh_grid = np.array(lh_grid)\n"
   ],
   "metadata": {
    "collapsed": false,
    "pycharm": {
     "name": "#%%\n",
     "is_executing": false
    }
   }
  },
  {
   "cell_type": "code",
   "execution_count": 14,
   "outputs": [],
   "source": [
    "lh_grid = []\n",
    "x = np.linspace(0, 1.0, 300)\n",
    "for i in x:\n",
    "    lh_grid.append(likelihood(np.array([0.7,i,0.0])))\n",
    "lh_grid = np.array(lh_grid)"
   ],
   "metadata": {
    "collapsed": false,
    "pycharm": {
     "name": "#%%\n",
     "is_executing": false
    }
   }
  },
  {
   "cell_type": "code",
   "execution_count": 11,
   "outputs": [
    {
     "data": {
      "text/plain": "[<matplotlib.lines.Line2D at 0x7fcf812d5710>]"
     },
     "metadata": {},
     "output_type": "execute_result",
     "execution_count": 11
    },
    {
     "data": {
      "text/plain": "<Figure size 432x288 with 1 Axes>",
      "image/png": "[encoded data removed]"
     },
     "metadata": {
      "needs_background": "light"
     },
     "output_type": "display_data"
    }
   ],
   "source": [
    "plt.plot(lh_grid)\n",
    "\n"
   ],
   "metadata": {
    "collapsed": false,
    "pycharm": {
     "name": "#%%\n",
     "is_executing": false
    }
   }
  },
  {
   "cell_type": "code",
   "execution_count": 6,
   "outputs": [],
   "source": [
    "import pandas as pd\n",
    "import numpy as np\n",
    "import matplotlib.pyplot as plt\n",
    "import matplotlib as mpl"
   ],
   "metadata": {
    "collapsed": false,
    "pycharm": {
     "name": "#%%\n",
     "is_executing": false
    }
   }
  },
  {
   "cell_type": "code",
   "execution_count": 7,
   "outputs": [],
   "source": [
    "mpl.rcParams[\"font.size\"] = 14"
   ],
   "metadata": {
    "collapsed": false,
    "pycharm": {
     "name": "#%%\n",
     "is_executing": false
    }
   }
  },
  {
   "cell_type": "code",
   "execution_count": 3,
   "outputs": [],
   "source": [
    "df_test = pd.read_hdf('/home/zelenyy/storage/data/sri-satellite/testProton/testEvents.hdf5')"
   ],
   "metadata": {
    "collapsed": false,
    "pycharm": {
     "name": "#%%\n",
     "is_executing": false
    }
   }
  },
  {
   "cell_type": "code",
   "execution_count": 4,
   "outputs": [],
   "source": [
    "res = pd.read_hdf('test_process.hdf5')"
   ],
   "metadata": {
    "collapsed": false,
    "pycharm": {
     "name": "#%%\n",
     "is_executing": false
    }
   }
  },
  {
   "cell_type": "code",
   "execution_count": 5,
   "outputs": [
    {
     "name": "stderr",
     "text": [
      "/home/zelenyy/miniconda3/envs/phd-code/lib/python3.7/site-packages/pandas/core/computation/expressions.py:178: UserWarning: evaluating in Python space because the '*' operator is not supported by numexpr for the bool dtype, use '&' instead\n",
      "  f\"evaluating in Python space because the {repr(op_str)} \"\n"
     ],
     "output_type": "stream"
    }
   ],
   "source": [
    "indx_theta = (res.theta < np.pi/3) & (df_test.shift != 30.0)\n",
    "indx = pd.notnull(res.energy) * indx_theta\n",
    "box_data = []\n",
    "for i in range(100):\n",
    "    temp = res.energy[1000*i:1000*(i+1)][indx[1000*i:1000*(i+1)]]\n",
    "    if i==0:\n",
    "        box_data.append(temp.values)\n",
    "    else:\n",
    "        indx1 = temp != 1.\n",
    "        box_data.append(temp[indx1])"
   ],
   "metadata": {
    "collapsed": false,
    "pycharm": {
     "name": "#%%\n",
     "is_executing": false
    }
   }
  },
  {
   "cell_type": "code",
   "execution_count": 9,
   "outputs": [],
   "source": [
    "mean = []\n",
    "std = []\n",
    "for it in box_data:\n",
    "    mean.append(it.mean())\n",
    "    std.append(it.std())\n",
    "\n",
    "plt.subplots(figsize=(5,5))\n",
    "energy = range(1,101)\n",
    "plt.errorbar(energy, mean, yerr=std, fmt='.', label='Reconstruction')\n",
    "plt.xlabel('Original energy, MeV')\n",
    "plt.ylabel('Reconstructed energy, MeV')\n",
    "x = y = np.arange(1,100)\n",
    "plt.plot(x,y, label= 'x=y')\n",
    "plt.legend()\n",
    "plt.tight_layout()\n",
    "plt.savefig('resolution.pdf', transparent=True, dpi=300);"
   ],
   "metadata": {
    "collapsed": false,
    "pycharm": {
     "name": "#%%\n",
     "is_executing": false
    }
   }
  },
  {
   "cell_type": "code",
   "execution_count": 6,
   "outputs": [
    {
     "data": {
      "text/plain": "14.036243467926479"
     },
     "metadata": {},
     "output_type": "execute_result",
     "execution_count": 6
    }
   ],
   "source": [
    "np.rad2deg(np.arctan(5/20))\n",
    "\n",
    "#%"
   ],
   "metadata": {
    "collapsed": false,
    "pycharm": {
     "name": "#%%\n",
     "is_executing": false
    }
   }
  },
  {
   "cell_type": "code",
   "execution_count": null,
   "outputs": [],
   "source": [
    "\n"
   ],
   "metadata": {
    "collapsed": false,
    "pycharm": {
     "name": "#%%\n"
    }
   }
  }
 ],
 "metadata": {
  "kernelspec": {
   "display_name": "Python 3",
   "language": "python",
   "name": "python3"
  },
  "language_info": {
   "codemirror_mode": {
    "name": "ipython",
    "version": 2
   },
   "file_extension": ".py",
   "mimetype": "text/x-python",
   "name": "python",
   "nbconvert_exporter": "python",
   "pygments_lexer": "ipython2",
   "version": "2.7.6"
  },
  "pycharm": {
   "stem_cell": {
    "cell_type": "raw",
    "source": [],
    "metadata": {
     "collapsed": false
    }
   }
  }
 },
 "nbformat": 4,
 "nbformat_minor": 0
}