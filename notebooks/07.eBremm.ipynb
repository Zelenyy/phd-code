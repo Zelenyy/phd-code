{
 "cells": [
  {
   "cell_type": "code",
   "execution_count": 1,
   "metadata": {},
   "outputs": [
    {
     "name": "stdout",
     "output_type": "stream",
     "text": [
      "\n",
      "**************************************************************\n",
      " Geant4 version Name: geant4-10-04-patch-01    (28-February-2018)\n",
      "                       Copyright : Geant4 Collaboration\n",
      "                      References : NIM A 506 (2003), 250-303\n",
      "                                 : IEEE-TNS 53 (2006), 270-278\n",
      "                                 : NIM A 835 (2016), 186-225\n",
      "                             WWW : http://geant4.org/\n",
      "**************************************************************\n",
      "\n",
      "Visualization Manager instantiating with verbosity \"warnings (3)\"...\n"
     ]
    }
   ],
   "source": [
    "from g4py import emcalculator, EMSTDpl\n",
    "from g4py import NISTmaterials, ezgeom\n",
    "\n",
    "from Geant4 import electron_mass_c2, twopi\n",
    "from Geant4 import gEmCalculator, gRunManager, gRunManagerKernel, gNistManager\n",
    "from Geant4.G4materials import G4Material, G4Element\n",
    "from Geant4.G4global import G4String\n",
    "from Geant4 import MeV, microbarn, barn, meter, centimeter, cm2, gram, cm3, kilogram, meter3, cm\n",
    "from Geant4.G4particles import G4ParticleTable\n",
    "from Geant4.hepunit import electron_charge, kilovolt, keV\n",
    "\n",
    "from numpy import ndarray\n",
    "import numpy as np\n",
    "import matplotlib.pyplot as plt\n",
    "%matplotlib inline"
   ]
  },
  {
   "cell_type": "code",
   "execution_count": 2,
   "metadata": {},
   "outputs": [
    {
     "data": {
      "text/plain": [
       "True"
      ]
     },
     "execution_count": 2,
     "metadata": {},
     "output_type": "execute_result"
    }
   ],
   "source": [
    "NISTmaterials.Construct()\n",
    "ezgeom.Construct()\n",
    "EMSTDpl.Construct()\n",
    "\n",
    "#Ищем материал\n",
    "matName = G4String(\"G4_AIR\")\n",
    "material = gNistManager.FindOrBuildMaterial(matName)\n",
    "\n",
    "ezgeom.SetWorldMaterial(material)\n",
    "gRunManager.Initialize()\n",
    "gRunManagerKernel.RunInitialization()"
   ]
  },
  {
   "cell_type": "code",
   "execution_count": 4,
   "metadata": {},
   "outputs": [],
   "source": [
    "\n",
    "def crossSection(ekin):\n",
    "    particle = \"e-\"\n",
    "    process = \"eBrem\"\n",
    "    # расчет сечения для атома!! Для матриала нужно пересчитать с учтетом его состава\n",
    "    element = gNistManager.FindOrBuildMaterial(\"G4_C\").GetElementVector()[0]\n",
    "    return gEmCalculator.ComputeCrossSectionPerAtom(float(ekin), \n",
    "                                             G4String(particle),\n",
    "                                             G4String(process),\n",
    "                                             element) / barn\n",
    "\n",
    "crossSection = np.vectorize(crossSection)"
   ]
  },
  {
   "cell_type": "code",
   "execution_count": 5,
   "metadata": {},
   "outputs": [
    {
     "name": "stdout",
     "output_type": "stream",
     "text": [
      "Сечение тормозного излучения: 3.383583816257568 barn\n"
     ]
    }
   ],
   "source": [
    "print(\"Сечение тормозного излучения: \" +str(crossSection(1.)) + \" barn\")"
   ]
  },
  {
   "cell_type": "code",
   "execution_count": 26,
   "metadata": {},
   "outputs": [],
   "source": [
    "\n",
    "def deDx(ekin):\n",
    "    particle = \"e-\"\n",
    "    return gEmCalculator.ComputeElectronicDEDX(float(ekin), \n",
    "                                             G4String(particle),\n",
    "                                             G4String(\"G4_C\"),\n",
    "                                             ) / (MeV/cm)\n",
    "\n",
    "deDx = np.vectorize(deDx)"
   ]
  },
  {
   "cell_type": "code",
   "execution_count": 5,
   "metadata": {},
   "outputs": [],
   "source": [
    "def deDxTotal(ekin, matName = \"G4_AIR\"):\n",
    "    particle = \"e-\"\n",
    "    matName = G4String(matName)\n",
    "    material = gNistManager.FindOrBuildMaterial(matName)\n",
    "    return gEmCalculator.ComputeTotalDEDX(float(ekin), \n",
    "                                             G4String(particle),\n",
    "                                             matName,\n",
    "                                             ) / (MeV/cm)\n",
    "\n",
    "deDxTotal = np.vectorize(deDxTotal)"
   ]
  },
  {
   "cell_type": "code",
   "execution_count": 9,
   "metadata": {},
   "outputs": [
    {
     "data": {
      "image/png": "[encoded data removed]",
      "text/plain": [
       "<Figure size 432x288 with 1 Axes>"
      ]
     },
     "metadata": {},
     "output_type": "display_data"
    }
   ],
   "source": [
    "# x = np.linspace(0.1, 1000, 10000)\n",
    "# data = deDx(x)\n",
    "# dataTotal = deDxTotal(x)\n",
    "# plt.plot(x,data,)\n",
    "plt.plot(data['energy'],data['ionloss'])\n",
    "plt.yscale('log')\n",
    "plt.xscale('log')\n",
    "plt.grid(True)\n",
    "plt.xlabel('Energy, MeV')\n",
    "plt.ylabel(\"dE/dx, MeV/cm\");"
   ]
  },
  {
   "cell_type": "code",
   "execution_count": 10,
   "metadata": {},
   "outputs": [],
   "source": [
    "data = np.array(zip(x, dataTotal), dtype=[('energy', 'd'), ('ionloss', 'd')])\n",
    "np.save('ion_loss_air', data)"
   ]
  },
  {
   "cell_type": "code",
   "execution_count": 11,
   "metadata": {},
   "outputs": [],
   "source": [
    "data = np.array(zip(x, deDxTotal(x, matName=\"G4_Pb\")), dtype=[('energy', 'd'), ('ionloss', 'd')])\n",
    "np.save('ion_loss_lead', data)"
   ]
  },
  {
   "cell_type": "code",
   "execution_count": 12,
   "metadata": {},
   "outputs": [
    {
     "data": {
      "image/png": "[encoded data removed]",
      "text/plain": [
       "<Figure size 432x288 with 1 Axes>"
      ]
     },
     "metadata": {},
     "output_type": "display_data"
    }
   ],
   "source": [
    "plt.plot(data['energy'],data['ionloss'])\n",
    "plt.yscale('log')\n",
    "plt.xscale('log')\n",
    "plt.grid(True)\n",
    "plt.xlabel('Energy, MeV')\n",
    "plt.ylabel(\"dE/dx, MeV/cm\");"
   ]
  },
  {
   "cell_type": "code",
   "execution_count": null,
   "metadata": {},
   "outputs": [],
   "source": []
  }
 ],
 "metadata": {
  "kernelspec": {
   "display_name": "Python 3",
   "language": "python",
   "name": "python3"
  },
  "language_info": {
   "codemirror_mode": {
    "name": "ipython",
    "version": 3
   },
   "file_extension": ".py",
   "mimetype": "text/x-python",
   "name": "python",
   "nbconvert_exporter": "python",
   "pygments_lexer": "ipython3",
   "version": "3.7.3"
  },
  "toc": {
   "base_numbering": 1,
   "nav_menu": {},
   "number_sections": false,
   "sideBar": false,
   "skip_h1_title": false,
   "title_cell": "Table of Contents",
   "title_sidebar": "Contents",
   "toc_cell": false,
   "toc_position": {},
   "toc_section_display": false,
   "toc_window_display": false
  }
 },
 "nbformat": 4,
 "nbformat_minor": 2
}
